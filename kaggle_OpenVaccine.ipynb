{
  "nbformat": 4,
  "nbformat_minor": 0,
  "metadata": {
    "colab": {
      "name": "kaggle_OpenVaccine.ipynb",
      "provenance": [],
      "collapsed_sections": [],
      "machine_shape": "hm"
    },
    "kernelspec": {
      "name": "python3",
      "display_name": "Python 3"
    },
    "accelerator": "GPU"
  },
  "cells": [
    {
      "cell_type": "code",
      "metadata": {
        "id": "6t_pCj3ovI8o"
      },
      "source": [
        "import os\n",
        "import json\n",
        "from collections import Counter\n",
        "import itertools\n",
        "import pandas as pd\n",
        "import numpy as np\n",
        "import matplotlib.pyplot as plt\n",
        "from tqdm import tqdm\n",
        "\n",
        "pd.options.display.max_rows = 999\n",
        "pd.options.display.max_colwidth = 999"
      ],
      "execution_count": null,
      "outputs": []
    },
    {
      "cell_type": "code",
      "metadata": {
        "id": "no_iMKit-Gxq"
      },
      "source": [
        "from sklearn.model_selection import train_test_split, KFold, RepeatedKFold, ParameterGrid"
      ],
      "execution_count": null,
      "outputs": []
    },
    {
      "cell_type": "code",
      "metadata": {
        "id": "jmRZ_F5yxXRV"
      },
      "source": [
        "import torch\n",
        "import torch.nn as nn\n",
        "import torch.nn.functional as F\n",
        "import torch.optim as optim\n",
        "from torch.utils.data import Dataset, DataLoader\n",
        "\n",
        "torch.manual_seed(1)\n",
        "use_cuda = torch.cuda.is_available()\n",
        "device = torch.device(\"cuda:0\" if use_cuda else \"cpu\")"
      ],
      "execution_count": null,
      "outputs": []
    },
    {
      "cell_type": "code",
      "metadata": {
        "id": "JDgDmZJ4vSVk",
        "outputId": "663ca673-dc04-4e61-8160-e07390775a1e",
        "colab": {
          "base_uri": "https://localhost:8080/",
          "height": 34
        }
      },
      "source": [
        "from google.colab import drive\n",
        "drive.mount('/content/drive')"
      ],
      "execution_count": null,
      "outputs": [
        {
          "output_type": "stream",
          "text": [
            "Mounted at /content/drive\n"
          ],
          "name": "stdout"
        }
      ]
    },
    {
      "cell_type": "code",
      "metadata": {
        "id": "rdDzuiemowyJ"
      },
      "source": [
        "# global variables\n",
        "\n",
        "BASE_PATH = './drive/My Drive/Kaggle-Stanford-Covid-Vaccine'"
      ],
      "execution_count": null,
      "outputs": []
    },
    {
      "cell_type": "code",
      "metadata": {
        "id": "iwuyG-7QvV4D",
        "outputId": "7218094d-23a8-4426-9138-06430a36f5c2",
        "colab": {
          "base_uri": "https://localhost:8080/",
          "height": 51
        }
      },
      "source": [
        "# load data\n",
        "\n",
        "train = pd.read_json(f\"{BASE_PATH}/input_data/train.json\", lines=True)\n",
        "test = pd.read_json(f\"{BASE_PATH}/input_data/test.json\", lines=True)\n",
        "sample_submission = pd.read_csv(f'{BASE_PATH}/input_data/sample_submission.csv')\n",
        "\n",
        "print('Train shapes: ', train.shape)\n",
        "print('Test shapes: ', test.shape)"
      ],
      "execution_count": null,
      "outputs": [
        {
          "output_type": "stream",
          "text": [
            "Train shapes:  (2400, 19)\n",
            "Test shapes:  (3634, 7)\n"
          ],
          "name": "stdout"
        }
      ]
    },
    {
      "cell_type": "code",
      "metadata": {
        "id": "xPVNZQzesImf"
      },
      "source": [
        "# # add the trimer sequence\n",
        "\n",
        "# train['sequence_padded'] = train['sequence'].apply(lambda seq: '0'+seq+'0')\n",
        "# train['sequence_padded'] = train['sequence_padded'].apply(lambda seq: [seq[i-1]+seq[i]+seq[i+1] for i in range(1, len(seq)-1)])\n",
        "\n",
        "# test['sequence_padded'] = test['sequence'].apply(lambda seq: '0'+seq+'0')\n",
        "# test['sequence_padded'] = test['sequence_padded'].apply(lambda seq: [seq[i-1]+seq[i]+seq[i+1] for i in range(1, len(seq)-1)])"
      ],
      "execution_count": null,
      "outputs": []
    },
    {
      "cell_type": "markdown",
      "metadata": {
        "id": "X8SDmmmEdUTI"
      },
      "source": [
        "## Feature Tabulation"
      ]
    },
    {
      "cell_type": "code",
      "metadata": {
        "id": "oWugeW9ggYU3"
      },
      "source": [
        "def get_bppm(id_):\n",
        "    return np.load(f\"{BASE_PATH}/input_data/bpps/{id_}.npy\")\n",
        "\n",
        "def get_structure(structure: str):\n",
        "    pm = np.zeros((len(structure), len(structure)))\n",
        "    start_token_indices = []\n",
        "    for i, token in enumerate(structure):\n",
        "        if token == \"(\":\n",
        "            start_token_indices.append(i)\n",
        "        elif token == \")\":\n",
        "            j = start_token_indices.pop()\n",
        "            pm[i, j] = 1.0\n",
        "            pm[j, i] = 1.0\n",
        "    return pm\n",
        "\n",
        "def get_bppm_feats(df, base_len=107):\n",
        "    bppm = np.zeros((df['id'].nunique(), base_len, 4))\n",
        "\n",
        "    for i, id_ in tqdm(enumerate(df['id'].unique())):\n",
        "        img = get_bppm(id_)\n",
        "        maxv = np.max(img, axis=1, keepdims=True)\n",
        "        argmaxv = np.expand_dims(np.argmax(img, axis=1), axis=1)\n",
        "        sumv = np.sum(img, axis=1, keepdims=True)\n",
        "        stdv = np.std(img, axis=1, keepdims=True)\n",
        "        bppm_stats = np.concatenate([maxv, argmaxv, sumv, stdv], axis=1)[:base_len, :]\n",
        "\n",
        "        bppm[i] = bppm_stats\n",
        "    return bppm"
      ],
      "execution_count": null,
      "outputs": []
    },
    {
      "cell_type": "code",
      "metadata": {
        "id": "c_fO20V8glTH",
        "outputId": "38558fef-eafe-4ffd-c22b-975eb4cf0c49",
        "colab": {
          "base_uri": "https://localhost:8080/",
          "height": 68
        }
      },
      "source": [
        "%%time\n",
        "\n",
        "# tabulate the training bppm features (SN_filter == 1)\n",
        "\n",
        "bppm_train = get_bppm_feats(train.loc[train.SN_filter == 1])\n",
        "np.save(f\"{BASE_PATH}/processed_data/bppm_train.npy\", bppm_train)"
      ],
      "execution_count": null,
      "outputs": [
        {
          "output_type": "stream",
          "text": [
            "1589it [00:02, 677.65it/s]"
          ],
          "name": "stderr"
        },
        {
          "output_type": "stream",
          "text": [
            "CPU times: user 1.02 s, sys: 322 ms, total: 1.34 s\n",
            "Wall time: 2.37 s\n"
          ],
          "name": "stdout"
        },
        {
          "output_type": "stream",
          "text": [
            "\n"
          ],
          "name": "stderr"
        }
      ]
    },
    {
      "cell_type": "code",
      "metadata": {
        "id": "6gc2YpBVwhr8",
        "outputId": "7588b0d9-e39c-4829-8317-ceb685df3524",
        "colab": {
          "base_uri": "https://localhost:8080/",
          "height": 68
        }
      },
      "source": [
        "%%time\n",
        "\n",
        "# tabulate the training bppm features (SN_filter == 0)\n",
        "\n",
        "bppm_train_0 = get_bppm_feats(train.loc[train.SN_filter == 0])\n",
        "np.save(f\"{BASE_PATH}/processed_data/bppm_train_0.npy\", bppm_train_0)"
      ],
      "execution_count": null,
      "outputs": [
        {
          "output_type": "stream",
          "text": [
            "811it [05:45,  2.34it/s]"
          ],
          "name": "stderr"
        },
        {
          "output_type": "stream",
          "text": [
            "CPU times: user 1.96 s, sys: 505 ms, total: 2.46 s\n",
            "Wall time: 5min 45s\n"
          ],
          "name": "stdout"
        },
        {
          "output_type": "stream",
          "text": [
            "\n"
          ],
          "name": "stderr"
        }
      ]
    },
    {
      "cell_type": "code",
      "metadata": {
        "id": "4uMytzttiHIQ",
        "outputId": "da75e586-4e05-4a5a-9029-eda80d34c298",
        "colab": {
          "base_uri": "https://localhost:8080/",
          "height": 85
        }
      },
      "source": [
        "%%time\n",
        "\n",
        "# tabulate the test bppm features\n",
        "\n",
        "public_df = test.query(\"seq_length == 107\").copy()\n",
        "private_df = test.query(\"seq_length == 130\").copy()\n",
        "\n",
        "bppm_public = get_bppm_feats(public_df, 107)\n",
        "bppm_private = get_bppm_feats(private_df, 130)\n",
        "\n",
        "np.save(f\"{BASE_PATH}/processed_data/bppm_public.npy\", bppm_public)\n",
        "np.save(f\"{BASE_PATH}/processed_data/bppm_private.npy\", bppm_private)"
      ],
      "execution_count": null,
      "outputs": [
        {
          "output_type": "stream",
          "text": [
            "629it [00:00, 702.91it/s]\n",
            "3005it [00:05, 595.42it/s]"
          ],
          "name": "stderr"
        },
        {
          "output_type": "stream",
          "text": [
            "CPU times: user 2.57 s, sys: 770 ms, total: 3.34 s\n",
            "Wall time: 6 s\n"
          ],
          "name": "stdout"
        },
        {
          "output_type": "stream",
          "text": [
            "\n"
          ],
          "name": "stderr"
        }
      ]
    },
    {
      "cell_type": "markdown",
      "metadata": {
        "id": "_ZJ10UiwKc8w"
      },
      "source": [
        "## Ideas to try\n",
        "- Move dense features to the end (model 31, not used)\n",
        "- Different hidden sizes for each RNN layer (model 30)\n",
        "- Conv1D with layer normalization (model 28)\n",
        "- Revert back to without k-mer (model 27)\n",
        "- More and more folds = 3*4*2 (model 25)\n",
        "- More folds = 4*2*2 (model 24)\n",
        "- Remove SN_filter, but use weighted loss (model 23)\n",
        "- Encode k-mer of RNA (model 22)\n",
        "- Augmentation\n",
        "- Weighted loss = log(1+signal_to_noise+eps) (model21)\n",
        "- Weighted loss = signal_to_noise (model20)\n",
        "- GRU (model18, model19)\n",
        "- Add Conv1D layer (model17, not used >= model 19)\n",
        "- Different Embedding initialization (model16, not used)\n",
        "- Add repeats to k-fold (model15)\n",
        "- More BPPS features (model14)\n",
        "- Use 4 CV models to ensemble (model13)\n",
        "- Change metrics back to 5-MCRMSE (model12)\n",
        "- BPPS (model11)\n",
        "- Add spatial dropout 1D (Done)\n",
        "- More features (Done)\n",
        "- Weighted custom loss (Done)"
      ]
    },
    {
      "cell_type": "markdown",
      "metadata": {
        "id": "nRpdzwPoSbYu"
      },
      "source": [
        "## Feature Engineering"
      ]
    },
    {
      "cell_type": "markdown",
      "metadata": {
        "id": "WxgM9XDaV3po"
      },
      "source": [
        "### 1. Dense feature"
      ]
    },
    {
      "cell_type": "code",
      "metadata": {
        "id": "mwrowr00Jl9a"
      },
      "source": [
        "def calculate_base_ratio(df):\n",
        "    bases = []\n",
        "\n",
        "    for j in range(len(df)):\n",
        "        counts = dict(Counter(df.iloc[j]['sequence']))\n",
        "        len_seq = len(df.iloc[j]['sequence'])\n",
        "        bases.append((\n",
        "            counts['A'] / len_seq,\n",
        "            counts['G'] / len_seq,\n",
        "            counts['C'] / len_seq,\n",
        "            counts['U'] / len_seq\n",
        "        ))\n",
        "    \n",
        "    return pd.DataFrame(bases, columns=['A_percent', 'G_percent', 'C_percent', 'U_percent'])"
      ],
      "execution_count": null,
      "outputs": []
    },
    {
      "cell_type": "code",
      "metadata": {
        "id": "eiuh1C0IJWOW"
      },
      "source": [
        "def calculate_pairs_rate(df):\n",
        "    pairs_rate = []\n",
        "\n",
        "    for j in range(len(df)):\n",
        "        res = dict(Counter(df.iloc[j]['structure']))\n",
        "        len_half_seq = len(df.iloc[j]['sequence']) / 2\n",
        "        pairs_rate.append(res['('] / len_half_seq)\n",
        "    \n",
        "    return pd.DataFrame(pairs_rate, columns=['pairs_rate'])"
      ],
      "execution_count": null,
      "outputs": []
    },
    {
      "cell_type": "code",
      "metadata": {
        "id": "ipPqysLoKkkX"
      },
      "source": [
        "def calculate_all_pairs(df):\n",
        "    pairs = []\n",
        "    for j in range(len(df)):\n",
        "        partners = [-1 for i in range(130)]\n",
        "        pairs_dict = {}\n",
        "        queue = []\n",
        "        for i in range(0, len(df.iloc[j]['structure'])):\n",
        "            if df.iloc[j]['structure'][i] == '(':\n",
        "                queue.append(i)\n",
        "            if df.iloc[j]['structure'][i] == ')':\n",
        "                first = queue.pop()\n",
        "                try:\n",
        "                    pairs_dict[(df.iloc[j]['sequence'][first], df.iloc[j]['sequence'][i])] += 1\n",
        "                except:\n",
        "                    pairs_dict[(df.iloc[j]['sequence'][first], df.iloc[j]['sequence'][i])] = 1\n",
        "                    \n",
        "                partners[first] = i\n",
        "                partners[i] = first\n",
        "\n",
        "        pairs_num = 0\n",
        "        pairs_unique = [('U', 'G'), ('C', 'G'), ('U', 'A'), ('G', 'C'), ('A', 'U'), ('G', 'U')]\n",
        "        for item in pairs_dict:\n",
        "            pairs_num += pairs_dict[item]\n",
        "        add_tuple = list()\n",
        "        for item in pairs_unique:\n",
        "            try:\n",
        "                add_tuple.append(pairs_dict[item]/pairs_num)\n",
        "            except:\n",
        "                add_tuple.append(0)\n",
        "        pairs.append(add_tuple)\n",
        "        \n",
        "    return pd.DataFrame(pairs, columns=['U-G', 'C-G', 'U-A', 'G-C', 'A-U', 'G-U'])"
      ],
      "execution_count": null,
      "outputs": []
    },
    {
      "cell_type": "code",
      "metadata": {
        "id": "tKWQw3_iLrqS"
      },
      "source": [
        "def calculate_loop_type(df):\n",
        "    loops = []\n",
        "    for j in range(len(df)):\n",
        "        counts = dict(Counter(df.iloc[j]['predicted_loop_type']))\n",
        "        seq_len = len(df.iloc[j]['predicted_loop_type'])\n",
        "        available = ['E', 'S', 'H', 'B', 'X', 'I', 'M']\n",
        "        row = []\n",
        "        for item in available:\n",
        "            try:\n",
        "                row.append(counts[item] / seq_len)\n",
        "            except:\n",
        "                row.append(0)\n",
        "        loops.append(row)\n",
        "        \n",
        "    return pd.DataFrame(loops, columns=available)"
      ],
      "execution_count": null,
      "outputs": []
    },
    {
      "cell_type": "markdown",
      "metadata": {
        "id": "0MdDzdRAIRDA"
      },
      "source": [
        "### 2. Sparse feature encoding"
      ]
    },
    {
      "cell_type": "code",
      "metadata": {
        "id": "iHUMxCxL_HBD"
      },
      "source": [
        "# # get all the unique tokens\n",
        "\n",
        "# # RNA trimers\n",
        "# token2int = set()\n",
        "# for sequence_padded in train['sequence_padded'].values.tolist() + test['sequence_padded'].values.tolist():\n",
        "#     for trimer in sequence_padded:\n",
        "#         if trimer not in token2int:\n",
        "#             token2int.add(trimer)\n",
        "\n",
        "# # Add single tokens\n",
        "# token2int = set([x for x in '().ACGUBEHIMSX']) | token2int\n",
        "# token2int = {x:i for i, x in enumerate(token2int)}\n",
        "\n",
        "# print(len(token2int))"
      ],
      "execution_count": null,
      "outputs": []
    },
    {
      "cell_type": "code",
      "metadata": {
        "id": "xLl7Vx_BjWVR",
        "outputId": "7a1f3317-606e-4b9b-e8f3-1e4685f2b5a6",
        "colab": {
          "base_uri": "https://localhost:8080/",
          "height": 34
        }
      },
      "source": [
        "# token2int without trimers (14 tokens)\n",
        "\n",
        "token2int = {x:i for i, x in enumerate('().ACGUBEHIMSX')}\n",
        "print(len(token2int))"
      ],
      "execution_count": null,
      "outputs": [
        {
          "output_type": "stream",
          "text": [
            "14\n"
          ],
          "name": "stdout"
        }
      ]
    },
    {
      "cell_type": "code",
      "metadata": {
        "id": "TJcVGNRdS8Pi"
      },
      "source": [
        "def preprocess_inputs(df, cols=['sequence', 'structure', 'predicted_loop_type']):\n",
        "\n",
        "    return np.transpose(\n",
        "                np.array(df[cols].applymap(lambda seq: [token2int[x] for x in seq]).values.tolist()),\n",
        "                (0, 2, 1)\n",
        "            )"
      ],
      "execution_count": null,
      "outputs": []
    },
    {
      "cell_type": "markdown",
      "metadata": {
        "id": "OGZWk6LMiOwx"
      },
      "source": [
        "### 3. BPPM features"
      ]
    },
    {
      "cell_type": "code",
      "metadata": {
        "id": "TyjtAfohdOLz",
        "outputId": "038e77af-8c6c-4328-9784-a3929a165d4a",
        "colab": {
          "base_uri": "https://localhost:8080/",
          "height": 34
        }
      },
      "source": [
        "# load tabulated features\n",
        "\n",
        "bppm_train = np.load(f\"{BASE_PATH}/processed_data/bppm_train.npy\")\n",
        "bppm_train_0 = np.load(f\"{BASE_PATH}/processed_data/bppm_train_0.npy\")\n",
        "bppm_public = np.load(f\"{BASE_PATH}/processed_data/bppm_public.npy\")\n",
        "bppm_private = np.load(f\"{BASE_PATH}/processed_data/bppm_private.npy\")\n",
        "\n",
        "print(bppm_train.shape, bppm_train_0.shape, bppm_public.shape, bppm_private.shape)"
      ],
      "execution_count": null,
      "outputs": [
        {
          "output_type": "stream",
          "text": [
            "(1589, 107, 4) (811, 107, 4) (629, 107, 4) (3005, 130, 4)\n"
          ],
          "name": "stdout"
        }
      ]
    },
    {
      "cell_type": "markdown",
      "metadata": {
        "id": "NjHxYdyPiTjV"
      },
      "source": [
        "### 4. Combine all the above"
      ]
    },
    {
      "cell_type": "code",
      "metadata": {
        "id": "BUFayT3IVssv"
      },
      "source": [
        "def calculate_all_features(df, np_bppm):\n",
        "\n",
        "    # sparse features\n",
        "    sparse_features = preprocess_inputs(df)\n",
        "    seq_len = sparse_features.shape[1]\n",
        "\n",
        "    # dense features\n",
        "    bases = calculate_base_ratio(df)\n",
        "    pairs_rate = calculate_pairs_rate(df)\n",
        "    all_pairs = calculate_all_pairs(df)\n",
        "    loops = calculate_loop_type(df)\n",
        "    dense_features = np.array(pd.concat([bases, all_pairs, loops, pairs_rate], axis=1))\n",
        "    dense_features = np.concatenate([np.expand_dims(dense_features, axis=1)]*seq_len, axis=1)\n",
        "\n",
        "    # bppm features\n",
        "    bppm_features = np_bppm\n",
        "\n",
        "    return np.concatenate((sparse_features, dense_features, bppm_features), axis=-1)"
      ],
      "execution_count": null,
      "outputs": []
    },
    {
      "cell_type": "code",
      "metadata": {
        "id": "U1SNqzXZYheu",
        "outputId": "c4d4cf54-f759-47fb-e2ab-e6c374066dd2",
        "colab": {
          "base_uri": "https://localhost:8080/",
          "height": 68
        }
      },
      "source": [
        "%%time\n",
        "\n",
        "# process features\n",
        "\n",
        "train_inputs_1 = calculate_all_features(train.loc[train['SN_filter'] == 1], bppm_train)\n",
        "train_inputs_0 = calculate_all_features(train.loc[train['SN_filter'] == 0], bppm_train_0)\n",
        "\n",
        "print(train_inputs_1.shape, train_inputs_0.shape)"
      ],
      "execution_count": null,
      "outputs": [
        {
          "output_type": "stream",
          "text": [
            "(1589, 107, 25) (811, 107, 25)\n",
            "CPU times: user 1min 35s, sys: 0 ns, total: 1min 35s\n",
            "Wall time: 1min 35s\n"
          ],
          "name": "stdout"
        }
      ]
    },
    {
      "cell_type": "code",
      "metadata": {
        "id": "Y1Pmf8hCZETb"
      },
      "source": [
        "# process labels\n",
        "\n",
        "target_cols = ['reactivity', 'deg_Mg_pH10', 'deg_Mg_50C', 'deg_pH10', 'deg_50C']\n",
        "\n",
        "train_labels_1 = np.array(train.loc[train['SN_filter'] == 1][target_cols].values.tolist()).transpose((0, 2, 1))\n",
        "train_labels_0 = np.array(train.loc[train['SN_filter'] == 0][target_cols].values.tolist()).transpose((0, 2, 1))"
      ],
      "execution_count": null,
      "outputs": []
    },
    {
      "cell_type": "code",
      "metadata": {
        "id": "ZeKsTCm-O9bL",
        "outputId": "8a182cbf-f014-4e08-df64-06bb7b44a8b1",
        "colab": {
          "base_uri": "https://localhost:8080/",
          "height": 34
        }
      },
      "source": [
        "# process weights\n",
        "\n",
        "eps = 0.104\n",
        "train_weights_1 = np.log1p(np.array(train.loc[train['SN_filter'] == 1]['signal_to_noise'].values + eps))\n",
        "train_weights_1 = np.expand_dims(np.column_stack([train_weights_1]*train_labels_1.shape[1]), axis=2)\n",
        "\n",
        "train_weights_0 = np.log1p(np.array(train.loc[train['SN_filter'] == 0]['signal_to_noise'].values + eps))\n",
        "train_weights_0 = np.expand_dims(np.column_stack([train_weights_0]*train_labels_0.shape[1]), axis=2)\n",
        "\n",
        "print(train_weights_1.shape, train_weights_0.shape)"
      ],
      "execution_count": null,
      "outputs": [
        {
          "output_type": "stream",
          "text": [
            "(1589, 68, 1) (811, 68, 1)\n"
          ],
          "name": "stdout"
        }
      ]
    },
    {
      "cell_type": "code",
      "metadata": {
        "id": "xvkp34ysBbLs",
        "outputId": "bc7e5066-6b7a-4834-e421-899c17817772",
        "colab": {
          "base_uri": "https://localhost:8080/",
          "height": 34
        }
      },
      "source": [
        "print(train_inputs_1.shape, train_inputs_0.shape, train_labels_1.shape, train_labels_0.shape, train_weights_1.shape, train_weights_0.shape)"
      ],
      "execution_count": null,
      "outputs": [
        {
          "output_type": "stream",
          "text": [
            "(1589, 107, 25) (811, 107, 25) (1589, 68, 5) (811, 68, 5) (1589, 68, 1) (811, 68, 1)\n"
          ],
          "name": "stdout"
        }
      ]
    },
    {
      "cell_type": "markdown",
      "metadata": {
        "id": "ZJsDxzWXTtCg"
      },
      "source": [
        "## Build the model"
      ]
    },
    {
      "cell_type": "code",
      "metadata": {
        "id": "fwOAccaB7S9K"
      },
      "source": [
        "class RNADataset(Dataset):\n",
        "    def __init__(self, X, Y, weights):\n",
        "        self.X = X\n",
        "        self.y = Y\n",
        "        self.weights = weights\n",
        "        \n",
        "    def __len__(self):\n",
        "        return len(self.y)\n",
        "    \n",
        "    def __getitem__(self, idx):\n",
        "        return self.X[idx], self.y[idx], self.weights[idx]"
      ],
      "execution_count": null,
      "outputs": []
    },
    {
      "cell_type": "code",
      "metadata": {
        "id": "dW4dwXAgAX_H"
      },
      "source": [
        "# global constants\n",
        "\n",
        "TOKEN_SIZE = 14\n",
        "INPUT_SIZE = 3\n",
        "DENSE_SIZE = 22\n",
        "OUTPUT_SIZE = 5"
      ],
      "execution_count": null,
      "outputs": []
    },
    {
      "cell_type": "code",
      "metadata": {
        "id": "BqaQ1FErU0aX"
      },
      "source": [
        "class OpenVaccineModel(nn.Module):\n",
        "    def __init__(self, embedding_size, spatial_dropout, rnn_params):\n",
        "        super().__init__()\n",
        "\n",
        "        self.embedding_size = embedding_size\n",
        "        self.embeddings = nn.Embedding(TOKEN_SIZE, embedding_size)\n",
        "        #nn.init.uniform_(self.embeddings.weight, -0.05, 0.05)\n",
        "\n",
        "        self.dropout2d = nn.Dropout2d(spatial_dropout)\n",
        "\n",
        "        self.rnn_layers = []\n",
        "        input_dim = INPUT_SIZE*embedding_size+DENSE_SIZE\n",
        "\n",
        "        for param_dict in rnn_params:\n",
        "            if param_dict['rnn_type'] == 'LSTM':\n",
        "                rnn_layer = nn.LSTM(\n",
        "                    input_dim,\n",
        "                    param_dict['hidden_size'],\n",
        "                    batch_first=True,\n",
        "                    dropout=param_dict['rnn_dropout'],\n",
        "                    bidirectional=True\n",
        "                )\n",
        "            elif param_dict['rnn_type'] == 'GRU':\n",
        "                rnn_layer = nn.GRU(\n",
        "                    input_dim,\n",
        "                    param_dict['hidden_size'],\n",
        "                    batch_first=True,\n",
        "                    dropout=param_dict['rnn_dropout'],\n",
        "                    bidirectional=True\n",
        "                )\n",
        "            else:\n",
        "                print(\"The RNN type input is not supported. Choose between LSTM and GRU\")\n",
        "            \n",
        "            self.rnn_layers.append(rnn_layer)\n",
        "            input_dim = 2*param_dict['hidden_size']\n",
        "\n",
        "        self.rnn_layers = nn.ModuleList(self.rnn_layers)\n",
        "\n",
        "        # if rnn_type == 'LSTM':\n",
        "        #     self.rnn = nn.LSTM(\n",
        "        #         INPUT_SIZE*embedding_size+DENSE_SIZE,\n",
        "        #         hidden_size,\n",
        "        #         num_layers,\n",
        "        #         batch_first=True,\n",
        "        #         dropout=rnn_dropout,\n",
        "        #         bidirectional=True\n",
        "        #     )\n",
        "        # elif rnn_type == 'GRU':\n",
        "        #     self.rnn = nn.GRU(\n",
        "        #         INPUT_SIZE*embedding_size+DENSE_SIZE,\n",
        "        #         hidden_size,\n",
        "        #         num_layers,\n",
        "        #         batch_first=True,\n",
        "        #         dropout=rnn_dropout,\n",
        "        #         bidirectional=True\n",
        "        #     )\n",
        "        # else:\n",
        "        #     print(\"The RNN type input is not supported. Choose between LSTM and GRU\")\n",
        "\n",
        "        self.linear = nn.Linear(2*param_dict['hidden_size'], OUTPUT_SIZE)\n",
        "\n",
        "    def forward(self, x, pred_len=68):\n",
        "        # x = (batch_size, seq_len, input_size+dense_size)\n",
        "        x_sparse = x[:,:,:INPUT_SIZE].long()\n",
        "        x_dense = x[:,:,INPUT_SIZE:]\n",
        "\n",
        "        # embeds = (batch_size, seq_len, input_size*embedding_size)\n",
        "        embeds = self.embeddings(x_sparse)\n",
        "        embeds = torch.reshape(embeds, (embeds.shape[0], embeds.shape[1], -1))\n",
        "\n",
        "        # spatial dropout 1d\n",
        "        # dropout_output = (batch_size, seq_len, input_size*embedding_size)\n",
        "        dropout_output = self.dropout2d(embeds.permute(0, 2, 1)).permute(0, 2, 1)\n",
        "\n",
        "        # rnn_input = (batch_size, seq_len, input_size*embedding_size+dense_size)\n",
        "        rnn_input = torch.cat((dropout_output, x_dense), -1).float()\n",
        "\n",
        "        # rnn_output = (batch_size, seq_len, hidden_size)\n",
        "        #rnn_out, hidden = self.rnn(rnn_input)\n",
        "        for i in range(len(self.rnn_layers)):\n",
        "            rnn_out, hidden = self.rnn_layers[i](rnn_input)\n",
        "            rnn_input = rnn_out\n",
        "\n",
        "        # truncated = (batch_size, pred_len, input_size*embedding_size+dense_size)\n",
        "        # prediction = (batch_size, seq_len, output_size)\n",
        "        truncated = rnn_out[:, :pred_len, :]\n",
        "        predictions = self.linear(truncated)\n",
        "\n",
        "        return predictions"
      ],
      "execution_count": null,
      "outputs": []
    },
    {
      "cell_type": "code",
      "metadata": {
        "id": "HdSz3mSVdWEe"
      },
      "source": [
        "# MCRMSE with sample weights\n",
        "\n",
        "def MCRMSE(preds, labels, weights, num_scored=5):\n",
        "    score = 0\n",
        "    for i in range(num_scored):\n",
        "        score += torch.sqrt((weights[:,:,0] * (preds[:,:,i] - labels[:,:,i])**2).sum() / weights.sum()) / num_scored\n",
        "\n",
        "    return score"
      ],
      "execution_count": null,
      "outputs": []
    },
    {
      "cell_type": "code",
      "metadata": {
        "id": "cNjYV8xRVdSE",
        "outputId": "684e4cfe-6e27-40d0-a573-e27e41ce1ccd",
        "colab": {
          "base_uri": "https://localhost:8080/",
          "height": 88
        }
      },
      "source": [
        "# test model output dimensions\n",
        "\n",
        "rnn_params = [\n",
        "    {'rnn_type': 'LSTM', 'hidden_size': 256, 'rnn_dropout': 0.2},\n",
        "    {'rnn_type': 'LSTM', 'hidden_size': 256, 'rnn_dropout': 0.2},\n",
        "    {'rnn_type': 'LSTM', 'hidden_size': 256, 'rnn_dropout': 0.2},\n",
        "    {'rnn_type': 'LSTM', 'hidden_size': 256, 'rnn_dropout': 0.0},\n",
        "]\n",
        "\n",
        "model = OpenVaccineModel(\n",
        "    embedding_size=64,\n",
        "    spatial_dropout=0.4,\n",
        "    rnn_params=rnn_params\n",
        ").to(device)\n",
        "\n",
        "inputs = torch.tensor(train_inputs_1[0:32]).to(device)\n",
        "weights = torch.tensor(train_weights_1[0:32]).to(device)\n",
        "\n",
        "with torch.no_grad():\n",
        "    outputs = model(inputs)\n",
        "    print(outputs.shape)"
      ],
      "execution_count": null,
      "outputs": [
        {
          "output_type": "stream",
          "text": [
            "/usr/local/lib/python3.6/dist-packages/torch/nn/modules/rnn.py:60: UserWarning: dropout option adds dropout after all but last recurrent layer, so non-zero dropout expects num_layers greater than 1, but got dropout=0.2 and num_layers=1\n",
            "  \"num_layers={}\".format(dropout, num_layers))\n"
          ],
          "name": "stderr"
        },
        {
          "output_type": "stream",
          "text": [
            "torch.Size([32, 68, 5])\n"
          ],
          "name": "stdout"
        }
      ]
    },
    {
      "cell_type": "code",
      "metadata": {
        "id": "fw_PVtK8pSQq",
        "outputId": "bf8e7515-6ce1-4abd-a58c-41914cecf91b",
        "colab": {
          "base_uri": "https://localhost:8080/",
          "height": 34
        }
      },
      "source": [
        "# number of parameters in this model\n",
        "\n",
        "model_parameters = filter(lambda p: p.requires_grad, model.parameters())\n",
        "params = sum([np.prod(p.size()) for p in model_parameters])\n",
        "print(params)"
      ],
      "execution_count": null,
      "outputs": [
        {
          "output_type": "stream",
          "text": [
            "5700997\n"
          ],
          "name": "stdout"
        }
      ]
    },
    {
      "cell_type": "markdown",
      "metadata": {
        "id": "Z-I6Qct17i-k"
      },
      "source": [
        "## Train the model"
      ]
    },
    {
      "cell_type": "code",
      "metadata": {
        "id": "0s7oYSsQ9Ipk"
      },
      "source": [
        "def train_model_cross_val(params, train_data_1, train_data_0, num_fold, n_repeats):\n",
        "    \"\"\" train the model using kfold cross validation \"\"\"\n",
        "\n",
        "    # unpack the input\n",
        "    train_inputs_1, train_labels_1, train_weights_1 = train_data_1\n",
        "    train_inputs_0, train_labels_0, train_weights_0 = train_data_0\n",
        "\n",
        "    models = []\n",
        "\n",
        "    # # get a string containing all the parameters as the folder name to store the log/model/file\n",
        "    # all_params = list(params.values())\n",
        "    # all_params_str = \"_\".join([str(x) for x in all_params])\n",
        "    all_params_str = 'training_log'\n",
        "    if not os.path.exists(\"./{}\".format(all_params_str)):\n",
        "        os.makedirs(\"./{}\".format(all_params_str))\n",
        "    \n",
        "    # split the data into k-fold\n",
        "    #kfold = KFold(num_fold, shuffle=True, random_state=42)\n",
        "    kfold = RepeatedKFold(num_fold, n_repeats, random_state=42)\n",
        "    \n",
        "    loss_oob = np.zeros((num_fold*n_repeats, 1))\n",
        "\n",
        "    # k-fold cross validation training\n",
        "    for k, ((train_index_1, val_index), (train_index_0, _)) in enumerate(zip(kfold.split(train_inputs_1), kfold.split(train_inputs_0))):\n",
        "\n",
        "        # training set = the training fold in both SN_filter == 0 and SN_filter == 1\n",
        "        train_inputs = np.concatenate((train_inputs_1[train_index_1], train_inputs_0[train_index_0]), axis=0)\n",
        "        train_labels = np.concatenate((train_labels_1[train_index_1], train_labels_0[train_index_0]), axis=0)\n",
        "        train_weights = np.concatenate((train_weights_1[train_index_1], train_weights_0[train_index_0]), axis=0)\n",
        "\n",
        "        # train_inputs = train_inputs_1[train_index_1]\n",
        "        # train_labels = train_labels_1[train_index_1]\n",
        "        # train_weights = train_weights_1[train_index_1]\n",
        "\n",
        "        train_ds = RNADataset(train_inputs, train_labels, train_weights)\n",
        "        train_dl = DataLoader(train_ds, batch_size=64, shuffle=True)\n",
        "\n",
        "        # validation set = the validation fold in SN_filter == 1 only\n",
        "        val_ds = RNADataset(train_inputs_1[val_index], train_labels_1[val_index], train_weights_1[val_index])\n",
        "        val_dl = DataLoader(val_ds, batch_size=64, shuffle=True)\n",
        "\n",
        "        # initialize the model\n",
        "        model = OpenVaccineModel(\n",
        "            embedding_size=params['embedding_size'],\n",
        "            spatial_dropout=params['spatial_dropout'],\n",
        "            rnn_params=params['rnn_params']\n",
        "        ).to(device)\n",
        "\n",
        "        # initialize the otpimizer\n",
        "        optimizer = torch.optim.Adam(model.parameters(), lr=params['learning_rate'])\n",
        "\n",
        "        # initialize the log file\n",
        "        log_file = open(\"./{}/log_{}.csv\".format(all_params_str, k), 'w')\n",
        "        log_file.write('epoch,loss_train,loss_val\\n')\n",
        "\n",
        "        # start the training\n",
        "        for i in tqdm(range(params['epochs'])):\n",
        "        #for i in range(params['epochs']):\n",
        "\n",
        "            # training\n",
        "            model.train()\n",
        "            sum_loss, num_samples = 0.0, 0\n",
        "            for x, y, weights in train_dl:\n",
        "                x, y, weights = x.to(device), y.to(device), weights.to(device)\n",
        "                y_pred = model(x)\n",
        "                optimizer.zero_grad()\n",
        "                loss = MCRMSE(y_pred, y, weights)\n",
        "                loss.backward()\n",
        "                optimizer.step()\n",
        "                sum_loss += loss.item()*y.shape[0]\n",
        "                num_samples += y.shape[0]\n",
        "            train_loss = sum_loss/num_samples\n",
        "\n",
        "            # evaluation\n",
        "            model.eval()\n",
        "            sum_loss, num_samples = 0.0, 0\n",
        "\n",
        "            for x, y, weights in val_dl:\n",
        "                x, y, weights = x.to(device), y.to(device), weights.to(device)\n",
        "                y_pred = model(x)\n",
        "                loss = MCRMSE(y_pred, y, weights)\n",
        "                sum_loss += loss.item()*y.shape[0]\n",
        "                num_samples += y.shape[0]\n",
        "            val_loss = sum_loss/num_samples\n",
        "\n",
        "            # write stats to log\n",
        "            log_file.write('{},{:.4f},{:.4f}\\n'.format(i, train_loss, val_loss))\n",
        "            #print(\"Fold {}, Epoch {}, Train loss {:.5f}, Validation loss {:.5f}\".format(k, i, train_loss, val_loss))\n",
        "            \n",
        "        log_file.close()\n",
        "\n",
        "        # get final validation set stats\n",
        "        loss_oob[k] = val_loss\n",
        "\n",
        "        # save the model\n",
        "        models.append(model)\n",
        "\n",
        "    return models, loss_oob"
      ],
      "execution_count": null,
      "outputs": []
    },
    {
      "cell_type": "code",
      "metadata": {
        "id": "SIkkEjgvJdUq"
      },
      "source": [
        "def visualize_learning_curve(params, num_fold):\n",
        "\n",
        "    all_params = list(params.values())\n",
        "    all_params_str = \"_\".join([str(x) for x in all_params])\n",
        "\n",
        "    fig, ax = plt.subplots(1, 1, figsize=(7, 4))\n",
        "    if num_fold == -1:\n",
        "        df = pd.read_csv('./{}/log_final.csv'.format(all_params_str))\n",
        "        df.plot(x='epoch', y='loss_train', ax=ax, color='red');\n",
        "    else:\n",
        "        for k in range(num_fold):\n",
        "            df = pd.read_csv('./{}/log_{}.csv'.format(all_params_str, k))\n",
        "            df.plot(x='epoch', y='loss_train', ax=ax, color='red');\n",
        "            df.plot(x='epoch', y='loss_val', ax=ax, color='blue');"
      ],
      "execution_count": null,
      "outputs": []
    },
    {
      "cell_type": "code",
      "metadata": {
        "id": "uWT3jDFXHtRX"
      },
      "source": [
        "# hyperparameters\n",
        "\n",
        "rnn_params1 = [\n",
        "    {'rnn_type': 'GRU', 'hidden_size': 192, 'rnn_dropout': 0.2},\n",
        "    {'rnn_type': 'GRU', 'hidden_size': 256, 'rnn_dropout': 0.4},\n",
        "    {'rnn_type': 'GRU', 'hidden_size': 192, 'rnn_dropout': 0.0},\n",
        "]\n",
        "\n",
        "rnn_params2 = [\n",
        "    {'rnn_type': 'GRU', 'hidden_size': 192, 'rnn_dropout': 0.2},\n",
        "    {'rnn_type': 'GRU', 'hidden_size': 256, 'rnn_dropout': 0.4},\n",
        "    {'rnn_type': 'LSTM', 'hidden_size': 192, 'rnn_dropout': 0.0},\n",
        "]\n",
        "\n",
        "rnn_params3 = [\n",
        "    {'rnn_type': 'GRU', 'hidden_size': 192, 'rnn_dropout': 0.2},\n",
        "    {'rnn_type': 'LSTM', 'hidden_size': 256, 'rnn_dropout': 0.4},\n",
        "    {'rnn_type': 'GRU', 'hidden_size': 192, 'rnn_dropout': 0.0},\n",
        "]\n",
        "\n",
        "rnn_params4 = [\n",
        "    {'rnn_type': 'LSTM', 'hidden_size': 192, 'rnn_dropout': 0.2},\n",
        "    {'rnn_type': 'GRU', 'hidden_size': 256, 'rnn_dropout': 0.4},\n",
        "    {'rnn_type': 'GRU', 'hidden_size': 192, 'rnn_dropout': 0.0},\n",
        "]\n",
        "\n",
        "rnn_params5 = [\n",
        "    {'rnn_type': 'GRU', 'hidden_size': 192, 'rnn_dropout': 0.2},\n",
        "    {'rnn_type': 'LSTM', 'hidden_size': 256, 'rnn_dropout': 0.4},\n",
        "    {'rnn_type': 'LSTM', 'hidden_size': 192, 'rnn_dropout': 0.0},\n",
        "]\n",
        "\n",
        "rnn_params6 = [\n",
        "    {'rnn_type': 'LSTM', 'hidden_size': 192, 'rnn_dropout': 0.2},\n",
        "    {'rnn_type': 'GRU', 'hidden_size': 256, 'rnn_dropout': 0.4},\n",
        "    {'rnn_type': 'LSTM', 'hidden_size': 192, 'rnn_dropout': 0.0},\n",
        "]\n",
        "\n",
        "rnn_params7 = [\n",
        "    {'rnn_type': 'LSTM', 'hidden_size': 192, 'rnn_dropout': 0.2},\n",
        "    {'rnn_type': 'LSTM', 'hidden_size': 256, 'rnn_dropout': 0.4},\n",
        "    {'rnn_type': 'GRU', 'hidden_size': 192, 'rnn_dropout': 0.0},\n",
        "]\n",
        "\n",
        "rnn_params8 = [\n",
        "    {'rnn_type': 'LSTM', 'hidden_size': 192, 'rnn_dropout': 0.2},\n",
        "    {'rnn_type': 'LSTM', 'hidden_size': 256, 'rnn_dropout': 0.4},\n",
        "    {'rnn_type': 'LSTM', 'hidden_size': 192, 'rnn_dropout': 0.0},\n",
        "]\n",
        "\n",
        "params_grid = {\n",
        "    'embedding_size': [64],\n",
        "    'spatial_dropout': [0.4],\n",
        "    'learning_rate': [0.001],\n",
        "    'epochs': [50],\n",
        "    'rnn_params': [rnn_params1, rnn_params2, rnn_params3, rnn_params4, rnn_params5, rnn_params6, rnn_params7, rnn_params8]\n",
        "}\n",
        "\n",
        "num_fold = 4\n",
        "n_repeats = 2"
      ],
      "execution_count": null,
      "outputs": []
    },
    {
      "cell_type": "code",
      "metadata": {
        "id": "nD47WhbLw3VQ"
      },
      "source": [
        "# whether to save all the models in the grid for ensembling\n",
        "\n",
        "accumulate_models = True"
      ],
      "execution_count": null,
      "outputs": []
    },
    {
      "cell_type": "code",
      "metadata": {
        "id": "LKBlOaUcDNed",
        "outputId": "fa3ad33a-5201-4595-d21a-2697d5a1528b",
        "colab": {
          "base_uri": "https://localhost:8080/",
          "height": 1000
        }
      },
      "source": [
        "models_ensemble = []\n",
        "df_params = pd.DataFrame(columns=list(params_grid.keys()) + ['rmse_mean', 'rmse_std'])\n",
        "\n",
        "for params in ParameterGrid(params_grid):\n",
        "    print(params)\n",
        "\n",
        "    # train the model using k-fold cross validation\n",
        "    models, rmse_oob = train_model_cross_val(\n",
        "        params,\n",
        "        (train_inputs_1, train_labels_1, train_weights_1),\n",
        "        (train_inputs_0, train_labels_0, train_weights_0),\n",
        "        num_fold,\n",
        "        n_repeats\n",
        "    )\n",
        "\n",
        "    # compute mean and std of the k-fold results\n",
        "    params['rmse_mean'], params['rmse_std'] = np.mean(rmse_oob), np.std(rmse_oob)\n",
        "    print(\"Average RMSE from {}-fold validation is {:.5f} +/- {:.5f}\".format(num_fold, params['rmse_mean'], params['rmse_std']))\n",
        "\n",
        "    # append to the master parameter table\n",
        "    df_params = df_params.append(params, ignore_index=True)\n",
        "\n",
        "    # save the parameter table\n",
        "    df_params.to_csv('{}/df_params.csv'.format(BASE_PATH), index=False)\n",
        "\n",
        "    # save models to the ensemble\n",
        "    if accumulate_models:\n",
        "        models_ensemble.extend(models)\n",
        "    else:\n",
        "        models_ensemble = models"
      ],
      "execution_count": null,
      "outputs": [
        {
          "output_type": "stream",
          "text": [
            "/usr/local/lib/python3.6/dist-packages/torch/nn/modules/rnn.py:60: UserWarning: dropout option adds dropout after all but last recurrent layer, so non-zero dropout expects num_layers greater than 1, but got dropout=0.2 and num_layers=1\n",
            "  \"num_layers={}\".format(dropout, num_layers))\n",
            "/usr/local/lib/python3.6/dist-packages/torch/nn/modules/rnn.py:60: UserWarning: dropout option adds dropout after all but last recurrent layer, so non-zero dropout expects num_layers greater than 1, but got dropout=0.4 and num_layers=1\n",
            "  \"num_layers={}\".format(dropout, num_layers))\n",
            "\r  0%|          | 0/50 [00:00<?, ?it/s]"
          ],
          "name": "stderr"
        },
        {
          "output_type": "stream",
          "text": [
            "{'embedding_size': 64, 'epochs': 50, 'learning_rate': 0.001, 'rnn_params': [{'rnn_type': 'GRU', 'hidden_size': 192, 'rnn_dropout': 0.2}, {'rnn_type': 'GRU', 'hidden_size': 256, 'rnn_dropout': 0.4}, {'rnn_type': 'GRU', 'hidden_size': 192, 'rnn_dropout': 0.0}], 'spatial_dropout': 0.4}\n"
          ],
          "name": "stdout"
        },
        {
          "output_type": "stream",
          "text": [
            "100%|██████████| 50/50 [01:02<00:00,  1.25s/it]\n",
            "100%|██████████| 50/50 [01:01<00:00,  1.24s/it]\n",
            "100%|██████████| 50/50 [01:02<00:00,  1.25s/it]\n",
            "100%|██████████| 50/50 [01:02<00:00,  1.25s/it]\n",
            "100%|██████████| 50/50 [01:01<00:00,  1.24s/it]\n",
            "100%|██████████| 50/50 [01:02<00:00,  1.25s/it]\n",
            "100%|██████████| 50/50 [01:02<00:00,  1.25s/it]\n",
            "100%|██████████| 50/50 [01:02<00:00,  1.25s/it]\n",
            "  0%|          | 0/50 [00:00<?, ?it/s]"
          ],
          "name": "stderr"
        },
        {
          "output_type": "stream",
          "text": [
            "Average RMSE from 4-fold validation is 0.23418 +/- 0.00248\n",
            "{'embedding_size': 64, 'epochs': 50, 'learning_rate': 0.001, 'rnn_params': [{'rnn_type': 'GRU', 'hidden_size': 192, 'rnn_dropout': 0.2}, {'rnn_type': 'GRU', 'hidden_size': 256, 'rnn_dropout': 0.4}, {'rnn_type': 'LSTM', 'hidden_size': 192, 'rnn_dropout': 0.0}], 'spatial_dropout': 0.4}\n"
          ],
          "name": "stdout"
        },
        {
          "output_type": "stream",
          "text": [
            "100%|██████████| 50/50 [01:02<00:00,  1.26s/it]\n",
            "100%|██████████| 50/50 [01:03<00:00,  1.27s/it]\n",
            "100%|██████████| 50/50 [01:03<00:00,  1.28s/it]\n",
            "100%|██████████| 50/50 [01:02<00:00,  1.26s/it]\n",
            "100%|██████████| 50/50 [01:03<00:00,  1.26s/it]\n",
            "100%|██████████| 50/50 [01:03<00:00,  1.26s/it]\n",
            "100%|██████████| 50/50 [01:02<00:00,  1.26s/it]\n",
            "100%|██████████| 50/50 [01:03<00:00,  1.26s/it]\n",
            "  0%|          | 0/50 [00:00<?, ?it/s]"
          ],
          "name": "stderr"
        },
        {
          "output_type": "stream",
          "text": [
            "Average RMSE from 4-fold validation is 0.23437 +/- 0.00424\n",
            "{'embedding_size': 64, 'epochs': 50, 'learning_rate': 0.001, 'rnn_params': [{'rnn_type': 'GRU', 'hidden_size': 192, 'rnn_dropout': 0.2}, {'rnn_type': 'LSTM', 'hidden_size': 256, 'rnn_dropout': 0.4}, {'rnn_type': 'GRU', 'hidden_size': 192, 'rnn_dropout': 0.0}], 'spatial_dropout': 0.4}\n"
          ],
          "name": "stdout"
        },
        {
          "output_type": "stream",
          "text": [
            "100%|██████████| 50/50 [01:03<00:00,  1.27s/it]\n",
            "100%|██████████| 50/50 [01:03<00:00,  1.28s/it]\n",
            "100%|██████████| 50/50 [01:03<00:00,  1.27s/it]\n",
            "100%|██████████| 50/50 [01:03<00:00,  1.27s/it]\n",
            "100%|██████████| 50/50 [01:03<00:00,  1.27s/it]\n",
            "100%|██████████| 50/50 [01:03<00:00,  1.27s/it]\n",
            "100%|██████████| 50/50 [01:03<00:00,  1.28s/it]\n",
            "100%|██████████| 50/50 [01:03<00:00,  1.27s/it]\n",
            "  0%|          | 0/50 [00:00<?, ?it/s]"
          ],
          "name": "stderr"
        },
        {
          "output_type": "stream",
          "text": [
            "Average RMSE from 4-fold validation is 0.23504 +/- 0.00291\n",
            "{'embedding_size': 64, 'epochs': 50, 'learning_rate': 0.001, 'rnn_params': [{'rnn_type': 'LSTM', 'hidden_size': 192, 'rnn_dropout': 0.2}, {'rnn_type': 'GRU', 'hidden_size': 256, 'rnn_dropout': 0.4}, {'rnn_type': 'GRU', 'hidden_size': 192, 'rnn_dropout': 0.0}], 'spatial_dropout': 0.4}\n"
          ],
          "name": "stdout"
        },
        {
          "output_type": "stream",
          "text": [
            "100%|██████████| 50/50 [01:02<00:00,  1.25s/it]\n",
            "100%|██████████| 50/50 [01:02<00:00,  1.26s/it]\n",
            "100%|██████████| 50/50 [01:02<00:00,  1.26s/it]\n",
            "100%|██████████| 50/50 [01:03<00:00,  1.26s/it]\n",
            "100%|██████████| 50/50 [01:02<00:00,  1.26s/it]\n",
            "100%|██████████| 50/50 [01:02<00:00,  1.26s/it]\n",
            "100%|██████████| 50/50 [01:03<00:00,  1.26s/it]\n",
            "100%|██████████| 50/50 [01:02<00:00,  1.26s/it]\n",
            "  0%|          | 0/50 [00:00<?, ?it/s]"
          ],
          "name": "stderr"
        },
        {
          "output_type": "stream",
          "text": [
            "Average RMSE from 4-fold validation is 0.23401 +/- 0.00318\n",
            "{'embedding_size': 64, 'epochs': 50, 'learning_rate': 0.001, 'rnn_params': [{'rnn_type': 'GRU', 'hidden_size': 192, 'rnn_dropout': 0.2}, {'rnn_type': 'LSTM', 'hidden_size': 256, 'rnn_dropout': 0.4}, {'rnn_type': 'LSTM', 'hidden_size': 192, 'rnn_dropout': 0.0}], 'spatial_dropout': 0.4}\n"
          ],
          "name": "stdout"
        },
        {
          "output_type": "stream",
          "text": [
            "100%|██████████| 50/50 [01:05<00:00,  1.30s/it]\n",
            "100%|██████████| 50/50 [01:04<00:00,  1.30s/it]\n",
            "100%|██████████| 50/50 [01:05<00:00,  1.30s/it]\n",
            "100%|██████████| 50/50 [01:04<00:00,  1.30s/it]\n",
            "100%|██████████| 50/50 [01:04<00:00,  1.29s/it]\n",
            "100%|██████████| 50/50 [01:05<00:00,  1.30s/it]\n",
            "100%|██████████| 50/50 [01:05<00:00,  1.30s/it]\n",
            "100%|██████████| 50/50 [01:05<00:00,  1.30s/it]\n",
            "  0%|          | 0/50 [00:00<?, ?it/s]"
          ],
          "name": "stderr"
        },
        {
          "output_type": "stream",
          "text": [
            "Average RMSE from 4-fold validation is 0.23421 +/- 0.00472\n",
            "{'embedding_size': 64, 'epochs': 50, 'learning_rate': 0.001, 'rnn_params': [{'rnn_type': 'LSTM', 'hidden_size': 192, 'rnn_dropout': 0.2}, {'rnn_type': 'GRU', 'hidden_size': 256, 'rnn_dropout': 0.4}, {'rnn_type': 'LSTM', 'hidden_size': 192, 'rnn_dropout': 0.0}], 'spatial_dropout': 0.4}\n"
          ],
          "name": "stdout"
        },
        {
          "output_type": "stream",
          "text": [
            "100%|██████████| 50/50 [01:03<00:00,  1.28s/it]\n",
            "100%|██████████| 50/50 [01:03<00:00,  1.28s/it]\n",
            "100%|██████████| 50/50 [01:04<00:00,  1.29s/it]\n",
            "100%|██████████| 50/50 [01:04<00:00,  1.28s/it]\n",
            "100%|██████████| 50/50 [01:03<00:00,  1.28s/it]\n",
            "100%|██████████| 50/50 [01:03<00:00,  1.28s/it]\n",
            "100%|██████████| 50/50 [01:03<00:00,  1.27s/it]\n",
            "100%|██████████| 50/50 [01:03<00:00,  1.27s/it]\n",
            "  0%|          | 0/50 [00:00<?, ?it/s]"
          ],
          "name": "stderr"
        },
        {
          "output_type": "stream",
          "text": [
            "Average RMSE from 4-fold validation is 0.23400 +/- 0.00342\n",
            "{'embedding_size': 64, 'epochs': 50, 'learning_rate': 0.001, 'rnn_params': [{'rnn_type': 'LSTM', 'hidden_size': 192, 'rnn_dropout': 0.2}, {'rnn_type': 'LSTM', 'hidden_size': 256, 'rnn_dropout': 0.4}, {'rnn_type': 'GRU', 'hidden_size': 192, 'rnn_dropout': 0.0}], 'spatial_dropout': 0.4}\n"
          ],
          "name": "stdout"
        },
        {
          "output_type": "stream",
          "text": [
            "100%|██████████| 50/50 [01:04<00:00,  1.29s/it]\n",
            "100%|██████████| 50/50 [01:04<00:00,  1.30s/it]\n",
            "100%|██████████| 50/50 [01:04<00:00,  1.30s/it]\n",
            "100%|██████████| 50/50 [01:05<00:00,  1.30s/it]\n",
            "100%|██████████| 50/50 [01:04<00:00,  1.29s/it]\n",
            "100%|██████████| 50/50 [01:04<00:00,  1.30s/it]\n",
            "100%|██████████| 50/50 [01:04<00:00,  1.29s/it]\n",
            "100%|██████████| 50/50 [01:04<00:00,  1.29s/it]\n",
            "  0%|          | 0/50 [00:00<?, ?it/s]"
          ],
          "name": "stderr"
        },
        {
          "output_type": "stream",
          "text": [
            "Average RMSE from 4-fold validation is 0.23219 +/- 0.00235\n",
            "{'embedding_size': 64, 'epochs': 50, 'learning_rate': 0.001, 'rnn_params': [{'rnn_type': 'LSTM', 'hidden_size': 192, 'rnn_dropout': 0.2}, {'rnn_type': 'LSTM', 'hidden_size': 256, 'rnn_dropout': 0.4}, {'rnn_type': 'LSTM', 'hidden_size': 192, 'rnn_dropout': 0.0}], 'spatial_dropout': 0.4}\n"
          ],
          "name": "stdout"
        },
        {
          "output_type": "stream",
          "text": [
            "100%|██████████| 50/50 [01:05<00:00,  1.31s/it]\n",
            "100%|██████████| 50/50 [01:05<00:00,  1.31s/it]\n",
            "100%|██████████| 50/50 [01:05<00:00,  1.31s/it]\n",
            "100%|██████████| 50/50 [01:05<00:00,  1.31s/it]\n",
            "100%|██████████| 50/50 [01:04<00:00,  1.30s/it]\n",
            "100%|██████████| 50/50 [01:04<00:00,  1.30s/it]\n",
            "100%|██████████| 50/50 [01:05<00:00,  1.30s/it]\n",
            "100%|██████████| 50/50 [01:04<00:00,  1.30s/it]"
          ],
          "name": "stderr"
        },
        {
          "output_type": "stream",
          "text": [
            "Average RMSE from 4-fold validation is 0.23159 +/- 0.00210\n"
          ],
          "name": "stdout"
        },
        {
          "output_type": "stream",
          "text": [
            "\n"
          ],
          "name": "stderr"
        }
      ]
    },
    {
      "cell_type": "code",
      "metadata": {
        "id": "QOSpUSotJUkq",
        "outputId": "c0aa9d1b-1a02-46e9-dc4e-23db7b54863e",
        "colab": {
          "base_uri": "https://localhost:8080/",
          "height": 586
        }
      },
      "source": [
        "# 2020-09-30\n",
        "# different hidden sizes\n",
        "\n",
        "display(df_params.sort_values(by=\"rmse_mean\"))\n",
        "df_params['rmse_mean'].mean()"
      ],
      "execution_count": null,
      "outputs": [
        {
          "output_type": "display_data",
          "data": {
            "text/html": [
              "<div>\n",
              "<style scoped>\n",
              "    .dataframe tbody tr th:only-of-type {\n",
              "        vertical-align: middle;\n",
              "    }\n",
              "\n",
              "    .dataframe tbody tr th {\n",
              "        vertical-align: top;\n",
              "    }\n",
              "\n",
              "    .dataframe thead th {\n",
              "        text-align: right;\n",
              "    }\n",
              "</style>\n",
              "<table border=\"1\" class=\"dataframe\">\n",
              "  <thead>\n",
              "    <tr style=\"text-align: right;\">\n",
              "      <th></th>\n",
              "      <th>embedding_size</th>\n",
              "      <th>spatial_dropout</th>\n",
              "      <th>learning_rate</th>\n",
              "      <th>epochs</th>\n",
              "      <th>rnn_params</th>\n",
              "      <th>rmse_mean</th>\n",
              "      <th>rmse_std</th>\n",
              "    </tr>\n",
              "  </thead>\n",
              "  <tbody>\n",
              "    <tr>\n",
              "      <th>7</th>\n",
              "      <td>64</td>\n",
              "      <td>0.4</td>\n",
              "      <td>0.001</td>\n",
              "      <td>50</td>\n",
              "      <td>[{'rnn_type': 'LSTM', 'hidden_size': 192, 'rnn_dropout': 0.2}, {'rnn_type': 'LSTM', 'hidden_size': 256, 'rnn_dropout': 0.4}, {'rnn_type': 'LSTM', 'hidden_size': 192, 'rnn_dropout': 0.0}]</td>\n",
              "      <td>0.231589</td>\n",
              "      <td>0.002103</td>\n",
              "    </tr>\n",
              "    <tr>\n",
              "      <th>6</th>\n",
              "      <td>64</td>\n",
              "      <td>0.4</td>\n",
              "      <td>0.001</td>\n",
              "      <td>50</td>\n",
              "      <td>[{'rnn_type': 'LSTM', 'hidden_size': 192, 'rnn_dropout': 0.2}, {'rnn_type': 'LSTM', 'hidden_size': 256, 'rnn_dropout': 0.4}, {'rnn_type': 'GRU', 'hidden_size': 192, 'rnn_dropout': 0.0}]</td>\n",
              "      <td>0.232195</td>\n",
              "      <td>0.002349</td>\n",
              "    </tr>\n",
              "    <tr>\n",
              "      <th>5</th>\n",
              "      <td>64</td>\n",
              "      <td>0.4</td>\n",
              "      <td>0.001</td>\n",
              "      <td>50</td>\n",
              "      <td>[{'rnn_type': 'LSTM', 'hidden_size': 192, 'rnn_dropout': 0.2}, {'rnn_type': 'GRU', 'hidden_size': 256, 'rnn_dropout': 0.4}, {'rnn_type': 'LSTM', 'hidden_size': 192, 'rnn_dropout': 0.0}]</td>\n",
              "      <td>0.234000</td>\n",
              "      <td>0.003420</td>\n",
              "    </tr>\n",
              "    <tr>\n",
              "      <th>3</th>\n",
              "      <td>64</td>\n",
              "      <td>0.4</td>\n",
              "      <td>0.001</td>\n",
              "      <td>50</td>\n",
              "      <td>[{'rnn_type': 'LSTM', 'hidden_size': 192, 'rnn_dropout': 0.2}, {'rnn_type': 'GRU', 'hidden_size': 256, 'rnn_dropout': 0.4}, {'rnn_type': 'GRU', 'hidden_size': 192, 'rnn_dropout': 0.0}]</td>\n",
              "      <td>0.234011</td>\n",
              "      <td>0.003182</td>\n",
              "    </tr>\n",
              "    <tr>\n",
              "      <th>0</th>\n",
              "      <td>64</td>\n",
              "      <td>0.4</td>\n",
              "      <td>0.001</td>\n",
              "      <td>50</td>\n",
              "      <td>[{'rnn_type': 'GRU', 'hidden_size': 192, 'rnn_dropout': 0.2}, {'rnn_type': 'GRU', 'hidden_size': 256, 'rnn_dropout': 0.4}, {'rnn_type': 'GRU', 'hidden_size': 192, 'rnn_dropout': 0.0}]</td>\n",
              "      <td>0.234181</td>\n",
              "      <td>0.002479</td>\n",
              "    </tr>\n",
              "    <tr>\n",
              "      <th>4</th>\n",
              "      <td>64</td>\n",
              "      <td>0.4</td>\n",
              "      <td>0.001</td>\n",
              "      <td>50</td>\n",
              "      <td>[{'rnn_type': 'GRU', 'hidden_size': 192, 'rnn_dropout': 0.2}, {'rnn_type': 'LSTM', 'hidden_size': 256, 'rnn_dropout': 0.4}, {'rnn_type': 'LSTM', 'hidden_size': 192, 'rnn_dropout': 0.0}]</td>\n",
              "      <td>0.234211</td>\n",
              "      <td>0.004723</td>\n",
              "    </tr>\n",
              "    <tr>\n",
              "      <th>1</th>\n",
              "      <td>64</td>\n",
              "      <td>0.4</td>\n",
              "      <td>0.001</td>\n",
              "      <td>50</td>\n",
              "      <td>[{'rnn_type': 'GRU', 'hidden_size': 192, 'rnn_dropout': 0.2}, {'rnn_type': 'GRU', 'hidden_size': 256, 'rnn_dropout': 0.4}, {'rnn_type': 'LSTM', 'hidden_size': 192, 'rnn_dropout': 0.0}]</td>\n",
              "      <td>0.234366</td>\n",
              "      <td>0.004237</td>\n",
              "    </tr>\n",
              "    <tr>\n",
              "      <th>2</th>\n",
              "      <td>64</td>\n",
              "      <td>0.4</td>\n",
              "      <td>0.001</td>\n",
              "      <td>50</td>\n",
              "      <td>[{'rnn_type': 'GRU', 'hidden_size': 192, 'rnn_dropout': 0.2}, {'rnn_type': 'LSTM', 'hidden_size': 256, 'rnn_dropout': 0.4}, {'rnn_type': 'GRU', 'hidden_size': 192, 'rnn_dropout': 0.0}]</td>\n",
              "      <td>0.235042</td>\n",
              "      <td>0.002907</td>\n",
              "    </tr>\n",
              "  </tbody>\n",
              "</table>\n",
              "</div>"
            ],
            "text/plain": [
              "  embedding_size  spatial_dropout  ...  rmse_mean  rmse_std\n",
              "7             64              0.4  ...   0.231589  0.002103\n",
              "6             64              0.4  ...   0.232195  0.002349\n",
              "5             64              0.4  ...   0.234000  0.003420\n",
              "3             64              0.4  ...   0.234011  0.003182\n",
              "0             64              0.4  ...   0.234181  0.002479\n",
              "4             64              0.4  ...   0.234211  0.004723\n",
              "1             64              0.4  ...   0.234366  0.004237\n",
              "2             64              0.4  ...   0.235042  0.002907\n",
              "\n",
              "[8 rows x 7 columns]"
            ]
          },
          "metadata": {
            "tags": []
          }
        },
        {
          "output_type": "execute_result",
          "data": {
            "text/plain": [
              "0.23369949778249013"
            ]
          },
          "metadata": {
            "tags": []
          },
          "execution_count": 41
        }
      ]
    },
    {
      "cell_type": "code",
      "metadata": {
        "id": "1Ty42DrQPYf5",
        "outputId": "202e322f-b2cc-4065-941a-f56d0c3b05a7",
        "colab": {
          "base_uri": "https://localhost:8080/",
          "height": 261
        }
      },
      "source": [
        "# 2020-09-30\n",
        "# different hidden sizes, SN_filter == 1\n",
        "\n",
        "display(df_params.sort_values(by=\"rmse_mean\"))\n",
        "df_params['rmse_mean'].mean()"
      ],
      "execution_count": null,
      "outputs": [
        {
          "output_type": "display_data",
          "data": {
            "text/html": [
              "<div>\n",
              "<style scoped>\n",
              "    .dataframe tbody tr th:only-of-type {\n",
              "        vertical-align: middle;\n",
              "    }\n",
              "\n",
              "    .dataframe tbody tr th {\n",
              "        vertical-align: top;\n",
              "    }\n",
              "\n",
              "    .dataframe thead th {\n",
              "        text-align: right;\n",
              "    }\n",
              "</style>\n",
              "<table border=\"1\" class=\"dataframe\">\n",
              "  <thead>\n",
              "    <tr style=\"text-align: right;\">\n",
              "      <th></th>\n",
              "      <th>embedding_size</th>\n",
              "      <th>spatial_dropout</th>\n",
              "      <th>learning_rate</th>\n",
              "      <th>epochs</th>\n",
              "      <th>rnn_params</th>\n",
              "      <th>rmse_mean</th>\n",
              "      <th>rmse_std</th>\n",
              "    </tr>\n",
              "  </thead>\n",
              "  <tbody>\n",
              "    <tr>\n",
              "      <th>1</th>\n",
              "      <td>64</td>\n",
              "      <td>0.4</td>\n",
              "      <td>0.001</td>\n",
              "      <td>50</td>\n",
              "      <td>[{'rnn_type': 'LSTM', 'hidden_size': 192, 'rnn_dropout': 0.2}, {'rnn_type': 'LSTM', 'hidden_size': 256, 'rnn_dropout': 0.4}, {'rnn_type': 'LSTM', 'hidden_size': 192, 'rnn_dropout': 0.0}]</td>\n",
              "      <td>0.233044</td>\n",
              "      <td>0.002788</td>\n",
              "    </tr>\n",
              "    <tr>\n",
              "      <th>0</th>\n",
              "      <td>64</td>\n",
              "      <td>0.4</td>\n",
              "      <td>0.001</td>\n",
              "      <td>50</td>\n",
              "      <td>[{'rnn_type': 'LSTM', 'hidden_size': 192, 'rnn_dropout': 0.2}, {'rnn_type': 'GRU', 'hidden_size': 256, 'rnn_dropout': 0.4}, {'rnn_type': 'LSTM', 'hidden_size': 192, 'rnn_dropout': 0.0}]</td>\n",
              "      <td>0.233281</td>\n",
              "      <td>0.002648</td>\n",
              "    </tr>\n",
              "    <tr>\n",
              "      <th>2</th>\n",
              "      <td>64</td>\n",
              "      <td>0.4</td>\n",
              "      <td>0.001</td>\n",
              "      <td>50</td>\n",
              "      <td>[{'rnn_type': 'GRU', 'hidden_size': 192, 'rnn_dropout': 0.2}, {'rnn_type': 'LSTM', 'hidden_size': 256, 'rnn_dropout': 0.4}, {'rnn_type': 'GRU', 'hidden_size': 192, 'rnn_dropout': 0.0}]</td>\n",
              "      <td>0.234077</td>\n",
              "      <td>0.003788</td>\n",
              "    </tr>\n",
              "  </tbody>\n",
              "</table>\n",
              "</div>"
            ],
            "text/plain": [
              "  embedding_size  spatial_dropout  ...  rmse_mean  rmse_std\n",
              "1             64              0.4  ...   0.233044  0.002788\n",
              "0             64              0.4  ...   0.233281  0.002648\n",
              "2             64              0.4  ...   0.234077  0.003788\n",
              "\n",
              "[3 rows x 7 columns]"
            ]
          },
          "metadata": {
            "tags": []
          }
        },
        {
          "output_type": "execute_result",
          "data": {
            "text/plain": [
              "0.23346734891032397"
            ]
          },
          "metadata": {
            "tags": []
          },
          "execution_count": 30
        }
      ]
    },
    {
      "cell_type": "code",
      "metadata": {
        "id": "-vTRhSoGFH87",
        "outputId": "818d26d0-57ec-4b26-a222-e0d98dd7f9ca",
        "colab": {
          "base_uri": "https://localhost:8080/",
          "height": 261
        }
      },
      "source": [
        "# 2020-09-30\n",
        "# different hidden sizes, SN_filter == 1\n",
        "\n",
        "display(df_params.sort_values(by=\"rmse_mean\"))\n",
        "df_params['rmse_mean'].mean()"
      ],
      "execution_count": null,
      "outputs": [
        {
          "output_type": "display_data",
          "data": {
            "text/html": [
              "<div>\n",
              "<style scoped>\n",
              "    .dataframe tbody tr th:only-of-type {\n",
              "        vertical-align: middle;\n",
              "    }\n",
              "\n",
              "    .dataframe tbody tr th {\n",
              "        vertical-align: top;\n",
              "    }\n",
              "\n",
              "    .dataframe thead th {\n",
              "        text-align: right;\n",
              "    }\n",
              "</style>\n",
              "<table border=\"1\" class=\"dataframe\">\n",
              "  <thead>\n",
              "    <tr style=\"text-align: right;\">\n",
              "      <th></th>\n",
              "      <th>embedding_size</th>\n",
              "      <th>spatial_dropout</th>\n",
              "      <th>learning_rate</th>\n",
              "      <th>epochs</th>\n",
              "      <th>rnn_params</th>\n",
              "      <th>rmse_mean</th>\n",
              "      <th>rmse_std</th>\n",
              "    </tr>\n",
              "  </thead>\n",
              "  <tbody>\n",
              "    <tr>\n",
              "      <th>1</th>\n",
              "      <td>64</td>\n",
              "      <td>0.4</td>\n",
              "      <td>0.001</td>\n",
              "      <td>50</td>\n",
              "      <td>[{'rnn_type': 'LSTM', 'hidden_size': 384, 'rnn_dropout': 0.2}, {'rnn_type': 'LSTM', 'hidden_size': 512, 'rnn_dropout': 0.4}, {'rnn_type': 'LSTM', 'hidden_size': 384, 'rnn_dropout': 0.0}]</td>\n",
              "      <td>0.227997</td>\n",
              "      <td>0.002548</td>\n",
              "    </tr>\n",
              "    <tr>\n",
              "      <th>0</th>\n",
              "      <td>64</td>\n",
              "      <td>0.4</td>\n",
              "      <td>0.001</td>\n",
              "      <td>50</td>\n",
              "      <td>[{'rnn_type': 'LSTM', 'hidden_size': 384, 'rnn_dropout': 0.4}, {'rnn_type': 'GRU', 'hidden_size': 512, 'rnn_dropout': 0.2}, {'rnn_type': 'LSTM', 'hidden_size': 384, 'rnn_dropout': 0.0}]</td>\n",
              "      <td>0.228741</td>\n",
              "      <td>0.003002</td>\n",
              "    </tr>\n",
              "    <tr>\n",
              "      <th>2</th>\n",
              "      <td>64</td>\n",
              "      <td>0.4</td>\n",
              "      <td>0.001</td>\n",
              "      <td>50</td>\n",
              "      <td>[{'rnn_type': 'GRU', 'hidden_size': 384, 'rnn_dropout': 0.2}, {'rnn_type': 'LSTM', 'hidden_size': 512, 'rnn_dropout': 0.4}, {'rnn_type': 'GRU', 'hidden_size': 384, 'rnn_dropout': 0.0}]</td>\n",
              "      <td>0.229266</td>\n",
              "      <td>0.002470</td>\n",
              "    </tr>\n",
              "  </tbody>\n",
              "</table>\n",
              "</div>"
            ],
            "text/plain": [
              "  embedding_size  spatial_dropout  ...  rmse_mean  rmse_std\n",
              "1             64              0.4  ...   0.227997  0.002548\n",
              "0             64              0.4  ...   0.228741  0.003002\n",
              "2             64              0.4  ...   0.229266  0.002470\n",
              "\n",
              "[3 rows x 7 columns]"
            ]
          },
          "metadata": {
            "tags": []
          }
        },
        {
          "output_type": "execute_result",
          "data": {
            "text/plain": [
              "0.22866812591768104"
            ]
          },
          "metadata": {
            "tags": []
          },
          "execution_count": 62
        }
      ]
    },
    {
      "cell_type": "code",
      "metadata": {
        "id": "-kb5U0DC9AcS",
        "outputId": "807a5de6-a63a-4b17-eb82-0cc884837010",
        "colab": {
          "base_uri": "https://localhost:8080/",
          "height": 261
        }
      },
      "source": [
        "# 2020-09-30\n",
        "# different hidden sizes, SN_filter == 1\n",
        "\n",
        "display(df_params.sort_values(by=\"rmse_mean\"))\n",
        "df_params['rmse_mean'].mean()"
      ],
      "execution_count": null,
      "outputs": [
        {
          "output_type": "display_data",
          "data": {
            "text/html": [
              "<div>\n",
              "<style scoped>\n",
              "    .dataframe tbody tr th:only-of-type {\n",
              "        vertical-align: middle;\n",
              "    }\n",
              "\n",
              "    .dataframe tbody tr th {\n",
              "        vertical-align: top;\n",
              "    }\n",
              "\n",
              "    .dataframe thead th {\n",
              "        text-align: right;\n",
              "    }\n",
              "</style>\n",
              "<table border=\"1\" class=\"dataframe\">\n",
              "  <thead>\n",
              "    <tr style=\"text-align: right;\">\n",
              "      <th></th>\n",
              "      <th>embedding_size</th>\n",
              "      <th>spatial_dropout</th>\n",
              "      <th>learning_rate</th>\n",
              "      <th>epochs</th>\n",
              "      <th>rnn_params</th>\n",
              "      <th>rmse_mean</th>\n",
              "      <th>rmse_std</th>\n",
              "    </tr>\n",
              "  </thead>\n",
              "  <tbody>\n",
              "    <tr>\n",
              "      <th>1</th>\n",
              "      <td>64</td>\n",
              "      <td>0.4</td>\n",
              "      <td>0.001</td>\n",
              "      <td>50</td>\n",
              "      <td>[{'rnn_type': 'LSTM', 'hidden_size': 384, 'rnn_dropout': 0.2}, {'rnn_type': 'LSTM', 'hidden_size': 512, 'rnn_dropout': 0.4}, {'rnn_type': 'LSTM', 'hidden_size': 384, 'rnn_dropout': 0.0}]</td>\n",
              "      <td>0.227409</td>\n",
              "      <td>0.001786</td>\n",
              "    </tr>\n",
              "    <tr>\n",
              "      <th>2</th>\n",
              "      <td>64</td>\n",
              "      <td>0.4</td>\n",
              "      <td>0.001</td>\n",
              "      <td>50</td>\n",
              "      <td>[{'rnn_type': 'GRU', 'hidden_size': 384, 'rnn_dropout': 0.2}, {'rnn_type': 'LSTM', 'hidden_size': 512, 'rnn_dropout': 0.4}, {'rnn_type': 'GRU', 'hidden_size': 384, 'rnn_dropout': 0.0}]</td>\n",
              "      <td>0.228813</td>\n",
              "      <td>0.001910</td>\n",
              "    </tr>\n",
              "    <tr>\n",
              "      <th>0</th>\n",
              "      <td>64</td>\n",
              "      <td>0.4</td>\n",
              "      <td>0.001</td>\n",
              "      <td>50</td>\n",
              "      <td>[{'rnn_type': 'GRU', 'hidden_size': 384, 'rnn_dropout': 0.4}, {'rnn_type': 'GRU', 'hidden_size': 512, 'rnn_dropout': 0.2}, {'rnn_type': 'GRU', 'hidden_size': 384, 'rnn_dropout': 0.0}]</td>\n",
              "      <td>0.230579</td>\n",
              "      <td>0.002635</td>\n",
              "    </tr>\n",
              "  </tbody>\n",
              "</table>\n",
              "</div>"
            ],
            "text/plain": [
              "  embedding_size  spatial_dropout  ...  rmse_mean  rmse_std\n",
              "1             64              0.4  ...   0.227409  0.001786\n",
              "2             64              0.4  ...   0.228813  0.001910\n",
              "0             64              0.4  ...   0.230579  0.002635\n",
              "\n",
              "[3 rows x 7 columns]"
            ]
          },
          "metadata": {
            "tags": []
          }
        },
        {
          "output_type": "execute_result",
          "data": {
            "text/plain": [
              "0.2289335398927789"
            ]
          },
          "metadata": {
            "tags": []
          },
          "execution_count": 58
        }
      ]
    },
    {
      "cell_type": "code",
      "metadata": {
        "id": "PRSXJdwb4XIX",
        "outputId": "dae02f52-9ee7-432d-d196-0f54148a67ba",
        "colab": {
          "base_uri": "https://localhost:8080/",
          "height": 261
        }
      },
      "source": [
        "# 2020-09-30\n",
        "# different hidden sizes, SN_filter == 1\n",
        "\n",
        "display(df_params.sort_values(by=\"rmse_mean\"))\n",
        "df_params['rmse_mean'].mean()"
      ],
      "execution_count": null,
      "outputs": [
        {
          "output_type": "display_data",
          "data": {
            "text/html": [
              "<div>\n",
              "<style scoped>\n",
              "    .dataframe tbody tr th:only-of-type {\n",
              "        vertical-align: middle;\n",
              "    }\n",
              "\n",
              "    .dataframe tbody tr th {\n",
              "        vertical-align: top;\n",
              "    }\n",
              "\n",
              "    .dataframe thead th {\n",
              "        text-align: right;\n",
              "    }\n",
              "</style>\n",
              "<table border=\"1\" class=\"dataframe\">\n",
              "  <thead>\n",
              "    <tr style=\"text-align: right;\">\n",
              "      <th></th>\n",
              "      <th>embedding_size</th>\n",
              "      <th>spatial_dropout</th>\n",
              "      <th>learning_rate</th>\n",
              "      <th>epochs</th>\n",
              "      <th>rnn_params</th>\n",
              "      <th>rmse_mean</th>\n",
              "      <th>rmse_std</th>\n",
              "    </tr>\n",
              "  </thead>\n",
              "  <tbody>\n",
              "    <tr>\n",
              "      <th>1</th>\n",
              "      <td>64</td>\n",
              "      <td>0.4</td>\n",
              "      <td>0.001</td>\n",
              "      <td>50</td>\n",
              "      <td>[{'rnn_type': 'LSTM', 'hidden_size': 384, 'rnn_dropout': 0.2}, {'rnn_type': 'LSTM', 'hidden_size': 512, 'rnn_dropout': 0.4}, {'rnn_type': 'LSTM', 'hidden_size': 384, 'rnn_dropout': 0.0}]</td>\n",
              "      <td>0.227082</td>\n",
              "      <td>0.001730</td>\n",
              "    </tr>\n",
              "    <tr>\n",
              "      <th>0</th>\n",
              "      <td>64</td>\n",
              "      <td>0.4</td>\n",
              "      <td>0.001</td>\n",
              "      <td>50</td>\n",
              "      <td>[{'rnn_type': 'LSTM', 'hidden_size': 384, 'rnn_dropout': 0.4}, {'rnn_type': 'LSTM', 'hidden_size': 512, 'rnn_dropout': 0.4}, {'rnn_type': 'LSTM', 'hidden_size': 384, 'rnn_dropout': 0.0}]</td>\n",
              "      <td>0.227743</td>\n",
              "      <td>0.001227</td>\n",
              "    </tr>\n",
              "    <tr>\n",
              "      <th>2</th>\n",
              "      <td>64</td>\n",
              "      <td>0.4</td>\n",
              "      <td>0.001</td>\n",
              "      <td>50</td>\n",
              "      <td>[{'rnn_type': 'LSTM', 'hidden_size': 384, 'rnn_dropout': 0.4}, {'rnn_type': 'LSTM', 'hidden_size': 512, 'rnn_dropout': 0.2}, {'rnn_type': 'LSTM', 'hidden_size': 384, 'rnn_dropout': 0.0}]</td>\n",
              "      <td>0.228081</td>\n",
              "      <td>0.001410</td>\n",
              "    </tr>\n",
              "  </tbody>\n",
              "</table>\n",
              "</div>"
            ],
            "text/plain": [
              "  embedding_size  spatial_dropout  ...  rmse_mean  rmse_std\n",
              "1             64              0.4  ...   0.227082  0.001730\n",
              "0             64              0.4  ...   0.227743  0.001227\n",
              "2             64              0.4  ...   0.228081  0.001410\n",
              "\n",
              "[3 rows x 7 columns]"
            ]
          },
          "metadata": {
            "tags": []
          }
        },
        {
          "output_type": "execute_result",
          "data": {
            "text/plain": [
              "0.22763566753464426"
            ]
          },
          "metadata": {
            "tags": []
          },
          "execution_count": 54
        }
      ]
    },
    {
      "cell_type": "code",
      "metadata": {
        "id": "6WNlfmdUznMa",
        "outputId": "39305509-56cf-4cc8-8c66-199c9b522d30",
        "colab": {
          "base_uri": "https://localhost:8080/",
          "height": 261
        }
      },
      "source": [
        "# 2020-09-30\n",
        "# different hidden sizes, SN_filter == 1\n",
        "\n",
        "display(df_params.sort_values(by=\"rmse_mean\"))\n",
        "df_params['rmse_mean'].mean()"
      ],
      "execution_count": null,
      "outputs": [
        {
          "output_type": "display_data",
          "data": {
            "text/html": [
              "<div>\n",
              "<style scoped>\n",
              "    .dataframe tbody tr th:only-of-type {\n",
              "        vertical-align: middle;\n",
              "    }\n",
              "\n",
              "    .dataframe tbody tr th {\n",
              "        vertical-align: top;\n",
              "    }\n",
              "\n",
              "    .dataframe thead th {\n",
              "        text-align: right;\n",
              "    }\n",
              "</style>\n",
              "<table border=\"1\" class=\"dataframe\">\n",
              "  <thead>\n",
              "    <tr style=\"text-align: right;\">\n",
              "      <th></th>\n",
              "      <th>embedding_size</th>\n",
              "      <th>spatial_dropout</th>\n",
              "      <th>learning_rate</th>\n",
              "      <th>epochs</th>\n",
              "      <th>rnn_params</th>\n",
              "      <th>rmse_mean</th>\n",
              "      <th>rmse_std</th>\n",
              "    </tr>\n",
              "  </thead>\n",
              "  <tbody>\n",
              "    <tr>\n",
              "      <th>1</th>\n",
              "      <td>64</td>\n",
              "      <td>0.4</td>\n",
              "      <td>0.001</td>\n",
              "      <td>50</td>\n",
              "      <td>[{'rnn_type': 'LSTM', 'hidden_size': 384, 'rnn_dropout': 0.2}, {'rnn_type': 'LSTM', 'hidden_size': 512, 'rnn_dropout': 0.2}, {'rnn_type': 'LSTM', 'hidden_size': 384, 'rnn_dropout': 0.0}]</td>\n",
              "      <td>0.227220</td>\n",
              "      <td>0.001445</td>\n",
              "    </tr>\n",
              "    <tr>\n",
              "      <th>2</th>\n",
              "      <td>64</td>\n",
              "      <td>0.4</td>\n",
              "      <td>0.001</td>\n",
              "      <td>50</td>\n",
              "      <td>[{'rnn_type': 'LSTM', 'hidden_size': 256, 'rnn_dropout': 0.2}, {'rnn_type': 'LSTM', 'hidden_size': 512, 'rnn_dropout': 0.2}, {'rnn_type': 'LSTM', 'hidden_size': 256, 'rnn_dropout': 0.0}]</td>\n",
              "      <td>0.227990</td>\n",
              "      <td>0.001772</td>\n",
              "    </tr>\n",
              "    <tr>\n",
              "      <th>0</th>\n",
              "      <td>64</td>\n",
              "      <td>0.4</td>\n",
              "      <td>0.001</td>\n",
              "      <td>50</td>\n",
              "      <td>[{'rnn_type': 'LSTM', 'hidden_size': 256, 'rnn_dropout': 0.2}, {'rnn_type': 'LSTM', 'hidden_size': 384, 'rnn_dropout': 0.2}, {'rnn_type': 'LSTM', 'hidden_size': 256, 'rnn_dropout': 0.0}]</td>\n",
              "      <td>0.228553</td>\n",
              "      <td>0.001616</td>\n",
              "    </tr>\n",
              "  </tbody>\n",
              "</table>\n",
              "</div>"
            ],
            "text/plain": [
              "  embedding_size  spatial_dropout  ...  rmse_mean  rmse_std\n",
              "1             64              0.4  ...   0.227220  0.001445\n",
              "2             64              0.4  ...   0.227990  0.001772\n",
              "0             64              0.4  ...   0.228553  0.001616\n",
              "\n",
              "[3 rows x 7 columns]"
            ]
          },
          "metadata": {
            "tags": []
          }
        },
        {
          "output_type": "execute_result",
          "data": {
            "text/plain": [
              "0.2279206863714456"
            ]
          },
          "metadata": {
            "tags": []
          },
          "execution_count": 50
        }
      ]
    },
    {
      "cell_type": "code",
      "metadata": {
        "id": "08-mBFg3wU5A",
        "outputId": "3913960b-889c-4f00-a816-85dec8c2d8a0",
        "colab": {
          "base_uri": "https://localhost:8080/",
          "height": 261
        }
      },
      "source": [
        "# 2020-09-30\n",
        "# different hidden sizes, SN_filter == 1\n",
        "\n",
        "display(df_params.sort_values(by=\"rmse_mean\"))\n",
        "df_params['rmse_mean'].mean()"
      ],
      "execution_count": null,
      "outputs": [
        {
          "output_type": "display_data",
          "data": {
            "text/html": [
              "<div>\n",
              "<style scoped>\n",
              "    .dataframe tbody tr th:only-of-type {\n",
              "        vertical-align: middle;\n",
              "    }\n",
              "\n",
              "    .dataframe tbody tr th {\n",
              "        vertical-align: top;\n",
              "    }\n",
              "\n",
              "    .dataframe thead th {\n",
              "        text-align: right;\n",
              "    }\n",
              "</style>\n",
              "<table border=\"1\" class=\"dataframe\">\n",
              "  <thead>\n",
              "    <tr style=\"text-align: right;\">\n",
              "      <th></th>\n",
              "      <th>embedding_size</th>\n",
              "      <th>spatial_dropout</th>\n",
              "      <th>learning_rate</th>\n",
              "      <th>epochs</th>\n",
              "      <th>rnn_params</th>\n",
              "      <th>rmse_mean</th>\n",
              "      <th>rmse_std</th>\n",
              "    </tr>\n",
              "  </thead>\n",
              "  <tbody>\n",
              "    <tr>\n",
              "      <th>1</th>\n",
              "      <td>64</td>\n",
              "      <td>0.4</td>\n",
              "      <td>0.001</td>\n",
              "      <td>50</td>\n",
              "      <td>[{'rnn_type': 'LSTM', 'hidden_size': 256, 'rnn_dropout': 0.2}, {'rnn_type': 'LSTM', 'hidden_size': 384, 'rnn_dropout': 0.2}, {'rnn_type': 'LSTM', 'hidden_size': 256, 'rnn_dropout': 0.0}]</td>\n",
              "      <td>0.228211</td>\n",
              "      <td>0.001290</td>\n",
              "    </tr>\n",
              "    <tr>\n",
              "      <th>0</th>\n",
              "      <td>64</td>\n",
              "      <td>0.4</td>\n",
              "      <td>0.001</td>\n",
              "      <td>50</td>\n",
              "      <td>[{'rnn_type': 'LSTM', 'hidden_size': 256, 'rnn_dropout': 0.2}, {'rnn_type': 'LSTM', 'hidden_size': 384, 'rnn_dropout': 0.2}, {'rnn_type': 'LSTM', 'hidden_size': 256, 'rnn_dropout': 0.2}]</td>\n",
              "      <td>0.228463</td>\n",
              "      <td>0.001743</td>\n",
              "    </tr>\n",
              "    <tr>\n",
              "      <th>2</th>\n",
              "      <td>64</td>\n",
              "      <td>0.4</td>\n",
              "      <td>0.001</td>\n",
              "      <td>50</td>\n",
              "      <td>[{'rnn_type': 'LSTM', 'hidden_size': 256, 'rnn_dropout': 0.2}, {'rnn_type': 'LSTM', 'hidden_size': 384, 'rnn_dropout': 0.2}, {'rnn_type': 'LSTM', 'hidden_size': 384, 'rnn_dropout': 0.2}]</td>\n",
              "      <td>0.228934</td>\n",
              "      <td>0.001185</td>\n",
              "    </tr>\n",
              "  </tbody>\n",
              "</table>\n",
              "</div>"
            ],
            "text/plain": [
              "  embedding_size  spatial_dropout  ...  rmse_mean  rmse_std\n",
              "1             64              0.4  ...   0.228211  0.001290\n",
              "0             64              0.4  ...   0.228463  0.001743\n",
              "2             64              0.4  ...   0.228934  0.001185\n",
              "\n",
              "[3 rows x 7 columns]"
            ]
          },
          "metadata": {
            "tags": []
          }
        },
        {
          "output_type": "execute_result",
          "data": {
            "text/plain": [
              "0.22853603761320307"
            ]
          },
          "metadata": {
            "tags": []
          },
          "execution_count": 46
        }
      ]
    },
    {
      "cell_type": "code",
      "metadata": {
        "id": "XsAQSjC7j4Ki",
        "outputId": "89f7c181-efb2-4e30-f89d-f2f23717a782",
        "colab": {
          "base_uri": "https://localhost:8080/",
          "height": 326
        }
      },
      "source": [
        "# 2020-09-30\n",
        "# different hidden sizes, SN_filter == 1\n",
        "\n",
        "display(df_params.sort_values(by=\"rmse_mean\"))\n",
        "df_params['rmse_mean'].mean()"
      ],
      "execution_count": null,
      "outputs": [
        {
          "output_type": "display_data",
          "data": {
            "text/html": [
              "<div>\n",
              "<style scoped>\n",
              "    .dataframe tbody tr th:only-of-type {\n",
              "        vertical-align: middle;\n",
              "    }\n",
              "\n",
              "    .dataframe tbody tr th {\n",
              "        vertical-align: top;\n",
              "    }\n",
              "\n",
              "    .dataframe thead th {\n",
              "        text-align: right;\n",
              "    }\n",
              "</style>\n",
              "<table border=\"1\" class=\"dataframe\">\n",
              "  <thead>\n",
              "    <tr style=\"text-align: right;\">\n",
              "      <th></th>\n",
              "      <th>embedding_size</th>\n",
              "      <th>spatial_dropout</th>\n",
              "      <th>learning_rate</th>\n",
              "      <th>epochs</th>\n",
              "      <th>rnn_params</th>\n",
              "      <th>rmse_mean</th>\n",
              "      <th>rmse_std</th>\n",
              "    </tr>\n",
              "  </thead>\n",
              "  <tbody>\n",
              "    <tr>\n",
              "      <th>2</th>\n",
              "      <td>64</td>\n",
              "      <td>0.4</td>\n",
              "      <td>0.001</td>\n",
              "      <td>50</td>\n",
              "      <td>[{'rnn_type': 'LSTM', 'hidden_size': 192, 'rnn_dropout': 0.2}, {'rnn_type': 'LSTM', 'hidden_size': 256, 'rnn_dropout': 0.2}, {'rnn_type': 'LSTM', 'hidden_size': 192, 'rnn_dropout': 0.2}]</td>\n",
              "      <td>0.229438</td>\n",
              "      <td>0.001503</td>\n",
              "    </tr>\n",
              "    <tr>\n",
              "      <th>3</th>\n",
              "      <td>64</td>\n",
              "      <td>0.4</td>\n",
              "      <td>0.001</td>\n",
              "      <td>50</td>\n",
              "      <td>[{'rnn_type': 'GRU', 'hidden_size': 192, 'rnn_dropout': 0.2}, {'rnn_type': 'GRU', 'hidden_size': 256, 'rnn_dropout': 0.2}, {'rnn_type': 'GRU', 'hidden_size': 192, 'rnn_dropout': 0.2}]</td>\n",
              "      <td>0.229489</td>\n",
              "      <td>0.002440</td>\n",
              "    </tr>\n",
              "    <tr>\n",
              "      <th>1</th>\n",
              "      <td>64</td>\n",
              "      <td>0.4</td>\n",
              "      <td>0.001</td>\n",
              "      <td>50</td>\n",
              "      <td>[{'rnn_type': 'LSTM', 'hidden_size': 128, 'rnn_dropout': 0.2}, {'rnn_type': 'LSTM', 'hidden_size': 256, 'rnn_dropout': 0.2}, {'rnn_type': 'LSTM', 'hidden_size': 192, 'rnn_dropout': 0.0}]</td>\n",
              "      <td>0.229813</td>\n",
              "      <td>0.002641</td>\n",
              "    </tr>\n",
              "    <tr>\n",
              "      <th>0</th>\n",
              "      <td>64</td>\n",
              "      <td>0.4</td>\n",
              "      <td>0.001</td>\n",
              "      <td>50</td>\n",
              "      <td>[{'rnn_type': 'LSTM', 'hidden_size': 128, 'rnn_dropout': 0.2}, {'rnn_type': 'LSTM', 'hidden_size': 256, 'rnn_dropout': 0.2}, {'rnn_type': 'LSTM', 'hidden_size': 192, 'rnn_dropout': 0.2}]</td>\n",
              "      <td>0.230659</td>\n",
              "      <td>0.002525</td>\n",
              "    </tr>\n",
              "  </tbody>\n",
              "</table>\n",
              "</div>"
            ],
            "text/plain": [
              "  embedding_size  spatial_dropout  ...  rmse_mean  rmse_std\n",
              "2             64              0.4  ...   0.229438  0.001503\n",
              "3             64              0.4  ...   0.229489  0.002440\n",
              "1             64              0.4  ...   0.229813  0.002641\n",
              "0             64              0.4  ...   0.230659  0.002525\n",
              "\n",
              "[4 rows x 7 columns]"
            ]
          },
          "metadata": {
            "tags": []
          }
        },
        {
          "output_type": "execute_result",
          "data": {
            "text/plain": [
              "0.22984991824569115"
            ]
          },
          "metadata": {
            "tags": []
          },
          "execution_count": 42
        }
      ]
    },
    {
      "cell_type": "code",
      "metadata": {
        "id": "h-YS6nTGR2nP",
        "outputId": "fb193714-9d73-4525-e14d-ba60b5dffeb8",
        "colab": {
          "base_uri": "https://localhost:8080/",
          "height": 261
        }
      },
      "source": [
        "# 2020-09-29\n",
        "# different hidden sizes\n",
        "\n",
        "display(df_params.sort_values(by=\"rmse_mean\"))\n",
        "df_params['rmse_mean'].mean()"
      ],
      "execution_count": null,
      "outputs": [
        {
          "output_type": "display_data",
          "data": {
            "text/html": [
              "<div>\n",
              "<style scoped>\n",
              "    .dataframe tbody tr th:only-of-type {\n",
              "        vertical-align: middle;\n",
              "    }\n",
              "\n",
              "    .dataframe tbody tr th {\n",
              "        vertical-align: top;\n",
              "    }\n",
              "\n",
              "    .dataframe thead th {\n",
              "        text-align: right;\n",
              "    }\n",
              "</style>\n",
              "<table border=\"1\" class=\"dataframe\">\n",
              "  <thead>\n",
              "    <tr style=\"text-align: right;\">\n",
              "      <th></th>\n",
              "      <th>embedding_size</th>\n",
              "      <th>spatial_dropout</th>\n",
              "      <th>learning_rate</th>\n",
              "      <th>epochs</th>\n",
              "      <th>rnn_params</th>\n",
              "      <th>rmse_mean</th>\n",
              "      <th>rmse_std</th>\n",
              "    </tr>\n",
              "  </thead>\n",
              "  <tbody>\n",
              "    <tr>\n",
              "      <th>1</th>\n",
              "      <td>64</td>\n",
              "      <td>0.4</td>\n",
              "      <td>0.001</td>\n",
              "      <td>50</td>\n",
              "      <td>[{'rnn_type': 'LSTM', 'hidden_size': 128, 'rnn_dropout': 0.2}, {'rnn_type': 'LSTM', 'hidden_size': 256, 'rnn_dropout': 0.2}, {'rnn_type': 'LSTM', 'hidden_size': 384, 'rnn_dropout': 0.2}, {'rnn_type': 'LSTM', 'hidden_size': 256, 'rnn_dropout': 0.0}]</td>\n",
              "      <td>0.23414</td>\n",
              "      <td>0.003380</td>\n",
              "    </tr>\n",
              "    <tr>\n",
              "      <th>0</th>\n",
              "      <td>64</td>\n",
              "      <td>0.4</td>\n",
              "      <td>0.001</td>\n",
              "      <td>50</td>\n",
              "      <td>[{'rnn_type': 'LSTM', 'hidden_size': 256, 'rnn_dropout': 0.2}, {'rnn_type': 'LSTM', 'hidden_size': 256, 'rnn_dropout': 0.2}, {'rnn_type': 'LSTM', 'hidden_size': 256, 'rnn_dropout': 0.2}, {'rnn_type': 'LSTM', 'hidden_size': 256, 'rnn_dropout': 0.2}]</td>\n",
              "      <td>0.23463</td>\n",
              "      <td>0.002452</td>\n",
              "    </tr>\n",
              "    <tr>\n",
              "      <th>2</th>\n",
              "      <td>64</td>\n",
              "      <td>0.4</td>\n",
              "      <td>0.001</td>\n",
              "      <td>50</td>\n",
              "      <td>[{'rnn_type': 'LSTM', 'hidden_size': 128, 'rnn_dropout': 0.2}, {'rnn_type': 'LSTM', 'hidden_size': 256, 'rnn_dropout': 0.2}, {'rnn_type': 'LSTM', 'hidden_size': 192, 'rnn_dropout': 0.2}]</td>\n",
              "      <td>0.23477</td>\n",
              "      <td>0.001716</td>\n",
              "    </tr>\n",
              "  </tbody>\n",
              "</table>\n",
              "</div>"
            ],
            "text/plain": [
              "  embedding_size  spatial_dropout  ...  rmse_mean  rmse_std\n",
              "1  64             0.4              ...  0.23414    0.003380\n",
              "0  64             0.4              ...  0.23463    0.002452\n",
              "2  64             0.4              ...  0.23477    0.001716\n",
              "\n",
              "[3 rows x 7 columns]"
            ]
          },
          "metadata": {
            "tags": []
          }
        },
        {
          "output_type": "execute_result",
          "data": {
            "text/plain": [
              "0.2345129077250678"
            ]
          },
          "metadata": {
            "tags": []
          },
          "execution_count": 102
        }
      ]
    },
    {
      "cell_type": "code",
      "metadata": {
        "id": "9JaFFQbiItoC",
        "outputId": "7dddd7ba-681e-44d5-b8e2-f89f6d42c2e6",
        "colab": {
          "base_uri": "https://localhost:8080/",
          "height": 261
        }
      },
      "source": [
        "# 2020-09-29\n",
        "# different hidden sizes\n",
        "\n",
        "display(df_params.sort_values(by=\"rmse_mean\"))\n",
        "df_params['rmse_mean'].mean()"
      ],
      "execution_count": null,
      "outputs": [
        {
          "output_type": "display_data",
          "data": {
            "text/html": [
              "<div>\n",
              "<style scoped>\n",
              "    .dataframe tbody tr th:only-of-type {\n",
              "        vertical-align: middle;\n",
              "    }\n",
              "\n",
              "    .dataframe tbody tr th {\n",
              "        vertical-align: top;\n",
              "    }\n",
              "\n",
              "    .dataframe thead th {\n",
              "        text-align: right;\n",
              "    }\n",
              "</style>\n",
              "<table border=\"1\" class=\"dataframe\">\n",
              "  <thead>\n",
              "    <tr style=\"text-align: right;\">\n",
              "      <th></th>\n",
              "      <th>embedding_size</th>\n",
              "      <th>spatial_dropout</th>\n",
              "      <th>learning_rate</th>\n",
              "      <th>epochs</th>\n",
              "      <th>rnn_params</th>\n",
              "      <th>rmse_mean</th>\n",
              "      <th>rmse_std</th>\n",
              "    </tr>\n",
              "  </thead>\n",
              "  <tbody>\n",
              "    <tr>\n",
              "      <th>0</th>\n",
              "      <td>64</td>\n",
              "      <td>0.4</td>\n",
              "      <td>0.001</td>\n",
              "      <td>50</td>\n",
              "      <td>[{'rnn_type': 'LSTM', 'hidden_size': 256, 'rnn_dropout': 0.2}, {'rnn_type': 'LSTM', 'hidden_size': 256, 'rnn_dropout': 0.2}, {'rnn_type': 'LSTM', 'hidden_size': 256, 'rnn_dropout': 0.2}, {'rnn_type': 'LSTM', 'hidden_size': 256, 'rnn_dropout': 0.2}]</td>\n",
              "      <td>0.232661</td>\n",
              "      <td>0.002259</td>\n",
              "    </tr>\n",
              "    <tr>\n",
              "      <th>2</th>\n",
              "      <td>64</td>\n",
              "      <td>0.4</td>\n",
              "      <td>0.001</td>\n",
              "      <td>50</td>\n",
              "      <td>[{'rnn_type': 'LSTM', 'hidden_size': 128, 'rnn_dropout': 0.2}, {'rnn_type': 'LSTM', 'hidden_size': 256, 'rnn_dropout': 0.2}, {'rnn_type': 'LSTM', 'hidden_size': 192, 'rnn_dropout': 0.2}]</td>\n",
              "      <td>0.233638</td>\n",
              "      <td>0.002423</td>\n",
              "    </tr>\n",
              "    <tr>\n",
              "      <th>1</th>\n",
              "      <td>64</td>\n",
              "      <td>0.4</td>\n",
              "      <td>0.001</td>\n",
              "      <td>50</td>\n",
              "      <td>[{'rnn_type': 'LSTM', 'hidden_size': 128, 'rnn_dropout': 0.2}, {'rnn_type': 'LSTM', 'hidden_size': 256, 'rnn_dropout': 0.2}, {'rnn_type': 'LSTM', 'hidden_size': 384, 'rnn_dropout': 0.2}, {'rnn_type': 'LSTM', 'hidden_size': 256, 'rnn_dropout': 0.0}]</td>\n",
              "      <td>0.234843</td>\n",
              "      <td>0.003797</td>\n",
              "    </tr>\n",
              "  </tbody>\n",
              "</table>\n",
              "</div>"
            ],
            "text/plain": [
              "  embedding_size  spatial_dropout  ...  rmse_mean  rmse_std\n",
              "0  64             0.4              ...  0.232661   0.002259\n",
              "2  64             0.4              ...  0.233638   0.002423\n",
              "1  64             0.4              ...  0.234843   0.003797\n",
              "\n",
              "[3 rows x 7 columns]"
            ]
          },
          "metadata": {
            "tags": []
          }
        },
        {
          "output_type": "execute_result",
          "data": {
            "text/plain": [
              "0.23371371432338314"
            ]
          },
          "metadata": {
            "tags": []
          },
          "execution_count": 77
        }
      ]
    },
    {
      "cell_type": "code",
      "metadata": {
        "id": "2gbH7GM1HpJ_",
        "outputId": "4dd8b85d-390d-44ab-a5fd-cec7d57aad4a",
        "colab": {
          "base_uri": "https://localhost:8080/",
          "height": 128
        }
      },
      "source": [
        "# 2020-09-28\n",
        "# Back to without Conv1D. use k-fold on SN_filter == 0 set as well\n",
        "\n",
        "display(df_params.sort_values(by=\"rmse_mean\"))\n",
        "df_params['rmse_mean'].mean()"
      ],
      "execution_count": null,
      "outputs": [
        {
          "output_type": "display_data",
          "data": {
            "text/html": [
              "<div>\n",
              "<style scoped>\n",
              "    .dataframe tbody tr th:only-of-type {\n",
              "        vertical-align: middle;\n",
              "    }\n",
              "\n",
              "    .dataframe tbody tr th {\n",
              "        vertical-align: top;\n",
              "    }\n",
              "\n",
              "    .dataframe thead th {\n",
              "        text-align: right;\n",
              "    }\n",
              "</style>\n",
              "<table border=\"1\" class=\"dataframe\">\n",
              "  <thead>\n",
              "    <tr style=\"text-align: right;\">\n",
              "      <th></th>\n",
              "      <th>rnn_type</th>\n",
              "      <th>embedding_size</th>\n",
              "      <th>hidden_size</th>\n",
              "      <th>num_layers</th>\n",
              "      <th>spatial_dropout</th>\n",
              "      <th>rnn_dropout</th>\n",
              "      <th>learning_rate</th>\n",
              "      <th>epochs</th>\n",
              "      <th>rmse_mean</th>\n",
              "      <th>rmse_std</th>\n",
              "    </tr>\n",
              "  </thead>\n",
              "  <tbody>\n",
              "    <tr>\n",
              "      <th>0</th>\n",
              "      <td>GRU</td>\n",
              "      <td>64</td>\n",
              "      <td>256</td>\n",
              "      <td>4</td>\n",
              "      <td>0.4</td>\n",
              "      <td>0.2</td>\n",
              "      <td>0.001</td>\n",
              "      <td>60</td>\n",
              "      <td>0.224512</td>\n",
              "      <td>0.003098</td>\n",
              "    </tr>\n",
              "    <tr>\n",
              "      <th>1</th>\n",
              "      <td>LSTM</td>\n",
              "      <td>64</td>\n",
              "      <td>256</td>\n",
              "      <td>4</td>\n",
              "      <td>0.4</td>\n",
              "      <td>0.2</td>\n",
              "      <td>0.001</td>\n",
              "      <td>60</td>\n",
              "      <td>0.224753</td>\n",
              "      <td>0.003907</td>\n",
              "    </tr>\n",
              "  </tbody>\n",
              "</table>\n",
              "</div>"
            ],
            "text/plain": [
              "  rnn_type embedding_size hidden_size  ... epochs  rmse_mean  rmse_std\n",
              "0      GRU             64         256  ...     60   0.224512  0.003098\n",
              "1     LSTM             64         256  ...     60   0.224753  0.003907\n",
              "\n",
              "[2 rows x 10 columns]"
            ]
          },
          "metadata": {
            "tags": []
          }
        },
        {
          "output_type": "execute_result",
          "data": {
            "text/plain": [
              "0.22463228432741184"
            ]
          },
          "metadata": {
            "tags": []
          },
          "execution_count": 61
        }
      ]
    },
    {
      "cell_type": "code",
      "metadata": {
        "id": "NlN6kDddzdeh",
        "outputId": "2ee95064-0721-4c64-c78c-af91661cfd0d",
        "colab": {
          "base_uri": "https://localhost:8080/",
          "height": 117
        }
      },
      "source": [
        "# 2020-09-28\n",
        "# Conv1D + LayerNorm, 4*1*1\n",
        "\n",
        "display(df_params.sort_values(by=\"rmse_mean\"))\n",
        "df_params['rmse_mean'].mean()"
      ],
      "execution_count": null,
      "outputs": [
        {
          "output_type": "display_data",
          "data": {
            "text/html": [
              "<div>\n",
              "<style scoped>\n",
              "    .dataframe tbody tr th:only-of-type {\n",
              "        vertical-align: middle;\n",
              "    }\n",
              "\n",
              "    .dataframe tbody tr th {\n",
              "        vertical-align: top;\n",
              "    }\n",
              "\n",
              "    .dataframe thead th {\n",
              "        text-align: right;\n",
              "    }\n",
              "</style>\n",
              "<table border=\"1\" class=\"dataframe\">\n",
              "  <thead>\n",
              "    <tr style=\"text-align: right;\">\n",
              "      <th></th>\n",
              "      <th>rnn_type</th>\n",
              "      <th>embedding_size</th>\n",
              "      <th>hidden_size</th>\n",
              "      <th>num_layers</th>\n",
              "      <th>num_channels</th>\n",
              "      <th>kernel_size</th>\n",
              "      <th>spatial_dropout</th>\n",
              "      <th>rnn_dropout</th>\n",
              "      <th>learning_rate</th>\n",
              "      <th>epochs</th>\n",
              "      <th>rmse_mean</th>\n",
              "      <th>rmse_std</th>\n",
              "    </tr>\n",
              "  </thead>\n",
              "  <tbody>\n",
              "    <tr>\n",
              "      <th>0</th>\n",
              "      <td>LSTM</td>\n",
              "      <td>64</td>\n",
              "      <td>256</td>\n",
              "      <td>4</td>\n",
              "      <td>32</td>\n",
              "      <td>3</td>\n",
              "      <td>0.4</td>\n",
              "      <td>0.2</td>\n",
              "      <td>0.001</td>\n",
              "      <td>60</td>\n",
              "      <td>0.225153</td>\n",
              "      <td>0.002523</td>\n",
              "    </tr>\n",
              "  </tbody>\n",
              "</table>\n",
              "</div>"
            ],
            "text/plain": [
              "  rnn_type embedding_size hidden_size  ... epochs rmse_mean  rmse_std\n",
              "0     LSTM             64         256  ...     60  0.225153  0.002523\n",
              "\n",
              "[1 rows x 12 columns]"
            ]
          },
          "metadata": {
            "tags": []
          }
        },
        {
          "output_type": "execute_result",
          "data": {
            "text/plain": [
              "0.22515317154259773"
            ]
          },
          "metadata": {
            "tags": []
          },
          "execution_count": 38
        }
      ]
    },
    {
      "cell_type": "code",
      "metadata": {
        "id": "wXYRBNO9uKn7",
        "outputId": "5f1ca605-c860-4cf6-c517-8f0976280aa9",
        "colab": {
          "base_uri": "https://localhost:8080/",
          "height": 128
        }
      },
      "source": [
        "# 2020-09-28\n",
        "# Revert back to without trimer, 4*2*2\n",
        "\n",
        "display(df_params.sort_values(by=\"rmse_mean\"))\n",
        "df_params['rmse_mean'].mean()"
      ],
      "execution_count": null,
      "outputs": [
        {
          "output_type": "display_data",
          "data": {
            "text/html": [
              "<div>\n",
              "<style scoped>\n",
              "    .dataframe tbody tr th:only-of-type {\n",
              "        vertical-align: middle;\n",
              "    }\n",
              "\n",
              "    .dataframe tbody tr th {\n",
              "        vertical-align: top;\n",
              "    }\n",
              "\n",
              "    .dataframe thead th {\n",
              "        text-align: right;\n",
              "    }\n",
              "</style>\n",
              "<table border=\"1\" class=\"dataframe\">\n",
              "  <thead>\n",
              "    <tr style=\"text-align: right;\">\n",
              "      <th></th>\n",
              "      <th>rnn_type</th>\n",
              "      <th>embedding_size</th>\n",
              "      <th>hidden_size</th>\n",
              "      <th>num_layers</th>\n",
              "      <th>spatial_dropout</th>\n",
              "      <th>rnn_dropout</th>\n",
              "      <th>learning_rate</th>\n",
              "      <th>epochs</th>\n",
              "      <th>rmse_mean</th>\n",
              "      <th>rmse_std</th>\n",
              "    </tr>\n",
              "  </thead>\n",
              "  <tbody>\n",
              "    <tr>\n",
              "      <th>1</th>\n",
              "      <td>LSTM</td>\n",
              "      <td>64</td>\n",
              "      <td>256</td>\n",
              "      <td>4</td>\n",
              "      <td>0.4</td>\n",
              "      <td>0.2</td>\n",
              "      <td>0.001</td>\n",
              "      <td>60</td>\n",
              "      <td>0.225135</td>\n",
              "      <td>0.003444</td>\n",
              "    </tr>\n",
              "    <tr>\n",
              "      <th>0</th>\n",
              "      <td>GRU</td>\n",
              "      <td>64</td>\n",
              "      <td>256</td>\n",
              "      <td>4</td>\n",
              "      <td>0.4</td>\n",
              "      <td>0.2</td>\n",
              "      <td>0.001</td>\n",
              "      <td>60</td>\n",
              "      <td>0.225152</td>\n",
              "      <td>0.004238</td>\n",
              "    </tr>\n",
              "  </tbody>\n",
              "</table>\n",
              "</div>"
            ],
            "text/plain": [
              "  rnn_type embedding_size hidden_size  ... epochs  rmse_mean  rmse_std\n",
              "1     LSTM             64         256  ...     60   0.225135  0.003444\n",
              "0      GRU             64         256  ...     60   0.225152  0.004238\n",
              "\n",
              "[2 rows x 10 columns]"
            ]
          },
          "metadata": {
            "tags": []
          }
        },
        {
          "output_type": "execute_result",
          "data": {
            "text/plain": [
              "0.2251434601228035"
            ]
          },
          "metadata": {
            "tags": []
          },
          "execution_count": 32
        }
      ]
    },
    {
      "cell_type": "code",
      "metadata": {
        "id": "0mrOv7IK91Ag",
        "outputId": "fe72f444-3646-4d08-c414-c1f2a3ca25ad",
        "colab": {
          "base_uri": "https://localhost:8080/",
          "height": 128
        }
      },
      "source": [
        "# 2020-09-27\n",
        "# Remove SN_filter, 4*4*2\n",
        "\n",
        "display(df_params.sort_values(by=\"rmse_mean\"))\n",
        "df_params['rmse_mean'].mean()"
      ],
      "execution_count": null,
      "outputs": [
        {
          "output_type": "display_data",
          "data": {
            "text/html": [
              "<div>\n",
              "<style scoped>\n",
              "    .dataframe tbody tr th:only-of-type {\n",
              "        vertical-align: middle;\n",
              "    }\n",
              "\n",
              "    .dataframe tbody tr th {\n",
              "        vertical-align: top;\n",
              "    }\n",
              "\n",
              "    .dataframe thead th {\n",
              "        text-align: right;\n",
              "    }\n",
              "</style>\n",
              "<table border=\"1\" class=\"dataframe\">\n",
              "  <thead>\n",
              "    <tr style=\"text-align: right;\">\n",
              "      <th></th>\n",
              "      <th>rnn_type</th>\n",
              "      <th>embedding_size</th>\n",
              "      <th>hidden_size</th>\n",
              "      <th>num_layers</th>\n",
              "      <th>spatial_dropout</th>\n",
              "      <th>rnn_dropout</th>\n",
              "      <th>learning_rate</th>\n",
              "      <th>epochs</th>\n",
              "      <th>rmse_mean</th>\n",
              "      <th>rmse_std</th>\n",
              "    </tr>\n",
              "  </thead>\n",
              "  <tbody>\n",
              "    <tr>\n",
              "      <th>1</th>\n",
              "      <td>LSTM</td>\n",
              "      <td>64</td>\n",
              "      <td>256</td>\n",
              "      <td>4</td>\n",
              "      <td>0.4</td>\n",
              "      <td>0.2</td>\n",
              "      <td>0.001</td>\n",
              "      <td>60</td>\n",
              "      <td>0.224889</td>\n",
              "      <td>0.003519</td>\n",
              "    </tr>\n",
              "    <tr>\n",
              "      <th>0</th>\n",
              "      <td>GRU</td>\n",
              "      <td>64</td>\n",
              "      <td>256</td>\n",
              "      <td>4</td>\n",
              "      <td>0.4</td>\n",
              "      <td>0.2</td>\n",
              "      <td>0.001</td>\n",
              "      <td>60</td>\n",
              "      <td>0.225046</td>\n",
              "      <td>0.002788</td>\n",
              "    </tr>\n",
              "  </tbody>\n",
              "</table>\n",
              "</div>"
            ],
            "text/plain": [
              "  rnn_type embedding_size hidden_size  ... epochs  rmse_mean  rmse_std\n",
              "1     LSTM             64         256  ...     60   0.224889  0.003519\n",
              "0      GRU             64         256  ...     60   0.225046  0.002788\n",
              "\n",
              "[2 rows x 10 columns]"
            ]
          },
          "metadata": {
            "tags": []
          }
        },
        {
          "output_type": "execute_result",
          "data": {
            "text/plain": [
              "0.22496744846415095"
            ]
          },
          "metadata": {
            "tags": []
          },
          "execution_count": 46
        }
      ]
    },
    {
      "cell_type": "code",
      "metadata": {
        "id": "Bme1NyM8h0Ll",
        "outputId": "d852de31-6717-47dc-f20f-319cf5022a29",
        "colab": {
          "base_uri": "https://localhost:8080/",
          "height": 128
        }
      },
      "source": [
        "# 2020-09-27\n",
        "# Remove SN_filter, 3*4*2\n",
        "\n",
        "display(df_params.sort_values(by=\"rmse_mean\"))\n",
        "df_params['rmse_mean'].mean()"
      ],
      "execution_count": null,
      "outputs": [
        {
          "output_type": "display_data",
          "data": {
            "text/html": [
              "<div>\n",
              "<style scoped>\n",
              "    .dataframe tbody tr th:only-of-type {\n",
              "        vertical-align: middle;\n",
              "    }\n",
              "\n",
              "    .dataframe tbody tr th {\n",
              "        vertical-align: top;\n",
              "    }\n",
              "\n",
              "    .dataframe thead th {\n",
              "        text-align: right;\n",
              "    }\n",
              "</style>\n",
              "<table border=\"1\" class=\"dataframe\">\n",
              "  <thead>\n",
              "    <tr style=\"text-align: right;\">\n",
              "      <th></th>\n",
              "      <th>rnn_type</th>\n",
              "      <th>embedding_size</th>\n",
              "      <th>hidden_size</th>\n",
              "      <th>num_layers</th>\n",
              "      <th>spatial_dropout</th>\n",
              "      <th>rnn_dropout</th>\n",
              "      <th>learning_rate</th>\n",
              "      <th>epochs</th>\n",
              "      <th>rmse_mean</th>\n",
              "      <th>rmse_std</th>\n",
              "    </tr>\n",
              "  </thead>\n",
              "  <tbody>\n",
              "    <tr>\n",
              "      <th>1</th>\n",
              "      <td>LSTM</td>\n",
              "      <td>64</td>\n",
              "      <td>256</td>\n",
              "      <td>4</td>\n",
              "      <td>0.4</td>\n",
              "      <td>0.2</td>\n",
              "      <td>0.001</td>\n",
              "      <td>60</td>\n",
              "      <td>0.227197</td>\n",
              "      <td>0.003325</td>\n",
              "    </tr>\n",
              "    <tr>\n",
              "      <th>0</th>\n",
              "      <td>GRU</td>\n",
              "      <td>64</td>\n",
              "      <td>256</td>\n",
              "      <td>4</td>\n",
              "      <td>0.4</td>\n",
              "      <td>0.2</td>\n",
              "      <td>0.001</td>\n",
              "      <td>60</td>\n",
              "      <td>0.228425</td>\n",
              "      <td>0.005527</td>\n",
              "    </tr>\n",
              "  </tbody>\n",
              "</table>\n",
              "</div>"
            ],
            "text/plain": [
              "  rnn_type embedding_size hidden_size  ... epochs  rmse_mean  rmse_std\n",
              "1     LSTM             64         256  ...     60   0.227197  0.003325\n",
              "0      GRU             64         256  ...     60   0.228425  0.005527\n",
              "\n",
              "[2 rows x 10 columns]"
            ]
          },
          "metadata": {
            "tags": []
          }
        },
        {
          "output_type": "execute_result",
          "data": {
            "text/plain": [
              "0.22781111175232027"
            ]
          },
          "metadata": {
            "tags": []
          },
          "execution_count": 33
        }
      ]
    },
    {
      "cell_type": "code",
      "metadata": {
        "id": "AHAnqgXXC-rH",
        "outputId": "84e75992-712a-4db9-b81f-d727cb8e0666",
        "colab": {
          "base_uri": "https://localhost:8080/",
          "height": 128
        }
      },
      "source": [
        "# 2020-09-27\n",
        "# Remove SN_filter, num_repeats = 2\n",
        "\n",
        "display(df_params.sort_values(by=\"rmse_mean\"))\n",
        "df_params['rmse_mean'].mean()"
      ],
      "execution_count": null,
      "outputs": [
        {
          "output_type": "display_data",
          "data": {
            "text/html": [
              "<div>\n",
              "<style scoped>\n",
              "    .dataframe tbody tr th:only-of-type {\n",
              "        vertical-align: middle;\n",
              "    }\n",
              "\n",
              "    .dataframe tbody tr th {\n",
              "        vertical-align: top;\n",
              "    }\n",
              "\n",
              "    .dataframe thead th {\n",
              "        text-align: right;\n",
              "    }\n",
              "</style>\n",
              "<table border=\"1\" class=\"dataframe\">\n",
              "  <thead>\n",
              "    <tr style=\"text-align: right;\">\n",
              "      <th></th>\n",
              "      <th>rnn_type</th>\n",
              "      <th>embedding_size</th>\n",
              "      <th>hidden_size</th>\n",
              "      <th>num_layers</th>\n",
              "      <th>spatial_dropout</th>\n",
              "      <th>rnn_dropout</th>\n",
              "      <th>learning_rate</th>\n",
              "      <th>epochs</th>\n",
              "      <th>rmse_mean</th>\n",
              "      <th>rmse_std</th>\n",
              "    </tr>\n",
              "  </thead>\n",
              "  <tbody>\n",
              "    <tr>\n",
              "      <th>1</th>\n",
              "      <td>LSTM</td>\n",
              "      <td>64</td>\n",
              "      <td>256</td>\n",
              "      <td>4</td>\n",
              "      <td>0.4</td>\n",
              "      <td>0.2</td>\n",
              "      <td>0.001</td>\n",
              "      <td>60</td>\n",
              "      <td>0.224666</td>\n",
              "      <td>0.003856</td>\n",
              "    </tr>\n",
              "    <tr>\n",
              "      <th>0</th>\n",
              "      <td>GRU</td>\n",
              "      <td>64</td>\n",
              "      <td>256</td>\n",
              "      <td>4</td>\n",
              "      <td>0.4</td>\n",
              "      <td>0.2</td>\n",
              "      <td>0.001</td>\n",
              "      <td>60</td>\n",
              "      <td>0.224709</td>\n",
              "      <td>0.003142</td>\n",
              "    </tr>\n",
              "  </tbody>\n",
              "</table>\n",
              "</div>"
            ],
            "text/plain": [
              "  rnn_type embedding_size hidden_size  ... epochs  rmse_mean  rmse_std\n",
              "1     LSTM             64         256  ...     60   0.224666  0.003856\n",
              "0      GRU             64         256  ...     60   0.224709  0.003142\n",
              "\n",
              "[2 rows x 10 columns]"
            ]
          },
          "metadata": {
            "tags": []
          }
        },
        {
          "output_type": "execute_result",
          "data": {
            "text/plain": [
              "0.22468721468199887"
            ]
          },
          "metadata": {
            "tags": []
          },
          "execution_count": 303
        }
      ]
    },
    {
      "cell_type": "code",
      "metadata": {
        "id": "OCYB4MCk4eXD",
        "outputId": "4966f708-a19b-4e6d-90a6-10630d6f2a71",
        "colab": {
          "base_uri": "https://localhost:8080/",
          "height": 128
        }
      },
      "source": [
        "# 2020-09-27\n",
        "# Remove SN_filter\n",
        "\n",
        "display(df_params.sort_values(by=\"rmse_mean\"))\n",
        "df_params['rmse_mean'].mean()"
      ],
      "execution_count": null,
      "outputs": [
        {
          "output_type": "display_data",
          "data": {
            "text/html": [
              "<div>\n",
              "<style scoped>\n",
              "    .dataframe tbody tr th:only-of-type {\n",
              "        vertical-align: middle;\n",
              "    }\n",
              "\n",
              "    .dataframe tbody tr th {\n",
              "        vertical-align: top;\n",
              "    }\n",
              "\n",
              "    .dataframe thead th {\n",
              "        text-align: right;\n",
              "    }\n",
              "</style>\n",
              "<table border=\"1\" class=\"dataframe\">\n",
              "  <thead>\n",
              "    <tr style=\"text-align: right;\">\n",
              "      <th></th>\n",
              "      <th>rnn_type</th>\n",
              "      <th>embedding_size</th>\n",
              "      <th>hidden_size</th>\n",
              "      <th>num_layers</th>\n",
              "      <th>spatial_dropout</th>\n",
              "      <th>rnn_dropout</th>\n",
              "      <th>learning_rate</th>\n",
              "      <th>epochs</th>\n",
              "      <th>rmse_mean</th>\n",
              "      <th>rmse_std</th>\n",
              "    </tr>\n",
              "  </thead>\n",
              "  <tbody>\n",
              "    <tr>\n",
              "      <th>0</th>\n",
              "      <td>GRU</td>\n",
              "      <td>64</td>\n",
              "      <td>256</td>\n",
              "      <td>4</td>\n",
              "      <td>0.4</td>\n",
              "      <td>0.2</td>\n",
              "      <td>0.001</td>\n",
              "      <td>60</td>\n",
              "      <td>0.225000</td>\n",
              "      <td>0.001909</td>\n",
              "    </tr>\n",
              "    <tr>\n",
              "      <th>1</th>\n",
              "      <td>LSTM</td>\n",
              "      <td>64</td>\n",
              "      <td>256</td>\n",
              "      <td>4</td>\n",
              "      <td>0.4</td>\n",
              "      <td>0.2</td>\n",
              "      <td>0.001</td>\n",
              "      <td>60</td>\n",
              "      <td>0.226079</td>\n",
              "      <td>0.002170</td>\n",
              "    </tr>\n",
              "  </tbody>\n",
              "</table>\n",
              "</div>"
            ],
            "text/plain": [
              "  rnn_type embedding_size hidden_size  ... epochs  rmse_mean  rmse_std\n",
              "0      GRU             64         256  ...     60   0.225000  0.001909\n",
              "1     LSTM             64         256  ...     60   0.226079  0.002170\n",
              "\n",
              "[2 rows x 10 columns]"
            ]
          },
          "metadata": {
            "tags": []
          }
        },
        {
          "output_type": "execute_result",
          "data": {
            "text/plain": [
              "0.22553964738231946"
            ]
          },
          "metadata": {
            "tags": []
          },
          "execution_count": 282
        }
      ]
    },
    {
      "cell_type": "code",
      "metadata": {
        "id": "WkAqRdM6o84W",
        "outputId": "324245ad-12f2-48af-b6cb-500f30df025b",
        "colab": {
          "base_uri": "https://localhost:8080/",
          "height": 128
        }
      },
      "source": [
        "# 2020-09-27\n",
        "# Weights = log1p(signal_to_noise) + Trimer encoding\n",
        "\n",
        "display(df_params.sort_values(by=\"rmse_mean\"))\n",
        "df_params['rmse_mean'].mean()"
      ],
      "execution_count": null,
      "outputs": [
        {
          "output_type": "display_data",
          "data": {
            "text/html": [
              "<div>\n",
              "<style scoped>\n",
              "    .dataframe tbody tr th:only-of-type {\n",
              "        vertical-align: middle;\n",
              "    }\n",
              "\n",
              "    .dataframe tbody tr th {\n",
              "        vertical-align: top;\n",
              "    }\n",
              "\n",
              "    .dataframe thead th {\n",
              "        text-align: right;\n",
              "    }\n",
              "</style>\n",
              "<table border=\"1\" class=\"dataframe\">\n",
              "  <thead>\n",
              "    <tr style=\"text-align: right;\">\n",
              "      <th></th>\n",
              "      <th>rnn_type</th>\n",
              "      <th>embedding_size</th>\n",
              "      <th>hidden_size</th>\n",
              "      <th>num_layers</th>\n",
              "      <th>spatial_dropout</th>\n",
              "      <th>rnn_dropout</th>\n",
              "      <th>learning_rate</th>\n",
              "      <th>epochs</th>\n",
              "      <th>rmse_mean</th>\n",
              "      <th>rmse_std</th>\n",
              "    </tr>\n",
              "  </thead>\n",
              "  <tbody>\n",
              "    <tr>\n",
              "      <th>0</th>\n",
              "      <td>GRU</td>\n",
              "      <td>64</td>\n",
              "      <td>256</td>\n",
              "      <td>4</td>\n",
              "      <td>0.4</td>\n",
              "      <td>0.2</td>\n",
              "      <td>0.001</td>\n",
              "      <td>60</td>\n",
              "      <td>0.223179</td>\n",
              "      <td>0.001602</td>\n",
              "    </tr>\n",
              "    <tr>\n",
              "      <th>1</th>\n",
              "      <td>LSTM</td>\n",
              "      <td>64</td>\n",
              "      <td>256</td>\n",
              "      <td>4</td>\n",
              "      <td>0.4</td>\n",
              "      <td>0.2</td>\n",
              "      <td>0.001</td>\n",
              "      <td>60</td>\n",
              "      <td>0.223209</td>\n",
              "      <td>0.002049</td>\n",
              "    </tr>\n",
              "  </tbody>\n",
              "</table>\n",
              "</div>"
            ],
            "text/plain": [
              "  rnn_type embedding_size hidden_size  ... epochs  rmse_mean  rmse_std\n",
              "0      GRU             64         256  ...     60   0.223179  0.001602\n",
              "1     LSTM             64         256  ...     60   0.223209  0.002049\n",
              "\n",
              "[2 rows x 10 columns]"
            ]
          },
          "metadata": {
            "tags": []
          }
        },
        {
          "output_type": "execute_result",
          "data": {
            "text/plain": [
              "0.22319385413698314"
            ]
          },
          "metadata": {
            "tags": []
          },
          "execution_count": 191
        }
      ]
    },
    {
      "cell_type": "code",
      "metadata": {
        "id": "KO4ibJKeUi4Q",
        "outputId": "27718cf6-af37-4428-81c3-f8925ceb943f",
        "colab": {
          "base_uri": "https://localhost:8080/",
          "height": 314
        }
      },
      "source": [
        "# 2020-09-27\n",
        "# Weights = signal_to_noise + Trimer encoding\n",
        "\n",
        "display(df_params.sort_values(by=\"rmse_mean\"))\n",
        "df_params['rmse_mean'].mean()"
      ],
      "execution_count": null,
      "outputs": [
        {
          "output_type": "display_data",
          "data": {
            "text/html": [
              "<div>\n",
              "<style scoped>\n",
              "    .dataframe tbody tr th:only-of-type {\n",
              "        vertical-align: middle;\n",
              "    }\n",
              "\n",
              "    .dataframe tbody tr th {\n",
              "        vertical-align: top;\n",
              "    }\n",
              "\n",
              "    .dataframe thead th {\n",
              "        text-align: right;\n",
              "    }\n",
              "</style>\n",
              "<table border=\"1\" class=\"dataframe\">\n",
              "  <thead>\n",
              "    <tr style=\"text-align: right;\">\n",
              "      <th></th>\n",
              "      <th>rnn_type</th>\n",
              "      <th>embedding_size</th>\n",
              "      <th>hidden_size</th>\n",
              "      <th>num_layers</th>\n",
              "      <th>spatial_dropout</th>\n",
              "      <th>rnn_dropout</th>\n",
              "      <th>learning_rate</th>\n",
              "      <th>epochs</th>\n",
              "      <th>rmse_mean</th>\n",
              "      <th>rmse_std</th>\n",
              "    </tr>\n",
              "  </thead>\n",
              "  <tbody>\n",
              "    <tr>\n",
              "      <th>7</th>\n",
              "      <td>LSTM</td>\n",
              "      <td>64</td>\n",
              "      <td>256</td>\n",
              "      <td>4</td>\n",
              "      <td>0.4</td>\n",
              "      <td>0.2</td>\n",
              "      <td>0.001</td>\n",
              "      <td>60</td>\n",
              "      <td>0.217408</td>\n",
              "      <td>0.001857</td>\n",
              "    </tr>\n",
              "    <tr>\n",
              "      <th>0</th>\n",
              "      <td>LSTM</td>\n",
              "      <td>48</td>\n",
              "      <td>256</td>\n",
              "      <td>3</td>\n",
              "      <td>0.3</td>\n",
              "      <td>0.2</td>\n",
              "      <td>0.001</td>\n",
              "      <td>60</td>\n",
              "      <td>0.217608</td>\n",
              "      <td>0.001614</td>\n",
              "    </tr>\n",
              "    <tr>\n",
              "      <th>3</th>\n",
              "      <td>LSTM</td>\n",
              "      <td>48</td>\n",
              "      <td>256</td>\n",
              "      <td>4</td>\n",
              "      <td>0.4</td>\n",
              "      <td>0.2</td>\n",
              "      <td>0.001</td>\n",
              "      <td>60</td>\n",
              "      <td>0.217906</td>\n",
              "      <td>0.002038</td>\n",
              "    </tr>\n",
              "    <tr>\n",
              "      <th>1</th>\n",
              "      <td>LSTM</td>\n",
              "      <td>48</td>\n",
              "      <td>256</td>\n",
              "      <td>3</td>\n",
              "      <td>0.4</td>\n",
              "      <td>0.2</td>\n",
              "      <td>0.001</td>\n",
              "      <td>60</td>\n",
              "      <td>0.218611</td>\n",
              "      <td>0.002338</td>\n",
              "    </tr>\n",
              "    <tr>\n",
              "      <th>6</th>\n",
              "      <td>LSTM</td>\n",
              "      <td>64</td>\n",
              "      <td>256</td>\n",
              "      <td>4</td>\n",
              "      <td>0.3</td>\n",
              "      <td>0.2</td>\n",
              "      <td>0.001</td>\n",
              "      <td>60</td>\n",
              "      <td>0.218659</td>\n",
              "      <td>0.001641</td>\n",
              "    </tr>\n",
              "    <tr>\n",
              "      <th>5</th>\n",
              "      <td>LSTM</td>\n",
              "      <td>64</td>\n",
              "      <td>256</td>\n",
              "      <td>3</td>\n",
              "      <td>0.4</td>\n",
              "      <td>0.2</td>\n",
              "      <td>0.001</td>\n",
              "      <td>60</td>\n",
              "      <td>0.218993</td>\n",
              "      <td>0.002491</td>\n",
              "    </tr>\n",
              "    <tr>\n",
              "      <th>4</th>\n",
              "      <td>LSTM</td>\n",
              "      <td>64</td>\n",
              "      <td>256</td>\n",
              "      <td>3</td>\n",
              "      <td>0.3</td>\n",
              "      <td>0.2</td>\n",
              "      <td>0.001</td>\n",
              "      <td>60</td>\n",
              "      <td>0.219200</td>\n",
              "      <td>0.003093</td>\n",
              "    </tr>\n",
              "    <tr>\n",
              "      <th>2</th>\n",
              "      <td>LSTM</td>\n",
              "      <td>48</td>\n",
              "      <td>256</td>\n",
              "      <td>4</td>\n",
              "      <td>0.3</td>\n",
              "      <td>0.2</td>\n",
              "      <td>0.001</td>\n",
              "      <td>60</td>\n",
              "      <td>0.220428</td>\n",
              "      <td>0.001829</td>\n",
              "    </tr>\n",
              "  </tbody>\n",
              "</table>\n",
              "</div>"
            ],
            "text/plain": [
              "  rnn_type embedding_size hidden_size  ... epochs  rmse_mean  rmse_std\n",
              "7     LSTM             64         256  ...     60   0.217408  0.001857\n",
              "0     LSTM             48         256  ...     60   0.217608  0.001614\n",
              "3     LSTM             48         256  ...     60   0.217906  0.002038\n",
              "1     LSTM             48         256  ...     60   0.218611  0.002338\n",
              "6     LSTM             64         256  ...     60   0.218659  0.001641\n",
              "5     LSTM             64         256  ...     60   0.218993  0.002491\n",
              "4     LSTM             64         256  ...     60   0.219200  0.003093\n",
              "2     LSTM             48         256  ...     60   0.220428  0.001829\n",
              "\n",
              "[8 rows x 10 columns]"
            ]
          },
          "metadata": {
            "tags": []
          }
        },
        {
          "output_type": "execute_result",
          "data": {
            "text/plain": [
              "0.2186017526949037"
            ]
          },
          "metadata": {
            "tags": []
          },
          "execution_count": 157
        }
      ]
    },
    {
      "cell_type": "code",
      "metadata": {
        "id": "HpjWiWe-ebCc",
        "outputId": "0c68caf5-8a9f-4dfd-e021-da8e7e7b6f80",
        "colab": {
          "base_uri": "https://localhost:8080/",
          "height": 159
        }
      },
      "source": [
        "# 2020-09-26\n",
        "# Weights = signal_to_noise, more and more and more and more hyperparameters\n",
        "\n",
        "display(df_params.sort_values(by=\"rmse_mean\"))\n",
        "df_params['rmse_mean'].mean()"
      ],
      "execution_count": null,
      "outputs": [
        {
          "output_type": "display_data",
          "data": {
            "text/html": [
              "<div>\n",
              "<style scoped>\n",
              "    .dataframe tbody tr th:only-of-type {\n",
              "        vertical-align: middle;\n",
              "    }\n",
              "\n",
              "    .dataframe tbody tr th {\n",
              "        vertical-align: top;\n",
              "    }\n",
              "\n",
              "    .dataframe thead th {\n",
              "        text-align: right;\n",
              "    }\n",
              "</style>\n",
              "<table border=\"1\" class=\"dataframe\">\n",
              "  <thead>\n",
              "    <tr style=\"text-align: right;\">\n",
              "      <th></th>\n",
              "      <th>rnn_type</th>\n",
              "      <th>embedding_size</th>\n",
              "      <th>hidden_size</th>\n",
              "      <th>num_layers</th>\n",
              "      <th>spatial_dropout</th>\n",
              "      <th>rnn_dropout</th>\n",
              "      <th>learning_rate</th>\n",
              "      <th>epochs</th>\n",
              "      <th>rmse_mean</th>\n",
              "      <th>rmse_std</th>\n",
              "    </tr>\n",
              "  </thead>\n",
              "  <tbody>\n",
              "    <tr>\n",
              "      <th>2</th>\n",
              "      <td>LSTM</td>\n",
              "      <td>64</td>\n",
              "      <td>256</td>\n",
              "      <td>4</td>\n",
              "      <td>0.4</td>\n",
              "      <td>0.2</td>\n",
              "      <td>0.0005</td>\n",
              "      <td>150</td>\n",
              "      <td>0.219068</td>\n",
              "      <td>0.001795</td>\n",
              "    </tr>\n",
              "    <tr>\n",
              "      <th>1</th>\n",
              "      <td>LSTM</td>\n",
              "      <td>64</td>\n",
              "      <td>256</td>\n",
              "      <td>4</td>\n",
              "      <td>0.4</td>\n",
              "      <td>0.2</td>\n",
              "      <td>0.0005</td>\n",
              "      <td>100</td>\n",
              "      <td>0.219307</td>\n",
              "      <td>0.003017</td>\n",
              "    </tr>\n",
              "    <tr>\n",
              "      <th>0</th>\n",
              "      <td>LSTM</td>\n",
              "      <td>64</td>\n",
              "      <td>256</td>\n",
              "      <td>4</td>\n",
              "      <td>0.4</td>\n",
              "      <td>0.2</td>\n",
              "      <td>0.0005</td>\n",
              "      <td>50</td>\n",
              "      <td>0.221206</td>\n",
              "      <td>0.001499</td>\n",
              "    </tr>\n",
              "  </tbody>\n",
              "</table>\n",
              "</div>"
            ],
            "text/plain": [
              "  rnn_type embedding_size hidden_size  ... epochs  rmse_mean  rmse_std\n",
              "2     LSTM             64         256  ...    150   0.219068  0.001795\n",
              "1     LSTM             64         256  ...    100   0.219307  0.003017\n",
              "0     LSTM             64         256  ...     50   0.221206  0.001499\n",
              "\n",
              "[3 rows x 10 columns]"
            ]
          },
          "metadata": {
            "tags": []
          }
        },
        {
          "output_type": "execute_result",
          "data": {
            "text/plain": [
              "0.21986027511806006"
            ]
          },
          "metadata": {
            "tags": []
          },
          "execution_count": 266
        }
      ]
    },
    {
      "cell_type": "code",
      "metadata": {
        "id": "uavMugk-TAni",
        "outputId": "6e0df424-4c8f-4f81-ecb8-2d747857b998",
        "colab": {
          "base_uri": "https://localhost:8080/",
          "height": 190
        }
      },
      "source": [
        "# 2020-09-26\n",
        "# Weights = signal_to_noise, more and more and more hyperparameters\n",
        "\n",
        "display(df_params.sort_values(by=\"rmse_mean\"))\n",
        "df_params['rmse_mean'].mean()"
      ],
      "execution_count": null,
      "outputs": [
        {
          "output_type": "display_data",
          "data": {
            "text/html": [
              "<div>\n",
              "<style scoped>\n",
              "    .dataframe tbody tr th:only-of-type {\n",
              "        vertical-align: middle;\n",
              "    }\n",
              "\n",
              "    .dataframe tbody tr th {\n",
              "        vertical-align: top;\n",
              "    }\n",
              "\n",
              "    .dataframe thead th {\n",
              "        text-align: right;\n",
              "    }\n",
              "</style>\n",
              "<table border=\"1\" class=\"dataframe\">\n",
              "  <thead>\n",
              "    <tr style=\"text-align: right;\">\n",
              "      <th></th>\n",
              "      <th>rnn_type</th>\n",
              "      <th>embedding_size</th>\n",
              "      <th>hidden_size</th>\n",
              "      <th>num_layers</th>\n",
              "      <th>spatial_dropout</th>\n",
              "      <th>rnn_dropout</th>\n",
              "      <th>learning_rate</th>\n",
              "      <th>epochs</th>\n",
              "      <th>rmse_mean</th>\n",
              "      <th>rmse_std</th>\n",
              "    </tr>\n",
              "  </thead>\n",
              "  <tbody>\n",
              "    <tr>\n",
              "      <th>3</th>\n",
              "      <td>LSTM</td>\n",
              "      <td>32</td>\n",
              "      <td>256</td>\n",
              "      <td>4</td>\n",
              "      <td>0.4</td>\n",
              "      <td>0.2</td>\n",
              "      <td>0.001</td>\n",
              "      <td>60</td>\n",
              "      <td>0.217915</td>\n",
              "      <td>0.001362</td>\n",
              "    </tr>\n",
              "    <tr>\n",
              "      <th>0</th>\n",
              "      <td>GRU</td>\n",
              "      <td>32</td>\n",
              "      <td>256</td>\n",
              "      <td>4</td>\n",
              "      <td>0.2</td>\n",
              "      <td>0.2</td>\n",
              "      <td>0.001</td>\n",
              "      <td>60</td>\n",
              "      <td>0.217988</td>\n",
              "      <td>0.001612</td>\n",
              "    </tr>\n",
              "    <tr>\n",
              "      <th>2</th>\n",
              "      <td>LSTM</td>\n",
              "      <td>32</td>\n",
              "      <td>256</td>\n",
              "      <td>4</td>\n",
              "      <td>0.2</td>\n",
              "      <td>0.2</td>\n",
              "      <td>0.001</td>\n",
              "      <td>60</td>\n",
              "      <td>0.219014</td>\n",
              "      <td>0.001227</td>\n",
              "    </tr>\n",
              "    <tr>\n",
              "      <th>1</th>\n",
              "      <td>GRU</td>\n",
              "      <td>32</td>\n",
              "      <td>256</td>\n",
              "      <td>4</td>\n",
              "      <td>0.4</td>\n",
              "      <td>0.2</td>\n",
              "      <td>0.001</td>\n",
              "      <td>60</td>\n",
              "      <td>0.219222</td>\n",
              "      <td>0.001794</td>\n",
              "    </tr>\n",
              "  </tbody>\n",
              "</table>\n",
              "</div>"
            ],
            "text/plain": [
              "  rnn_type embedding_size hidden_size  ... epochs  rmse_mean  rmse_std\n",
              "3     LSTM             32         256  ...     60   0.217915  0.001362\n",
              "0      GRU             32         256  ...     60   0.217988  0.001612\n",
              "2     LSTM             32         256  ...     60   0.219014  0.001227\n",
              "1      GRU             32         256  ...     60   0.219222  0.001794\n",
              "\n",
              "[4 rows x 10 columns]"
            ]
          },
          "metadata": {
            "tags": []
          }
        },
        {
          "output_type": "execute_result",
          "data": {
            "text/plain": [
              "0.21853456479118682"
            ]
          },
          "metadata": {
            "tags": []
          },
          "execution_count": 260
        }
      ]
    },
    {
      "cell_type": "code",
      "metadata": {
        "id": "FpWBNZms8Aod",
        "outputId": "4213fe13-760e-4114-b668-fa77cea1c062",
        "colab": {
          "base_uri": "https://localhost:8080/",
          "height": 314
        }
      },
      "source": [
        "# 2020-09-26\n",
        "# Weights = signal_to_noise, more and more hyperparameters\n",
        "\n",
        "display(df_params.sort_values(by=\"rmse_mean\"))\n",
        "df_params['rmse_mean'].mean()"
      ],
      "execution_count": null,
      "outputs": [
        {
          "output_type": "display_data",
          "data": {
            "text/html": [
              "<div>\n",
              "<style scoped>\n",
              "    .dataframe tbody tr th:only-of-type {\n",
              "        vertical-align: middle;\n",
              "    }\n",
              "\n",
              "    .dataframe tbody tr th {\n",
              "        vertical-align: top;\n",
              "    }\n",
              "\n",
              "    .dataframe thead th {\n",
              "        text-align: right;\n",
              "    }\n",
              "</style>\n",
              "<table border=\"1\" class=\"dataframe\">\n",
              "  <thead>\n",
              "    <tr style=\"text-align: right;\">\n",
              "      <th></th>\n",
              "      <th>rnn_type</th>\n",
              "      <th>embedding_size</th>\n",
              "      <th>hidden_size</th>\n",
              "      <th>num_layers</th>\n",
              "      <th>spatial_dropout</th>\n",
              "      <th>rnn_dropout</th>\n",
              "      <th>learning_rate</th>\n",
              "      <th>epochs</th>\n",
              "      <th>rmse_mean</th>\n",
              "      <th>rmse_std</th>\n",
              "    </tr>\n",
              "  </thead>\n",
              "  <tbody>\n",
              "    <tr>\n",
              "      <th>3</th>\n",
              "      <td>LSTM</td>\n",
              "      <td>64</td>\n",
              "      <td>256</td>\n",
              "      <td>4</td>\n",
              "      <td>0.6</td>\n",
              "      <td>0.2</td>\n",
              "      <td>0.001</td>\n",
              "      <td>60</td>\n",
              "      <td>0.217244</td>\n",
              "      <td>0.002323</td>\n",
              "    </tr>\n",
              "    <tr>\n",
              "      <th>2</th>\n",
              "      <td>LSTM</td>\n",
              "      <td>64</td>\n",
              "      <td>256</td>\n",
              "      <td>4</td>\n",
              "      <td>0.4</td>\n",
              "      <td>0.2</td>\n",
              "      <td>0.001</td>\n",
              "      <td>60</td>\n",
              "      <td>0.217546</td>\n",
              "      <td>0.002384</td>\n",
              "    </tr>\n",
              "    <tr>\n",
              "      <th>0</th>\n",
              "      <td>GRU</td>\n",
              "      <td>64</td>\n",
              "      <td>256</td>\n",
              "      <td>4</td>\n",
              "      <td>0.4</td>\n",
              "      <td>0.2</td>\n",
              "      <td>0.001</td>\n",
              "      <td>60</td>\n",
              "      <td>0.218111</td>\n",
              "      <td>0.002072</td>\n",
              "    </tr>\n",
              "    <tr>\n",
              "      <th>1</th>\n",
              "      <td>GRU</td>\n",
              "      <td>64</td>\n",
              "      <td>256</td>\n",
              "      <td>4</td>\n",
              "      <td>0.6</td>\n",
              "      <td>0.2</td>\n",
              "      <td>0.001</td>\n",
              "      <td>60</td>\n",
              "      <td>0.218489</td>\n",
              "      <td>0.002098</td>\n",
              "    </tr>\n",
              "    <tr>\n",
              "      <th>4</th>\n",
              "      <td>GRU</td>\n",
              "      <td>128</td>\n",
              "      <td>256</td>\n",
              "      <td>4</td>\n",
              "      <td>0.4</td>\n",
              "      <td>0.2</td>\n",
              "      <td>0.001</td>\n",
              "      <td>60</td>\n",
              "      <td>0.218698</td>\n",
              "      <td>0.002420</td>\n",
              "    </tr>\n",
              "    <tr>\n",
              "      <th>7</th>\n",
              "      <td>LSTM</td>\n",
              "      <td>128</td>\n",
              "      <td>256</td>\n",
              "      <td>4</td>\n",
              "      <td>0.6</td>\n",
              "      <td>0.2</td>\n",
              "      <td>0.001</td>\n",
              "      <td>60</td>\n",
              "      <td>0.219743</td>\n",
              "      <td>0.001763</td>\n",
              "    </tr>\n",
              "    <tr>\n",
              "      <th>5</th>\n",
              "      <td>GRU</td>\n",
              "      <td>128</td>\n",
              "      <td>256</td>\n",
              "      <td>4</td>\n",
              "      <td>0.6</td>\n",
              "      <td>0.2</td>\n",
              "      <td>0.001</td>\n",
              "      <td>60</td>\n",
              "      <td>0.220304</td>\n",
              "      <td>0.002875</td>\n",
              "    </tr>\n",
              "    <tr>\n",
              "      <th>6</th>\n",
              "      <td>LSTM</td>\n",
              "      <td>128</td>\n",
              "      <td>256</td>\n",
              "      <td>4</td>\n",
              "      <td>0.4</td>\n",
              "      <td>0.2</td>\n",
              "      <td>0.001</td>\n",
              "      <td>60</td>\n",
              "      <td>0.220574</td>\n",
              "      <td>0.003492</td>\n",
              "    </tr>\n",
              "  </tbody>\n",
              "</table>\n",
              "</div>"
            ],
            "text/plain": [
              "  rnn_type embedding_size hidden_size  ... epochs  rmse_mean  rmse_std\n",
              "3     LSTM             64         256  ...     60   0.217244  0.002323\n",
              "2     LSTM             64         256  ...     60   0.217546  0.002384\n",
              "0      GRU             64         256  ...     60   0.218111  0.002072\n",
              "1      GRU             64         256  ...     60   0.218489  0.002098\n",
              "4      GRU            128         256  ...     60   0.218698  0.002420\n",
              "7     LSTM            128         256  ...     60   0.219743  0.001763\n",
              "5      GRU            128         256  ...     60   0.220304  0.002875\n",
              "6     LSTM            128         256  ...     60   0.220574  0.003492\n",
              "\n",
              "[8 rows x 10 columns]"
            ]
          },
          "metadata": {
            "tags": []
          }
        },
        {
          "output_type": "execute_result",
          "data": {
            "text/plain": [
              "0.21883863406786697"
            ]
          },
          "metadata": {
            "tags": []
          },
          "execution_count": 254
        }
      ]
    },
    {
      "cell_type": "code",
      "metadata": {
        "id": "dn6ZB4PV0VGS",
        "outputId": "6ae06fab-19ee-41f1-eb34-fca631762d69",
        "colab": {
          "base_uri": "https://localhost:8080/",
          "height": 314
        }
      },
      "source": [
        "# 2020-09-26\n",
        "# Weights = signal_to_noise, more hyperparameters\n",
        "\n",
        "display(df_params.sort_values(by=\"rmse_mean\"))\n",
        "df_params['rmse_mean'].mean()"
      ],
      "execution_count": null,
      "outputs": [
        {
          "output_type": "display_data",
          "data": {
            "text/html": [
              "<div>\n",
              "<style scoped>\n",
              "    .dataframe tbody tr th:only-of-type {\n",
              "        vertical-align: middle;\n",
              "    }\n",
              "\n",
              "    .dataframe tbody tr th {\n",
              "        vertical-align: top;\n",
              "    }\n",
              "\n",
              "    .dataframe thead th {\n",
              "        text-align: right;\n",
              "    }\n",
              "</style>\n",
              "<table border=\"1\" class=\"dataframe\">\n",
              "  <thead>\n",
              "    <tr style=\"text-align: right;\">\n",
              "      <th></th>\n",
              "      <th>rnn_type</th>\n",
              "      <th>embedding_size</th>\n",
              "      <th>hidden_size</th>\n",
              "      <th>num_layers</th>\n",
              "      <th>spatial_dropout</th>\n",
              "      <th>rnn_dropout</th>\n",
              "      <th>learning_rate</th>\n",
              "      <th>epochs</th>\n",
              "      <th>rmse_mean</th>\n",
              "      <th>rmse_std</th>\n",
              "    </tr>\n",
              "  </thead>\n",
              "  <tbody>\n",
              "    <tr>\n",
              "      <th>4</th>\n",
              "      <td>GRU</td>\n",
              "      <td>64</td>\n",
              "      <td>256</td>\n",
              "      <td>4</td>\n",
              "      <td>0.4</td>\n",
              "      <td>0.2</td>\n",
              "      <td>0.001</td>\n",
              "      <td>60</td>\n",
              "      <td>0.217634</td>\n",
              "      <td>0.001464</td>\n",
              "    </tr>\n",
              "    <tr>\n",
              "      <th>7</th>\n",
              "      <td>LSTM</td>\n",
              "      <td>64</td>\n",
              "      <td>256</td>\n",
              "      <td>4</td>\n",
              "      <td>0.4</td>\n",
              "      <td>0.4</td>\n",
              "      <td>0.001</td>\n",
              "      <td>60</td>\n",
              "      <td>0.218648</td>\n",
              "      <td>0.001381</td>\n",
              "    </tr>\n",
              "    <tr>\n",
              "      <th>5</th>\n",
              "      <td>LSTM</td>\n",
              "      <td>64</td>\n",
              "      <td>256</td>\n",
              "      <td>4</td>\n",
              "      <td>0.4</td>\n",
              "      <td>0.2</td>\n",
              "      <td>0.001</td>\n",
              "      <td>60</td>\n",
              "      <td>0.218707</td>\n",
              "      <td>0.001596</td>\n",
              "    </tr>\n",
              "    <tr>\n",
              "      <th>6</th>\n",
              "      <td>GRU</td>\n",
              "      <td>64</td>\n",
              "      <td>256</td>\n",
              "      <td>4</td>\n",
              "      <td>0.4</td>\n",
              "      <td>0.4</td>\n",
              "      <td>0.001</td>\n",
              "      <td>60</td>\n",
              "      <td>0.220559</td>\n",
              "      <td>0.001362</td>\n",
              "    </tr>\n",
              "    <tr>\n",
              "      <th>0</th>\n",
              "      <td>GRU</td>\n",
              "      <td>64</td>\n",
              "      <td>128</td>\n",
              "      <td>4</td>\n",
              "      <td>0.4</td>\n",
              "      <td>0.2</td>\n",
              "      <td>0.001</td>\n",
              "      <td>60</td>\n",
              "      <td>0.221489</td>\n",
              "      <td>0.001054</td>\n",
              "    </tr>\n",
              "    <tr>\n",
              "      <th>1</th>\n",
              "      <td>LSTM</td>\n",
              "      <td>64</td>\n",
              "      <td>128</td>\n",
              "      <td>4</td>\n",
              "      <td>0.4</td>\n",
              "      <td>0.2</td>\n",
              "      <td>0.001</td>\n",
              "      <td>60</td>\n",
              "      <td>0.222545</td>\n",
              "      <td>0.001533</td>\n",
              "    </tr>\n",
              "    <tr>\n",
              "      <th>3</th>\n",
              "      <td>LSTM</td>\n",
              "      <td>64</td>\n",
              "      <td>128</td>\n",
              "      <td>4</td>\n",
              "      <td>0.4</td>\n",
              "      <td>0.4</td>\n",
              "      <td>0.001</td>\n",
              "      <td>60</td>\n",
              "      <td>0.225078</td>\n",
              "      <td>0.001795</td>\n",
              "    </tr>\n",
              "    <tr>\n",
              "      <th>2</th>\n",
              "      <td>GRU</td>\n",
              "      <td>64</td>\n",
              "      <td>128</td>\n",
              "      <td>4</td>\n",
              "      <td>0.4</td>\n",
              "      <td>0.4</td>\n",
              "      <td>0.001</td>\n",
              "      <td>60</td>\n",
              "      <td>0.227966</td>\n",
              "      <td>0.001627</td>\n",
              "    </tr>\n",
              "  </tbody>\n",
              "</table>\n",
              "</div>"
            ],
            "text/plain": [
              "  rnn_type embedding_size hidden_size  ... epochs  rmse_mean  rmse_std\n",
              "4      GRU             64         256  ...     60   0.217634  0.001464\n",
              "7     LSTM             64         256  ...     60   0.218648  0.001381\n",
              "5     LSTM             64         256  ...     60   0.218707  0.001596\n",
              "6      GRU             64         256  ...     60   0.220559  0.001362\n",
              "0      GRU             64         128  ...     60   0.221489  0.001054\n",
              "1     LSTM             64         128  ...     60   0.222545  0.001533\n",
              "3     LSTM             64         128  ...     60   0.225078  0.001795\n",
              "2      GRU             64         128  ...     60   0.227966  0.001627\n",
              "\n",
              "[8 rows x 10 columns]"
            ]
          },
          "metadata": {
            "tags": []
          }
        },
        {
          "output_type": "execute_result",
          "data": {
            "text/plain": [
              "0.22157848419503431"
            ]
          },
          "metadata": {
            "tags": []
          },
          "execution_count": 244
        }
      ]
    },
    {
      "cell_type": "code",
      "metadata": {
        "id": "yA3PXqdbhU8_",
        "outputId": "fc5de3c9-1eaa-4539-8f95-b8e6976b2109",
        "colab": {
          "base_uri": "https://localhost:8080/",
          "height": 128
        }
      },
      "source": [
        "# 2020-09-26\n",
        "# Weights = log1p(signal_to_noise+eps)\n",
        "\n",
        "display(df_params.sort_values(by=\"rmse_mean\"))\n",
        "df_params['rmse_mean'].mean()"
      ],
      "execution_count": null,
      "outputs": [
        {
          "output_type": "display_data",
          "data": {
            "text/html": [
              "<div>\n",
              "<style scoped>\n",
              "    .dataframe tbody tr th:only-of-type {\n",
              "        vertical-align: middle;\n",
              "    }\n",
              "\n",
              "    .dataframe tbody tr th {\n",
              "        vertical-align: top;\n",
              "    }\n",
              "\n",
              "    .dataframe thead th {\n",
              "        text-align: right;\n",
              "    }\n",
              "</style>\n",
              "<table border=\"1\" class=\"dataframe\">\n",
              "  <thead>\n",
              "    <tr style=\"text-align: right;\">\n",
              "      <th></th>\n",
              "      <th>rnn_type</th>\n",
              "      <th>embedding_size</th>\n",
              "      <th>hidden_size</th>\n",
              "      <th>num_layers</th>\n",
              "      <th>spatial_dropout</th>\n",
              "      <th>rnn_dropout</th>\n",
              "      <th>learning_rate</th>\n",
              "      <th>epochs</th>\n",
              "      <th>rmse_mean</th>\n",
              "      <th>rmse_std</th>\n",
              "    </tr>\n",
              "  </thead>\n",
              "  <tbody>\n",
              "    <tr>\n",
              "      <th>0</th>\n",
              "      <td>GRU</td>\n",
              "      <td>64</td>\n",
              "      <td>256</td>\n",
              "      <td>4</td>\n",
              "      <td>0.4</td>\n",
              "      <td>0.2</td>\n",
              "      <td>0.001</td>\n",
              "      <td>60</td>\n",
              "      <td>0.222556</td>\n",
              "      <td>0.001509</td>\n",
              "    </tr>\n",
              "    <tr>\n",
              "      <th>1</th>\n",
              "      <td>LSTM</td>\n",
              "      <td>64</td>\n",
              "      <td>256</td>\n",
              "      <td>4</td>\n",
              "      <td>0.4</td>\n",
              "      <td>0.2</td>\n",
              "      <td>0.001</td>\n",
              "      <td>60</td>\n",
              "      <td>0.223507</td>\n",
              "      <td>0.002049</td>\n",
              "    </tr>\n",
              "  </tbody>\n",
              "</table>\n",
              "</div>"
            ],
            "text/plain": [
              "  rnn_type embedding_size hidden_size  ... epochs  rmse_mean  rmse_std\n",
              "0      GRU             64         256  ...     60   0.222556  0.001509\n",
              "1     LSTM             64         256  ...     60   0.223507  0.002049\n",
              "\n",
              "[2 rows x 10 columns]"
            ]
          },
          "metadata": {
            "tags": []
          }
        },
        {
          "output_type": "execute_result",
          "data": {
            "text/plain": [
              "0.22303138577869464"
            ]
          },
          "metadata": {
            "tags": []
          },
          "execution_count": 217
        }
      ]
    },
    {
      "cell_type": "code",
      "metadata": {
        "id": "oHv2UQ0aafy8",
        "outputId": "770963dc-ac85-4255-95c5-19ba34dd2435",
        "colab": {
          "base_uri": "https://localhost:8080/",
          "height": 128
        }
      },
      "source": [
        "# 2020-09-26\n",
        "# Weights = signal_to_noise\n",
        "\n",
        "display(df_params.sort_values(by=\"rmse_mean\"))\n",
        "df_params['rmse_mean'].mean()"
      ],
      "execution_count": null,
      "outputs": [
        {
          "output_type": "display_data",
          "data": {
            "text/html": [
              "<div>\n",
              "<style scoped>\n",
              "    .dataframe tbody tr th:only-of-type {\n",
              "        vertical-align: middle;\n",
              "    }\n",
              "\n",
              "    .dataframe tbody tr th {\n",
              "        vertical-align: top;\n",
              "    }\n",
              "\n",
              "    .dataframe thead th {\n",
              "        text-align: right;\n",
              "    }\n",
              "</style>\n",
              "<table border=\"1\" class=\"dataframe\">\n",
              "  <thead>\n",
              "    <tr style=\"text-align: right;\">\n",
              "      <th></th>\n",
              "      <th>rnn_type</th>\n",
              "      <th>embedding_size</th>\n",
              "      <th>hidden_size</th>\n",
              "      <th>num_layers</th>\n",
              "      <th>spatial_dropout</th>\n",
              "      <th>rnn_dropout</th>\n",
              "      <th>learning_rate</th>\n",
              "      <th>epochs</th>\n",
              "      <th>rmse_mean</th>\n",
              "      <th>rmse_std</th>\n",
              "    </tr>\n",
              "  </thead>\n",
              "  <tbody>\n",
              "    <tr>\n",
              "      <th>0</th>\n",
              "      <td>GRU</td>\n",
              "      <td>64</td>\n",
              "      <td>256</td>\n",
              "      <td>4</td>\n",
              "      <td>0.4</td>\n",
              "      <td>0.2</td>\n",
              "      <td>0.001</td>\n",
              "      <td>60</td>\n",
              "      <td>0.217555</td>\n",
              "      <td>0.001353</td>\n",
              "    </tr>\n",
              "    <tr>\n",
              "      <th>1</th>\n",
              "      <td>LSTM</td>\n",
              "      <td>64</td>\n",
              "      <td>256</td>\n",
              "      <td>4</td>\n",
              "      <td>0.4</td>\n",
              "      <td>0.2</td>\n",
              "      <td>0.001</td>\n",
              "      <td>60</td>\n",
              "      <td>0.217671</td>\n",
              "      <td>0.001797</td>\n",
              "    </tr>\n",
              "  </tbody>\n",
              "</table>\n",
              "</div>"
            ],
            "text/plain": [
              "  rnn_type embedding_size hidden_size  ... epochs  rmse_mean  rmse_std\n",
              "0      GRU             64         256  ...     60   0.217555  0.001353\n",
              "1     LSTM             64         256  ...     60   0.217671  0.001797\n",
              "\n",
              "[2 rows x 10 columns]"
            ]
          },
          "metadata": {
            "tags": []
          }
        },
        {
          "output_type": "execute_result",
          "data": {
            "text/plain": [
              "0.21761331058951563"
            ]
          },
          "metadata": {
            "tags": []
          },
          "execution_count": 192
        }
      ]
    },
    {
      "cell_type": "code",
      "metadata": {
        "id": "BetSbZbTJmwk",
        "outputId": "b3fccb2c-2024-48b7-9d1f-28f9df46d824",
        "colab": {
          "base_uri": "https://localhost:8080/",
          "height": 128
        }
      },
      "source": [
        "# 2020-09-26\n",
        "# GRU + LSTM ensembling, without Conv1D\n",
        "\n",
        "display(df_params.sort_values(by=\"rmse_mean\"))\n",
        "df_params['rmse_mean'].mean()"
      ],
      "execution_count": null,
      "outputs": [
        {
          "output_type": "display_data",
          "data": {
            "text/html": [
              "<div>\n",
              "<style scoped>\n",
              "    .dataframe tbody tr th:only-of-type {\n",
              "        vertical-align: middle;\n",
              "    }\n",
              "\n",
              "    .dataframe tbody tr th {\n",
              "        vertical-align: top;\n",
              "    }\n",
              "\n",
              "    .dataframe thead th {\n",
              "        text-align: right;\n",
              "    }\n",
              "</style>\n",
              "<table border=\"1\" class=\"dataframe\">\n",
              "  <thead>\n",
              "    <tr style=\"text-align: right;\">\n",
              "      <th></th>\n",
              "      <th>rnn_type</th>\n",
              "      <th>embedding_size</th>\n",
              "      <th>hidden_size</th>\n",
              "      <th>num_layers</th>\n",
              "      <th>spatial_dropout</th>\n",
              "      <th>rnn_dropout</th>\n",
              "      <th>learning_rate</th>\n",
              "      <th>epochs</th>\n",
              "      <th>rmse_mean</th>\n",
              "      <th>rmse_std</th>\n",
              "    </tr>\n",
              "  </thead>\n",
              "  <tbody>\n",
              "    <tr>\n",
              "      <th>1</th>\n",
              "      <td>LSTM</td>\n",
              "      <td>64</td>\n",
              "      <td>256</td>\n",
              "      <td>4</td>\n",
              "      <td>0.4</td>\n",
              "      <td>0.2</td>\n",
              "      <td>0.001</td>\n",
              "      <td>60</td>\n",
              "      <td>0.230767</td>\n",
              "      <td>0.001997</td>\n",
              "    </tr>\n",
              "    <tr>\n",
              "      <th>0</th>\n",
              "      <td>GRU</td>\n",
              "      <td>64</td>\n",
              "      <td>256</td>\n",
              "      <td>4</td>\n",
              "      <td>0.4</td>\n",
              "      <td>0.2</td>\n",
              "      <td>0.001</td>\n",
              "      <td>60</td>\n",
              "      <td>0.231425</td>\n",
              "      <td>0.001630</td>\n",
              "    </tr>\n",
              "  </tbody>\n",
              "</table>\n",
              "</div>"
            ],
            "text/plain": [
              "  rnn_type embedding_size hidden_size  ... epochs  rmse_mean  rmse_std\n",
              "1     LSTM             64         256  ...     60   0.230767  0.001997\n",
              "0      GRU             64         256  ...     60   0.231425  0.001630\n",
              "\n",
              "[2 rows x 10 columns]"
            ]
          },
          "metadata": {
            "tags": []
          }
        },
        {
          "output_type": "execute_result",
          "data": {
            "text/plain": [
              "0.23109613672590687"
            ]
          },
          "metadata": {
            "tags": []
          },
          "execution_count": 101
        }
      ]
    },
    {
      "cell_type": "code",
      "metadata": {
        "id": "9A3yX1Ws1Lr5",
        "outputId": "06800aa7-54d5-4062-ebe6-d826f75d63db",
        "colab": {
          "base_uri": "https://localhost:8080/",
          "height": 131
        }
      },
      "source": [
        "# 2020-09-26\n",
        "# Conv1D and GRU + LSTM ensembling\n",
        "\n",
        "df_params.sort_values(by=\"rmse_mean\")"
      ],
      "execution_count": null,
      "outputs": [
        {
          "output_type": "execute_result",
          "data": {
            "text/html": [
              "<div>\n",
              "<style scoped>\n",
              "    .dataframe tbody tr th:only-of-type {\n",
              "        vertical-align: middle;\n",
              "    }\n",
              "\n",
              "    .dataframe tbody tr th {\n",
              "        vertical-align: top;\n",
              "    }\n",
              "\n",
              "    .dataframe thead th {\n",
              "        text-align: right;\n",
              "    }\n",
              "</style>\n",
              "<table border=\"1\" class=\"dataframe\">\n",
              "  <thead>\n",
              "    <tr style=\"text-align: right;\">\n",
              "      <th></th>\n",
              "      <th>rnn_type</th>\n",
              "      <th>embedding_size</th>\n",
              "      <th>hidden_size</th>\n",
              "      <th>num_layers</th>\n",
              "      <th>num_channels</th>\n",
              "      <th>kernel_size</th>\n",
              "      <th>spatial_dropout</th>\n",
              "      <th>rnn_dropout</th>\n",
              "      <th>learning_rate</th>\n",
              "      <th>epochs</th>\n",
              "      <th>rmse_mean</th>\n",
              "      <th>rmse_std</th>\n",
              "    </tr>\n",
              "  </thead>\n",
              "  <tbody>\n",
              "    <tr>\n",
              "      <th>0</th>\n",
              "      <td>GRU</td>\n",
              "      <td>64</td>\n",
              "      <td>256</td>\n",
              "      <td>4</td>\n",
              "      <td>32</td>\n",
              "      <td>5</td>\n",
              "      <td>0.4</td>\n",
              "      <td>0.2</td>\n",
              "      <td>0.001</td>\n",
              "      <td>60</td>\n",
              "      <td>0.231394</td>\n",
              "      <td>0.001149</td>\n",
              "    </tr>\n",
              "    <tr>\n",
              "      <th>1</th>\n",
              "      <td>LSTM</td>\n",
              "      <td>64</td>\n",
              "      <td>256</td>\n",
              "      <td>4</td>\n",
              "      <td>32</td>\n",
              "      <td>5</td>\n",
              "      <td>0.4</td>\n",
              "      <td>0.2</td>\n",
              "      <td>0.001</td>\n",
              "      <td>60</td>\n",
              "      <td>0.232915</td>\n",
              "      <td>0.002180</td>\n",
              "    </tr>\n",
              "  </tbody>\n",
              "</table>\n",
              "</div>"
            ],
            "text/plain": [
              "  rnn_type embedding_size hidden_size  ... epochs rmse_mean  rmse_std\n",
              "0      GRU             64         256  ...     60  0.231394  0.001149\n",
              "1     LSTM             64         256  ...     60  0.232915  0.002180\n",
              "\n",
              "[2 rows x 12 columns]"
            ]
          },
          "metadata": {
            "tags": []
          },
          "execution_count": 78
        }
      ]
    },
    {
      "cell_type": "code",
      "metadata": {
        "id": "16tsMSvKlTo1",
        "outputId": "de293950-ca4a-4b7b-9c89-481db573af16",
        "colab": {
          "base_uri": "https://localhost:8080/",
          "height": 100
        }
      },
      "source": [
        "# 2020-09-26\n",
        "# Add Conv1D - part3\n",
        "\n",
        "df_params.sort_values(by=\"rmse_mean\")"
      ],
      "execution_count": null,
      "outputs": [
        {
          "output_type": "execute_result",
          "data": {
            "text/html": [
              "<div>\n",
              "<style scoped>\n",
              "    .dataframe tbody tr th:only-of-type {\n",
              "        vertical-align: middle;\n",
              "    }\n",
              "\n",
              "    .dataframe tbody tr th {\n",
              "        vertical-align: top;\n",
              "    }\n",
              "\n",
              "    .dataframe thead th {\n",
              "        text-align: right;\n",
              "    }\n",
              "</style>\n",
              "<table border=\"1\" class=\"dataframe\">\n",
              "  <thead>\n",
              "    <tr style=\"text-align: right;\">\n",
              "      <th></th>\n",
              "      <th>embedding_size</th>\n",
              "      <th>hidden_size</th>\n",
              "      <th>num_layers</th>\n",
              "      <th>num_channels</th>\n",
              "      <th>kernel_size</th>\n",
              "      <th>spatial_dropout</th>\n",
              "      <th>lstm_dropout</th>\n",
              "      <th>learning_rate</th>\n",
              "      <th>epochs</th>\n",
              "      <th>rmse_mean</th>\n",
              "      <th>rmse_std</th>\n",
              "    </tr>\n",
              "  </thead>\n",
              "  <tbody>\n",
              "    <tr>\n",
              "      <th>0</th>\n",
              "      <td>64.0</td>\n",
              "      <td>256.0</td>\n",
              "      <td>4.0</td>\n",
              "      <td>32.0</td>\n",
              "      <td>5.0</td>\n",
              "      <td>0.4</td>\n",
              "      <td>0.2</td>\n",
              "      <td>0.001</td>\n",
              "      <td>60.0</td>\n",
              "      <td>0.231898</td>\n",
              "      <td>0.003361</td>\n",
              "    </tr>\n",
              "  </tbody>\n",
              "</table>\n",
              "</div>"
            ],
            "text/plain": [
              "   embedding_size  hidden_size  num_layers  ...  epochs  rmse_mean  rmse_std\n",
              "0            64.0        256.0         4.0  ...    60.0   0.231898  0.003361\n",
              "\n",
              "[1 rows x 11 columns]"
            ]
          },
          "metadata": {
            "tags": []
          },
          "execution_count": 33
        }
      ]
    },
    {
      "cell_type": "code",
      "metadata": {
        "id": "Og31tWE5JPzT",
        "outputId": "cf2d203f-2052-484f-aaef-2e3c921e3842",
        "colab": {
          "base_uri": "https://localhost:8080/",
          "height": 297
        }
      },
      "source": [
        "# 2020-09-25\n",
        "# Add Conv1D - part2\n",
        "\n",
        "df_params.sort_values(by=\"rmse_mean\")"
      ],
      "execution_count": null,
      "outputs": [
        {
          "output_type": "execute_result",
          "data": {
            "text/html": [
              "<div>\n",
              "<style scoped>\n",
              "    .dataframe tbody tr th:only-of-type {\n",
              "        vertical-align: middle;\n",
              "    }\n",
              "\n",
              "    .dataframe tbody tr th {\n",
              "        vertical-align: top;\n",
              "    }\n",
              "\n",
              "    .dataframe thead th {\n",
              "        text-align: right;\n",
              "    }\n",
              "</style>\n",
              "<table border=\"1\" class=\"dataframe\">\n",
              "  <thead>\n",
              "    <tr style=\"text-align: right;\">\n",
              "      <th></th>\n",
              "      <th>embedding_size</th>\n",
              "      <th>hidden_size</th>\n",
              "      <th>num_layers</th>\n",
              "      <th>num_channels</th>\n",
              "      <th>kernel_size</th>\n",
              "      <th>spatial_dropout</th>\n",
              "      <th>lstm_dropout</th>\n",
              "      <th>learning_rate</th>\n",
              "      <th>epochs</th>\n",
              "      <th>rmse_mean</th>\n",
              "      <th>rmse_std</th>\n",
              "    </tr>\n",
              "  </thead>\n",
              "  <tbody>\n",
              "    <tr>\n",
              "      <th>7</th>\n",
              "      <td>64.0</td>\n",
              "      <td>256.0</td>\n",
              "      <td>4.0</td>\n",
              "      <td>32.0</td>\n",
              "      <td>5.0</td>\n",
              "      <td>0.4</td>\n",
              "      <td>0.2</td>\n",
              "      <td>0.001</td>\n",
              "      <td>60.0</td>\n",
              "      <td>0.231708</td>\n",
              "      <td>0.002909</td>\n",
              "    </tr>\n",
              "    <tr>\n",
              "      <th>5</th>\n",
              "      <td>64.0</td>\n",
              "      <td>256.0</td>\n",
              "      <td>4.0</td>\n",
              "      <td>16.0</td>\n",
              "      <td>5.0</td>\n",
              "      <td>0.4</td>\n",
              "      <td>0.2</td>\n",
              "      <td>0.001</td>\n",
              "      <td>60.0</td>\n",
              "      <td>0.232168</td>\n",
              "      <td>0.002165</td>\n",
              "    </tr>\n",
              "    <tr>\n",
              "      <th>3</th>\n",
              "      <td>64.0</td>\n",
              "      <td>256.0</td>\n",
              "      <td>4.0</td>\n",
              "      <td>32.0</td>\n",
              "      <td>5.0</td>\n",
              "      <td>0.4</td>\n",
              "      <td>0.2</td>\n",
              "      <td>0.001</td>\n",
              "      <td>40.0</td>\n",
              "      <td>0.233105</td>\n",
              "      <td>0.001773</td>\n",
              "    </tr>\n",
              "    <tr>\n",
              "      <th>2</th>\n",
              "      <td>64.0</td>\n",
              "      <td>256.0</td>\n",
              "      <td>4.0</td>\n",
              "      <td>32.0</td>\n",
              "      <td>5.0</td>\n",
              "      <td>0.2</td>\n",
              "      <td>0.2</td>\n",
              "      <td>0.001</td>\n",
              "      <td>40.0</td>\n",
              "      <td>0.233234</td>\n",
              "      <td>0.002067</td>\n",
              "    </tr>\n",
              "    <tr>\n",
              "      <th>1</th>\n",
              "      <td>64.0</td>\n",
              "      <td>256.0</td>\n",
              "      <td>4.0</td>\n",
              "      <td>16.0</td>\n",
              "      <td>5.0</td>\n",
              "      <td>0.4</td>\n",
              "      <td>0.2</td>\n",
              "      <td>0.001</td>\n",
              "      <td>40.0</td>\n",
              "      <td>0.233703</td>\n",
              "      <td>0.001300</td>\n",
              "    </tr>\n",
              "    <tr>\n",
              "      <th>6</th>\n",
              "      <td>64.0</td>\n",
              "      <td>256.0</td>\n",
              "      <td>4.0</td>\n",
              "      <td>32.0</td>\n",
              "      <td>5.0</td>\n",
              "      <td>0.2</td>\n",
              "      <td>0.2</td>\n",
              "      <td>0.001</td>\n",
              "      <td>60.0</td>\n",
              "      <td>0.233741</td>\n",
              "      <td>0.001372</td>\n",
              "    </tr>\n",
              "    <tr>\n",
              "      <th>4</th>\n",
              "      <td>64.0</td>\n",
              "      <td>256.0</td>\n",
              "      <td>4.0</td>\n",
              "      <td>16.0</td>\n",
              "      <td>5.0</td>\n",
              "      <td>0.2</td>\n",
              "      <td>0.2</td>\n",
              "      <td>0.001</td>\n",
              "      <td>60.0</td>\n",
              "      <td>0.233909</td>\n",
              "      <td>0.002229</td>\n",
              "    </tr>\n",
              "    <tr>\n",
              "      <th>0</th>\n",
              "      <td>64.0</td>\n",
              "      <td>256.0</td>\n",
              "      <td>4.0</td>\n",
              "      <td>16.0</td>\n",
              "      <td>5.0</td>\n",
              "      <td>0.2</td>\n",
              "      <td>0.2</td>\n",
              "      <td>0.001</td>\n",
              "      <td>40.0</td>\n",
              "      <td>0.233979</td>\n",
              "      <td>0.001877</td>\n",
              "    </tr>\n",
              "  </tbody>\n",
              "</table>\n",
              "</div>"
            ],
            "text/plain": [
              "   embedding_size  hidden_size  num_layers  ...  epochs  rmse_mean  rmse_std\n",
              "7            64.0        256.0         4.0  ...    60.0   0.231708  0.002909\n",
              "5            64.0        256.0         4.0  ...    60.0   0.232168  0.002165\n",
              "3            64.0        256.0         4.0  ...    40.0   0.233105  0.001773\n",
              "2            64.0        256.0         4.0  ...    40.0   0.233234  0.002067\n",
              "1            64.0        256.0         4.0  ...    40.0   0.233703  0.001300\n",
              "6            64.0        256.0         4.0  ...    60.0   0.233741  0.001372\n",
              "4            64.0        256.0         4.0  ...    60.0   0.233909  0.002229\n",
              "0            64.0        256.0         4.0  ...    40.0   0.233979  0.001877\n",
              "\n",
              "[8 rows x 11 columns]"
            ]
          },
          "metadata": {
            "tags": []
          },
          "execution_count": 66
        }
      ]
    },
    {
      "cell_type": "code",
      "metadata": {
        "id": "oZC1jpbdFUCC",
        "outputId": "f957abb2-09d2-48c5-b0c6-8d66e90655db",
        "colab": {
          "base_uri": "https://localhost:8080/",
          "height": 111
        }
      },
      "source": [
        "# 2020-09-25\n",
        "# Add Conv1D - part1\n",
        "\n",
        "df_params.sort_values(by=\"rmse_mean\")"
      ],
      "execution_count": null,
      "outputs": [
        {
          "output_type": "execute_result",
          "data": {
            "text/html": [
              "<div>\n",
              "<style scoped>\n",
              "    .dataframe tbody tr th:only-of-type {\n",
              "        vertical-align: middle;\n",
              "    }\n",
              "\n",
              "    .dataframe tbody tr th {\n",
              "        vertical-align: top;\n",
              "    }\n",
              "\n",
              "    .dataframe thead th {\n",
              "        text-align: right;\n",
              "    }\n",
              "</style>\n",
              "<table border=\"1\" class=\"dataframe\">\n",
              "  <thead>\n",
              "    <tr style=\"text-align: right;\">\n",
              "      <th></th>\n",
              "      <th>embedding_size</th>\n",
              "      <th>hidden_size</th>\n",
              "      <th>num_layers</th>\n",
              "      <th>num_channels</th>\n",
              "      <th>kernel_size</th>\n",
              "      <th>spatial_dropout</th>\n",
              "      <th>lstm_dropout</th>\n",
              "      <th>learning_rate</th>\n",
              "      <th>epochs</th>\n",
              "      <th>rmse_mean</th>\n",
              "      <th>rmse_std</th>\n",
              "    </tr>\n",
              "  </thead>\n",
              "  <tbody>\n",
              "    <tr>\n",
              "      <th>1</th>\n",
              "      <td>64.0</td>\n",
              "      <td>256.0</td>\n",
              "      <td>4.0</td>\n",
              "      <td>32.0</td>\n",
              "      <td>5.0</td>\n",
              "      <td>0.2</td>\n",
              "      <td>0.2</td>\n",
              "      <td>0.001</td>\n",
              "      <td>40.0</td>\n",
              "      <td>0.234272</td>\n",
              "      <td>0.002620</td>\n",
              "    </tr>\n",
              "    <tr>\n",
              "      <th>0</th>\n",
              "      <td>64.0</td>\n",
              "      <td>256.0</td>\n",
              "      <td>4.0</td>\n",
              "      <td>16.0</td>\n",
              "      <td>5.0</td>\n",
              "      <td>0.2</td>\n",
              "      <td>0.2</td>\n",
              "      <td>0.001</td>\n",
              "      <td>40.0</td>\n",
              "      <td>0.234349</td>\n",
              "      <td>0.001691</td>\n",
              "    </tr>\n",
              "  </tbody>\n",
              "</table>\n",
              "</div>"
            ],
            "text/plain": [
              "   embedding_size  hidden_size  num_layers  ...  epochs  rmse_mean  rmse_std\n",
              "1            64.0        256.0         4.0  ...    40.0   0.234272  0.002620\n",
              "0            64.0        256.0         4.0  ...    40.0   0.234349  0.001691\n",
              "\n",
              "[2 rows x 11 columns]"
            ]
          },
          "metadata": {
            "tags": []
          },
          "execution_count": 60
        }
      ]
    },
    {
      "cell_type": "code",
      "metadata": {
        "id": "npcdhcgzatwM",
        "outputId": "cc8219a6-07ac-4c47-b272-3123a585b39d",
        "colab": {
          "base_uri": "https://localhost:8080/",
          "height": 80
        }
      },
      "source": [
        "# 2020-09-25\n",
        "# embedding initialization to uniform (-0.05, 0.05)\n",
        "# not used\n",
        "\n",
        "df_params.sort_values(by=\"rmse_mean\")"
      ],
      "execution_count": null,
      "outputs": [
        {
          "output_type": "execute_result",
          "data": {
            "text/html": [
              "<div>\n",
              "<style scoped>\n",
              "    .dataframe tbody tr th:only-of-type {\n",
              "        vertical-align: middle;\n",
              "    }\n",
              "\n",
              "    .dataframe tbody tr th {\n",
              "        vertical-align: top;\n",
              "    }\n",
              "\n",
              "    .dataframe thead th {\n",
              "        text-align: right;\n",
              "    }\n",
              "</style>\n",
              "<table border=\"1\" class=\"dataframe\">\n",
              "  <thead>\n",
              "    <tr style=\"text-align: right;\">\n",
              "      <th></th>\n",
              "      <th>embedding_size</th>\n",
              "      <th>hidden_size</th>\n",
              "      <th>num_layers</th>\n",
              "      <th>spatial_dropout</th>\n",
              "      <th>lstm_dropout</th>\n",
              "      <th>learning_rate</th>\n",
              "      <th>epochs</th>\n",
              "      <th>rmse_mean</th>\n",
              "      <th>rmse_std</th>\n",
              "    </tr>\n",
              "  </thead>\n",
              "  <tbody>\n",
              "    <tr>\n",
              "      <th>0</th>\n",
              "      <td>64.0</td>\n",
              "      <td>256.0</td>\n",
              "      <td>4.0</td>\n",
              "      <td>0.2</td>\n",
              "      <td>0.2</td>\n",
              "      <td>0.001</td>\n",
              "      <td>80.0</td>\n",
              "      <td>0.235926</td>\n",
              "      <td>0.003315</td>\n",
              "    </tr>\n",
              "  </tbody>\n",
              "</table>\n",
              "</div>"
            ],
            "text/plain": [
              "   embedding_size  hidden_size  num_layers  ...  epochs  rmse_mean  rmse_std\n",
              "0            64.0        256.0         4.0  ...    80.0   0.235926  0.003315\n",
              "\n",
              "[1 rows x 9 columns]"
            ]
          },
          "metadata": {
            "tags": []
          },
          "execution_count": 38
        }
      ]
    },
    {
      "cell_type": "code",
      "metadata": {
        "id": "lhQAnMZBRZo-",
        "outputId": "cccbc05f-8ac7-4005-bfd4-05c2efb49eda",
        "colab": {
          "base_uri": "https://localhost:8080/",
          "height": 80
        }
      },
      "source": [
        "# 2020-09-25\n",
        "# embedding initialization to uniform (-0.05, 0.05)\n",
        "\n",
        "df_params.sort_values(by=\"rmse_mean\")"
      ],
      "execution_count": null,
      "outputs": [
        {
          "output_type": "execute_result",
          "data": {
            "text/html": [
              "<div>\n",
              "<style scoped>\n",
              "    .dataframe tbody tr th:only-of-type {\n",
              "        vertical-align: middle;\n",
              "    }\n",
              "\n",
              "    .dataframe tbody tr th {\n",
              "        vertical-align: top;\n",
              "    }\n",
              "\n",
              "    .dataframe thead th {\n",
              "        text-align: right;\n",
              "    }\n",
              "</style>\n",
              "<table border=\"1\" class=\"dataframe\">\n",
              "  <thead>\n",
              "    <tr style=\"text-align: right;\">\n",
              "      <th></th>\n",
              "      <th>embedding_size</th>\n",
              "      <th>hidden_size</th>\n",
              "      <th>num_layers</th>\n",
              "      <th>spatial_dropout</th>\n",
              "      <th>lstm_dropout</th>\n",
              "      <th>learning_rate</th>\n",
              "      <th>epochs</th>\n",
              "      <th>rmse_mean</th>\n",
              "      <th>rmse_std</th>\n",
              "    </tr>\n",
              "  </thead>\n",
              "  <tbody>\n",
              "    <tr>\n",
              "      <th>0</th>\n",
              "      <td>64.0</td>\n",
              "      <td>256.0</td>\n",
              "      <td>4.0</td>\n",
              "      <td>0.2</td>\n",
              "      <td>0.2</td>\n",
              "      <td>0.001</td>\n",
              "      <td>40.0</td>\n",
              "      <td>0.236715</td>\n",
              "      <td>0.002978</td>\n",
              "    </tr>\n",
              "  </tbody>\n",
              "</table>\n",
              "</div>"
            ],
            "text/plain": [
              "   embedding_size  hidden_size  num_layers  ...  epochs  rmse_mean  rmse_std\n",
              "0            64.0        256.0         4.0  ...    40.0   0.236715  0.002978\n",
              "\n",
              "[1 rows x 9 columns]"
            ]
          },
          "metadata": {
            "tags": []
          },
          "execution_count": 26
        }
      ]
    },
    {
      "cell_type": "code",
      "metadata": {
        "id": "W38QzI1PB1cL",
        "outputId": "93c51a6b-927a-444f-b63d-24056e94b18b",
        "colab": {
          "base_uri": "https://localhost:8080/",
          "height": 80
        }
      },
      "source": [
        "# 2020-09-20\n",
        "# + 4*2 fold\n",
        "\n",
        "df_params.sort_values(by=\"rmse_mean\")"
      ],
      "execution_count": null,
      "outputs": [
        {
          "output_type": "execute_result",
          "data": {
            "text/html": [
              "<div>\n",
              "<style scoped>\n",
              "    .dataframe tbody tr th:only-of-type {\n",
              "        vertical-align: middle;\n",
              "    }\n",
              "\n",
              "    .dataframe tbody tr th {\n",
              "        vertical-align: top;\n",
              "    }\n",
              "\n",
              "    .dataframe thead th {\n",
              "        text-align: right;\n",
              "    }\n",
              "</style>\n",
              "<table border=\"1\" class=\"dataframe\">\n",
              "  <thead>\n",
              "    <tr style=\"text-align: right;\">\n",
              "      <th></th>\n",
              "      <th>embedding_size</th>\n",
              "      <th>hidden_size</th>\n",
              "      <th>num_layers</th>\n",
              "      <th>spatial_dropout</th>\n",
              "      <th>lstm_dropout</th>\n",
              "      <th>learning_rate</th>\n",
              "      <th>epochs</th>\n",
              "      <th>rmse_mean</th>\n",
              "      <th>rmse_std</th>\n",
              "    </tr>\n",
              "  </thead>\n",
              "  <tbody>\n",
              "    <tr>\n",
              "      <th>0</th>\n",
              "      <td>64.0</td>\n",
              "      <td>256.0</td>\n",
              "      <td>4.0</td>\n",
              "      <td>0.2</td>\n",
              "      <td>0.2</td>\n",
              "      <td>0.001</td>\n",
              "      <td>40.0</td>\n",
              "      <td>0.23183</td>\n",
              "      <td>0.003274</td>\n",
              "    </tr>\n",
              "  </tbody>\n",
              "</table>\n",
              "</div>"
            ],
            "text/plain": [
              "   embedding_size  hidden_size  num_layers  ...  epochs  rmse_mean  rmse_std\n",
              "0            64.0        256.0         4.0  ...    40.0    0.23183  0.003274\n",
              "\n",
              "[1 rows x 9 columns]"
            ]
          },
          "metadata": {
            "tags": []
          },
          "execution_count": 210
        }
      ]
    },
    {
      "cell_type": "code",
      "metadata": {
        "id": "2B5acfOKjiOX",
        "outputId": "f9228c8e-a645-40b2-ced9-32ef611efcef",
        "colab": {
          "base_uri": "https://localhost:8080/",
          "height": 80
        }
      },
      "source": [
        "# 2020-09-20\n",
        "# with 4 bppm features + 5-MCRMSE\n",
        "\n",
        "df_params.sort_values(by=\"rmse_mean\")"
      ],
      "execution_count": null,
      "outputs": [
        {
          "output_type": "execute_result",
          "data": {
            "text/html": [
              "<div>\n",
              "<style scoped>\n",
              "    .dataframe tbody tr th:only-of-type {\n",
              "        vertical-align: middle;\n",
              "    }\n",
              "\n",
              "    .dataframe tbody tr th {\n",
              "        vertical-align: top;\n",
              "    }\n",
              "\n",
              "    .dataframe thead th {\n",
              "        text-align: right;\n",
              "    }\n",
              "</style>\n",
              "<table border=\"1\" class=\"dataframe\">\n",
              "  <thead>\n",
              "    <tr style=\"text-align: right;\">\n",
              "      <th></th>\n",
              "      <th>embedding_size</th>\n",
              "      <th>hidden_size</th>\n",
              "      <th>num_layers</th>\n",
              "      <th>spatial_dropout</th>\n",
              "      <th>lstm_dropout</th>\n",
              "      <th>learning_rate</th>\n",
              "      <th>epochs</th>\n",
              "      <th>rmse_mean</th>\n",
              "      <th>rmse_std</th>\n",
              "    </tr>\n",
              "  </thead>\n",
              "  <tbody>\n",
              "    <tr>\n",
              "      <th>0</th>\n",
              "      <td>64.0</td>\n",
              "      <td>256.0</td>\n",
              "      <td>4.0</td>\n",
              "      <td>0.2</td>\n",
              "      <td>0.2</td>\n",
              "      <td>0.001</td>\n",
              "      <td>40.0</td>\n",
              "      <td>0.231412</td>\n",
              "      <td>0.000868</td>\n",
              "    </tr>\n",
              "  </tbody>\n",
              "</table>\n",
              "</div>"
            ],
            "text/plain": [
              "   embedding_size  hidden_size  num_layers  ...  epochs  rmse_mean  rmse_std\n",
              "0            64.0        256.0         4.0  ...    40.0   0.231412  0.000868\n",
              "\n",
              "[1 rows x 9 columns]"
            ]
          },
          "metadata": {
            "tags": []
          },
          "execution_count": 186
        }
      ]
    },
    {
      "cell_type": "code",
      "metadata": {
        "id": "h68S04ZG1ipk",
        "outputId": "9b49e640-557f-4f47-b70b-7b04787108bd",
        "colab": {
          "base_uri": "https://localhost:8080/",
          "height": 80
        }
      },
      "source": [
        "# 2020-09-20\n",
        "# with 1 bppm feature + 5-MCRMSE\n",
        "\n",
        "df_params.sort_values(by=\"rmse_mean\")"
      ],
      "execution_count": null,
      "outputs": [
        {
          "output_type": "execute_result",
          "data": {
            "text/html": [
              "<div>\n",
              "<style scoped>\n",
              "    .dataframe tbody tr th:only-of-type {\n",
              "        vertical-align: middle;\n",
              "    }\n",
              "\n",
              "    .dataframe tbody tr th {\n",
              "        vertical-align: top;\n",
              "    }\n",
              "\n",
              "    .dataframe thead th {\n",
              "        text-align: right;\n",
              "    }\n",
              "</style>\n",
              "<table border=\"1\" class=\"dataframe\">\n",
              "  <thead>\n",
              "    <tr style=\"text-align: right;\">\n",
              "      <th></th>\n",
              "      <th>embedding_size</th>\n",
              "      <th>hidden_size</th>\n",
              "      <th>num_layers</th>\n",
              "      <th>spatial_dropout</th>\n",
              "      <th>lstm_dropout</th>\n",
              "      <th>learning_rate</th>\n",
              "      <th>epochs</th>\n",
              "      <th>rmse_mean</th>\n",
              "      <th>rmse_std</th>\n",
              "    </tr>\n",
              "  </thead>\n",
              "  <tbody>\n",
              "    <tr>\n",
              "      <th>0</th>\n",
              "      <td>64.0</td>\n",
              "      <td>256.0</td>\n",
              "      <td>4.0</td>\n",
              "      <td>0.2</td>\n",
              "      <td>0.2</td>\n",
              "      <td>0.001</td>\n",
              "      <td>70.0</td>\n",
              "      <td>0.231507</td>\n",
              "      <td>0.002734</td>\n",
              "    </tr>\n",
              "  </tbody>\n",
              "</table>\n",
              "</div>"
            ],
            "text/plain": [
              "   embedding_size  hidden_size  num_layers  ...  epochs  rmse_mean  rmse_std\n",
              "0            64.0        256.0         4.0  ...    70.0   0.231507  0.002734\n",
              "\n",
              "[1 rows x 9 columns]"
            ]
          },
          "metadata": {
            "tags": []
          },
          "execution_count": 125
        }
      ]
    },
    {
      "cell_type": "code",
      "metadata": {
        "id": "No2KwX7cpdx9",
        "outputId": "1ce8eb13-997a-45ae-9837-f376ac22701d",
        "colab": {
          "base_uri": "https://localhost:8080/",
          "height": 80
        }
      },
      "source": [
        "# 2020-09-20\n",
        "# with bppm features\n",
        "\n",
        "df_params.sort_values(by=\"rmse_mean\")"
      ],
      "execution_count": null,
      "outputs": [
        {
          "output_type": "execute_result",
          "data": {
            "text/html": [
              "<div>\n",
              "<style scoped>\n",
              "    .dataframe tbody tr th:only-of-type {\n",
              "        vertical-align: middle;\n",
              "    }\n",
              "\n",
              "    .dataframe tbody tr th {\n",
              "        vertical-align: top;\n",
              "    }\n",
              "\n",
              "    .dataframe thead th {\n",
              "        text-align: right;\n",
              "    }\n",
              "</style>\n",
              "<table border=\"1\" class=\"dataframe\">\n",
              "  <thead>\n",
              "    <tr style=\"text-align: right;\">\n",
              "      <th></th>\n",
              "      <th>embedding_size</th>\n",
              "      <th>hidden_size</th>\n",
              "      <th>num_layers</th>\n",
              "      <th>spatial_dropout</th>\n",
              "      <th>lstm_dropout</th>\n",
              "      <th>learning_rate</th>\n",
              "      <th>epochs</th>\n",
              "      <th>rmse_mean</th>\n",
              "      <th>rmse_std</th>\n",
              "    </tr>\n",
              "  </thead>\n",
              "  <tbody>\n",
              "    <tr>\n",
              "      <th>0</th>\n",
              "      <td>64.0</td>\n",
              "      <td>256.0</td>\n",
              "      <td>4.0</td>\n",
              "      <td>0.2</td>\n",
              "      <td>0.2</td>\n",
              "      <td>0.001</td>\n",
              "      <td>100.0</td>\n",
              "      <td>0.233082</td>\n",
              "      <td>0.001523</td>\n",
              "    </tr>\n",
              "  </tbody>\n",
              "</table>\n",
              "</div>"
            ],
            "text/plain": [
              "   embedding_size  hidden_size  num_layers  ...  epochs  rmse_mean  rmse_std\n",
              "0            64.0        256.0         4.0  ...   100.0   0.233082  0.001523\n",
              "\n",
              "[1 rows x 9 columns]"
            ]
          },
          "metadata": {
            "tags": []
          },
          "execution_count": 75
        }
      ]
    },
    {
      "cell_type": "code",
      "metadata": {
        "id": "ZP3FY38pYzNk",
        "outputId": "2ffdf5d7-dc5d-47f2-d57d-c8beab0ad2af",
        "colab": {
          "base_uri": "https://localhost:8080/",
          "height": 545
        }
      },
      "source": [
        "# 2020-09-19\n",
        "\n",
        "df_params.sort_values(by=\"rmse_mean\")"
      ],
      "execution_count": null,
      "outputs": [
        {
          "output_type": "execute_result",
          "data": {
            "text/html": [
              "<div>\n",
              "<style scoped>\n",
              "    .dataframe tbody tr th:only-of-type {\n",
              "        vertical-align: middle;\n",
              "    }\n",
              "\n",
              "    .dataframe tbody tr th {\n",
              "        vertical-align: top;\n",
              "    }\n",
              "\n",
              "    .dataframe thead th {\n",
              "        text-align: right;\n",
              "    }\n",
              "</style>\n",
              "<table border=\"1\" class=\"dataframe\">\n",
              "  <thead>\n",
              "    <tr style=\"text-align: right;\">\n",
              "      <th></th>\n",
              "      <th>embedding_size</th>\n",
              "      <th>hidden_size</th>\n",
              "      <th>num_layers</th>\n",
              "      <th>spatial_dropout</th>\n",
              "      <th>lstm_dropout</th>\n",
              "      <th>learning_rate</th>\n",
              "      <th>epochs</th>\n",
              "      <th>rmse_mean</th>\n",
              "      <th>rmse_std</th>\n",
              "    </tr>\n",
              "  </thead>\n",
              "  <tbody>\n",
              "    <tr>\n",
              "      <th>4</th>\n",
              "      <td>64.0</td>\n",
              "      <td>256.0</td>\n",
              "      <td>4.0</td>\n",
              "      <td>0.2</td>\n",
              "      <td>0.2</td>\n",
              "      <td>0.001</td>\n",
              "      <td>50.0</td>\n",
              "      <td>0.236092</td>\n",
              "      <td>0.001399</td>\n",
              "    </tr>\n",
              "    <tr>\n",
              "      <th>6</th>\n",
              "      <td>64.0</td>\n",
              "      <td>256.0</td>\n",
              "      <td>8.0</td>\n",
              "      <td>0.2</td>\n",
              "      <td>0.2</td>\n",
              "      <td>0.001</td>\n",
              "      <td>50.0</td>\n",
              "      <td>0.236413</td>\n",
              "      <td>0.000653</td>\n",
              "    </tr>\n",
              "    <tr>\n",
              "      <th>5</th>\n",
              "      <td>64.0</td>\n",
              "      <td>256.0</td>\n",
              "      <td>4.0</td>\n",
              "      <td>0.4</td>\n",
              "      <td>0.2</td>\n",
              "      <td>0.001</td>\n",
              "      <td>50.0</td>\n",
              "      <td>0.236426</td>\n",
              "      <td>0.001543</td>\n",
              "    </tr>\n",
              "    <tr>\n",
              "      <th>13</th>\n",
              "      <td>128.0</td>\n",
              "      <td>256.0</td>\n",
              "      <td>4.0</td>\n",
              "      <td>0.4</td>\n",
              "      <td>0.2</td>\n",
              "      <td>0.001</td>\n",
              "      <td>50.0</td>\n",
              "      <td>0.236534</td>\n",
              "      <td>0.001728</td>\n",
              "    </tr>\n",
              "    <tr>\n",
              "      <th>14</th>\n",
              "      <td>128.0</td>\n",
              "      <td>256.0</td>\n",
              "      <td>8.0</td>\n",
              "      <td>0.2</td>\n",
              "      <td>0.2</td>\n",
              "      <td>0.001</td>\n",
              "      <td>50.0</td>\n",
              "      <td>0.237642</td>\n",
              "      <td>0.000837</td>\n",
              "    </tr>\n",
              "    <tr>\n",
              "      <th>15</th>\n",
              "      <td>128.0</td>\n",
              "      <td>256.0</td>\n",
              "      <td>8.0</td>\n",
              "      <td>0.4</td>\n",
              "      <td>0.2</td>\n",
              "      <td>0.001</td>\n",
              "      <td>50.0</td>\n",
              "      <td>0.237934</td>\n",
              "      <td>0.002879</td>\n",
              "    </tr>\n",
              "    <tr>\n",
              "      <th>12</th>\n",
              "      <td>128.0</td>\n",
              "      <td>256.0</td>\n",
              "      <td>4.0</td>\n",
              "      <td>0.2</td>\n",
              "      <td>0.2</td>\n",
              "      <td>0.001</td>\n",
              "      <td>50.0</td>\n",
              "      <td>0.238486</td>\n",
              "      <td>0.002298</td>\n",
              "    </tr>\n",
              "    <tr>\n",
              "      <th>7</th>\n",
              "      <td>64.0</td>\n",
              "      <td>256.0</td>\n",
              "      <td>8.0</td>\n",
              "      <td>0.4</td>\n",
              "      <td>0.2</td>\n",
              "      <td>0.001</td>\n",
              "      <td>50.0</td>\n",
              "      <td>0.238920</td>\n",
              "      <td>0.001074</td>\n",
              "    </tr>\n",
              "    <tr>\n",
              "      <th>8</th>\n",
              "      <td>128.0</td>\n",
              "      <td>128.0</td>\n",
              "      <td>4.0</td>\n",
              "      <td>0.2</td>\n",
              "      <td>0.2</td>\n",
              "      <td>0.001</td>\n",
              "      <td>50.0</td>\n",
              "      <td>0.240214</td>\n",
              "      <td>0.002991</td>\n",
              "    </tr>\n",
              "    <tr>\n",
              "      <th>9</th>\n",
              "      <td>128.0</td>\n",
              "      <td>128.0</td>\n",
              "      <td>4.0</td>\n",
              "      <td>0.4</td>\n",
              "      <td>0.2</td>\n",
              "      <td>0.001</td>\n",
              "      <td>50.0</td>\n",
              "      <td>0.240463</td>\n",
              "      <td>0.001015</td>\n",
              "    </tr>\n",
              "    <tr>\n",
              "      <th>0</th>\n",
              "      <td>64.0</td>\n",
              "      <td>128.0</td>\n",
              "      <td>4.0</td>\n",
              "      <td>0.2</td>\n",
              "      <td>0.2</td>\n",
              "      <td>0.001</td>\n",
              "      <td>50.0</td>\n",
              "      <td>0.241477</td>\n",
              "      <td>0.002413</td>\n",
              "    </tr>\n",
              "    <tr>\n",
              "      <th>2</th>\n",
              "      <td>64.0</td>\n",
              "      <td>128.0</td>\n",
              "      <td>8.0</td>\n",
              "      <td>0.2</td>\n",
              "      <td>0.2</td>\n",
              "      <td>0.001</td>\n",
              "      <td>50.0</td>\n",
              "      <td>0.241724</td>\n",
              "      <td>0.001893</td>\n",
              "    </tr>\n",
              "    <tr>\n",
              "      <th>3</th>\n",
              "      <td>64.0</td>\n",
              "      <td>128.0</td>\n",
              "      <td>8.0</td>\n",
              "      <td>0.4</td>\n",
              "      <td>0.2</td>\n",
              "      <td>0.001</td>\n",
              "      <td>50.0</td>\n",
              "      <td>0.241948</td>\n",
              "      <td>0.001262</td>\n",
              "    </tr>\n",
              "    <tr>\n",
              "      <th>1</th>\n",
              "      <td>64.0</td>\n",
              "      <td>128.0</td>\n",
              "      <td>4.0</td>\n",
              "      <td>0.4</td>\n",
              "      <td>0.2</td>\n",
              "      <td>0.001</td>\n",
              "      <td>50.0</td>\n",
              "      <td>0.242174</td>\n",
              "      <td>0.000802</td>\n",
              "    </tr>\n",
              "    <tr>\n",
              "      <th>11</th>\n",
              "      <td>128.0</td>\n",
              "      <td>128.0</td>\n",
              "      <td>8.0</td>\n",
              "      <td>0.4</td>\n",
              "      <td>0.2</td>\n",
              "      <td>0.001</td>\n",
              "      <td>50.0</td>\n",
              "      <td>0.244483</td>\n",
              "      <td>0.002525</td>\n",
              "    </tr>\n",
              "    <tr>\n",
              "      <th>10</th>\n",
              "      <td>128.0</td>\n",
              "      <td>128.0</td>\n",
              "      <td>8.0</td>\n",
              "      <td>0.2</td>\n",
              "      <td>0.2</td>\n",
              "      <td>0.001</td>\n",
              "      <td>50.0</td>\n",
              "      <td>0.247016</td>\n",
              "      <td>0.002577</td>\n",
              "    </tr>\n",
              "  </tbody>\n",
              "</table>\n",
              "</div>"
            ],
            "text/plain": [
              "    embedding_size  hidden_size  num_layers  ...  epochs  rmse_mean  rmse_std\n",
              "4             64.0        256.0         4.0  ...    50.0   0.236092  0.001399\n",
              "6             64.0        256.0         8.0  ...    50.0   0.236413  0.000653\n",
              "5             64.0        256.0         4.0  ...    50.0   0.236426  0.001543\n",
              "13           128.0        256.0         4.0  ...    50.0   0.236534  0.001728\n",
              "14           128.0        256.0         8.0  ...    50.0   0.237642  0.000837\n",
              "15           128.0        256.0         8.0  ...    50.0   0.237934  0.002879\n",
              "12           128.0        256.0         4.0  ...    50.0   0.238486  0.002298\n",
              "7             64.0        256.0         8.0  ...    50.0   0.238920  0.001074\n",
              "8            128.0        128.0         4.0  ...    50.0   0.240214  0.002991\n",
              "9            128.0        128.0         4.0  ...    50.0   0.240463  0.001015\n",
              "0             64.0        128.0         4.0  ...    50.0   0.241477  0.002413\n",
              "2             64.0        128.0         8.0  ...    50.0   0.241724  0.001893\n",
              "3             64.0        128.0         8.0  ...    50.0   0.241948  0.001262\n",
              "1             64.0        128.0         4.0  ...    50.0   0.242174  0.000802\n",
              "11           128.0        128.0         8.0  ...    50.0   0.244483  0.002525\n",
              "10           128.0        128.0         8.0  ...    50.0   0.247016  0.002577\n",
              "\n",
              "[16 rows x 9 columns]"
            ]
          },
          "metadata": {
            "tags": []
          },
          "execution_count": 314
        }
      ]
    },
    {
      "cell_type": "code",
      "metadata": {
        "id": "PZOK82yLJdX7",
        "outputId": "1a077bf6-8f9f-4676-9027-b75363c3c49d",
        "colab": {
          "base_uri": "https://localhost:8080/",
          "height": 283
        }
      },
      "source": [
        "# visualize the learning curve\n",
        "\n",
        "params = {\n",
        "    'embedding_size': 64,\n",
        "    'epochs': 60,\n",
        "    'hidden_size': 256,\n",
        "    'kernel_size': 3,\n",
        "    'learning_rate': 0.001,\n",
        "    'num_channels': 32,\n",
        "    'num_layers': 4,\n",
        "    'rnn_dropout': 0.2,\n",
        "    'rnn_type': 'LSTM',\n",
        "    'spatial_dropout': 0.4,\n",
        "}\n",
        "\n",
        "visualize_learning_curve(params, num_fold=4)"
      ],
      "execution_count": null,
      "outputs": [
        {
          "output_type": "display_data",
          "data": {
            "image/png": "[encoded data removed]",
            "text/plain": [
              "<Figure size 504x288 with 1 Axes>"
            ]
          },
          "metadata": {
            "tags": [],
            "needs_background": "light"
          }
        }
      ]
    },
    {
      "cell_type": "code",
      "metadata": {
        "id": "7uqfHB71Jdah"
      },
      "source": [
        "# save the model\n",
        "\n",
        "model_name = 'model34'\n",
        "\n",
        "for i, model in enumerate(models_ensemble):\n",
        "    torch.save(model, f'{BASE_PATH}/models/{model_name}_{i}.pt')\n",
        "\n",
        "# save the model and training parameters\n",
        "with open(f'{BASE_PATH}/models/params.json', 'w') as json_file:\n",
        "    json.dump(params, json_file)"
      ],
      "execution_count": null,
      "outputs": []
    },
    {
      "cell_type": "markdown",
      "metadata": {
        "id": "m8iCJbE6i-Bj"
      },
      "source": [
        "## Prepare the submission"
      ]
    },
    {
      "cell_type": "code",
      "metadata": {
        "id": "HzWihOWjdgaH"
      },
      "source": [
        "public_df = test.query(\"seq_length == 107\").copy()\n",
        "private_df = test.query(\"seq_length == 130\").copy()"
      ],
      "execution_count": null,
      "outputs": []
    },
    {
      "cell_type": "code",
      "metadata": {
        "id": "97imf29mjBDO",
        "outputId": "61571ef2-1c9e-4180-f563-5456466fb845",
        "colab": {
          "base_uri": "https://localhost:8080/",
          "height": 68
        }
      },
      "source": [
        "%%time\n",
        "\n",
        "public_inputs = torch.tensor(calculate_all_features(public_df, bppm_public)).to(device)\n",
        "private_inputs = torch.tensor(calculate_all_features(private_df, bppm_private)).to(device)\n",
        "\n",
        "print(public_inputs.shape, private_inputs.shape)"
      ],
      "execution_count": null,
      "outputs": [
        {
          "output_type": "stream",
          "text": [
            "torch.Size([629, 107, 25]) torch.Size([3005, 130, 25])\n",
            "CPU times: user 2min 38s, sys: 160 ms, total: 2min 39s\n",
            "Wall time: 2min 38s\n"
          ],
          "name": "stdout"
        }
      ]
    },
    {
      "cell_type": "code",
      "metadata": {
        "id": "VAO96778lBIi",
        "outputId": "f42a20dd-46e8-44e9-9c5e-9f9816742b33",
        "colab": {
          "base_uri": "https://localhost:8080/",
          "height": 34
        }
      },
      "source": [
        "# model.eval()\n",
        "\n",
        "# with torch.no_grad():\n",
        "#     public_pred = model(public_inputs, pred_len=107).detach().cpu().numpy()\n",
        "#     private_pred = model(private_inputs, pred_len=130).detach().cpu().numpy()\n",
        "\n",
        "# print(public_pred.shape, private_pred.shape)"
      ],
      "execution_count": null,
      "outputs": [
        {
          "output_type": "stream",
          "text": [
            "(629, 107, 5) (3005, 130, 5)\n"
          ],
          "name": "stdout"
        }
      ]
    },
    {
      "cell_type": "code",
      "metadata": {
        "id": "__mw8RoR773D",
        "outputId": "c37cdec9-0b75-4534-d620-b71d4436cfc3",
        "colab": {
          "base_uri": "https://localhost:8080/",
          "height": 34
        }
      },
      "source": [
        "for i, model in enumerate(models_ensemble):\n",
        "\n",
        "    model.eval()\n",
        "    with torch.no_grad():\n",
        "        if i == 0:\n",
        "            public_pred = model(public_inputs, pred_len=107).detach().cpu().numpy() / len(models_ensemble)\n",
        "            private_pred = model(private_inputs, pred_len=130).detach().cpu().numpy() / len(models_ensemble)\n",
        "        else:\n",
        "            public_pred += model(public_inputs, pred_len=107).detach().cpu().numpy() / len(models_ensemble)\n",
        "            private_pred += model(private_inputs, pred_len=130).detach().cpu().numpy() / len(models_ensemble)\n",
        "\n",
        "print(public_pred.shape, private_pred.shape)"
      ],
      "execution_count": null,
      "outputs": [
        {
          "output_type": "stream",
          "text": [
            "(629, 107, 5) (3005, 130, 5)\n"
          ],
          "name": "stdout"
        }
      ]
    },
    {
      "cell_type": "code",
      "metadata": {
        "id": "Y3u2Y0CPjMVZ",
        "outputId": "4cbfa64d-ec2e-4aa6-805f-be39c78e82d4",
        "colab": {
          "base_uri": "https://localhost:8080/",
          "height": 221
        }
      },
      "source": [
        "preds_combined = []\n",
        "\n",
        "for df, preds in [(public_df, public_pred), (private_df, private_pred)]:\n",
        "    for i, uid in enumerate(df.id):\n",
        "        single_pred = preds[i]\n",
        "\n",
        "        single_df = pd.DataFrame(single_pred, columns=target_cols)\n",
        "        single_df['id_seqpos'] = [f'{uid}_{x}' for x in range(single_df.shape[0])]\n",
        "\n",
        "        preds_combined.append(single_df)\n",
        "\n",
        "preds_combined_df = pd.concat(preds_combined)\n",
        "print(len(preds_combined_df))\n",
        "preds_combined_df.head()"
      ],
      "execution_count": null,
      "outputs": [
        {
          "output_type": "stream",
          "text": [
            "457953\n"
          ],
          "name": "stdout"
        },
        {
          "output_type": "execute_result",
          "data": {
            "text/html": [
              "<div>\n",
              "<style scoped>\n",
              "    .dataframe tbody tr th:only-of-type {\n",
              "        vertical-align: middle;\n",
              "    }\n",
              "\n",
              "    .dataframe tbody tr th {\n",
              "        vertical-align: top;\n",
              "    }\n",
              "\n",
              "    .dataframe thead th {\n",
              "        text-align: right;\n",
              "    }\n",
              "</style>\n",
              "<table border=\"1\" class=\"dataframe\">\n",
              "  <thead>\n",
              "    <tr style=\"text-align: right;\">\n",
              "      <th></th>\n",
              "      <th>reactivity</th>\n",
              "      <th>deg_Mg_pH10</th>\n",
              "      <th>deg_Mg_50C</th>\n",
              "      <th>deg_pH10</th>\n",
              "      <th>deg_50C</th>\n",
              "      <th>id_seqpos</th>\n",
              "    </tr>\n",
              "  </thead>\n",
              "  <tbody>\n",
              "    <tr>\n",
              "      <th>0</th>\n",
              "      <td>0.758059</td>\n",
              "      <td>0.655669</td>\n",
              "      <td>0.549354</td>\n",
              "      <td>1.926301</td>\n",
              "      <td>0.769495</td>\n",
              "      <td>id_00073f8be_0</td>\n",
              "    </tr>\n",
              "    <tr>\n",
              "      <th>1</th>\n",
              "      <td>2.116197</td>\n",
              "      <td>3.115122</td>\n",
              "      <td>3.072945</td>\n",
              "      <td>3.946246</td>\n",
              "      <td>2.634389</td>\n",
              "      <td>id_00073f8be_1</td>\n",
              "    </tr>\n",
              "    <tr>\n",
              "      <th>2</th>\n",
              "      <td>1.591350</td>\n",
              "      <td>0.665280</td>\n",
              "      <td>0.776524</td>\n",
              "      <td>0.722005</td>\n",
              "      <td>0.696312</td>\n",
              "      <td>id_00073f8be_2</td>\n",
              "    </tr>\n",
              "    <tr>\n",
              "      <th>3</th>\n",
              "      <td>1.293422</td>\n",
              "      <td>1.212670</td>\n",
              "      <td>1.685980</td>\n",
              "      <td>1.276227</td>\n",
              "      <td>1.842575</td>\n",
              "      <td>id_00073f8be_3</td>\n",
              "    </tr>\n",
              "    <tr>\n",
              "      <th>4</th>\n",
              "      <td>0.829836</td>\n",
              "      <td>0.562305</td>\n",
              "      <td>0.858103</td>\n",
              "      <td>0.561662</td>\n",
              "      <td>0.891062</td>\n",
              "      <td>id_00073f8be_4</td>\n",
              "    </tr>\n",
              "  </tbody>\n",
              "</table>\n",
              "</div>"
            ],
            "text/plain": [
              "   reactivity  deg_Mg_pH10  deg_Mg_50C  deg_pH10   deg_50C       id_seqpos\n",
              "0    0.758059     0.655669    0.549354  1.926301  0.769495  id_00073f8be_0\n",
              "1    2.116197     3.115122    3.072945  3.946246  2.634389  id_00073f8be_1\n",
              "2    1.591350     0.665280    0.776524  0.722005  0.696312  id_00073f8be_2\n",
              "3    1.293422     1.212670    1.685980  1.276227  1.842575  id_00073f8be_3\n",
              "4    0.829836     0.562305    0.858103  0.561662  0.891062  id_00073f8be_4"
            ]
          },
          "metadata": {
            "tags": []
          },
          "execution_count": 44
        }
      ]
    },
    {
      "cell_type": "code",
      "metadata": {
        "id": "IJdu5m9RmHxk",
        "outputId": "c396db92-4e35-4d8b-d114-fadb0a3778a4",
        "colab": {
          "base_uri": "https://localhost:8080/",
          "height": 221
        }
      },
      "source": [
        "submission = sample_submission[['id_seqpos']].merge(preds_combined_df, on=['id_seqpos'])[list(sample_submission.columns)]\n",
        "\n",
        "#sanity check\n",
        "\n",
        "print(len(submission))\n",
        "submission.head()"
      ],
      "execution_count": null,
      "outputs": [
        {
          "output_type": "stream",
          "text": [
            "457953\n"
          ],
          "name": "stdout"
        },
        {
          "output_type": "execute_result",
          "data": {
            "text/html": [
              "<div>\n",
              "<style scoped>\n",
              "    .dataframe tbody tr th:only-of-type {\n",
              "        vertical-align: middle;\n",
              "    }\n",
              "\n",
              "    .dataframe tbody tr th {\n",
              "        vertical-align: top;\n",
              "    }\n",
              "\n",
              "    .dataframe thead th {\n",
              "        text-align: right;\n",
              "    }\n",
              "</style>\n",
              "<table border=\"1\" class=\"dataframe\">\n",
              "  <thead>\n",
              "    <tr style=\"text-align: right;\">\n",
              "      <th></th>\n",
              "      <th>id_seqpos</th>\n",
              "      <th>reactivity</th>\n",
              "      <th>deg_Mg_pH10</th>\n",
              "      <th>deg_pH10</th>\n",
              "      <th>deg_Mg_50C</th>\n",
              "      <th>deg_50C</th>\n",
              "    </tr>\n",
              "  </thead>\n",
              "  <tbody>\n",
              "    <tr>\n",
              "      <th>0</th>\n",
              "      <td>id_00073f8be_0</td>\n",
              "      <td>0.758059</td>\n",
              "      <td>0.655669</td>\n",
              "      <td>1.926301</td>\n",
              "      <td>0.549354</td>\n",
              "      <td>0.769495</td>\n",
              "    </tr>\n",
              "    <tr>\n",
              "      <th>1</th>\n",
              "      <td>id_00073f8be_1</td>\n",
              "      <td>2.116197</td>\n",
              "      <td>3.115122</td>\n",
              "      <td>3.946246</td>\n",
              "      <td>3.072945</td>\n",
              "      <td>2.634389</td>\n",
              "    </tr>\n",
              "    <tr>\n",
              "      <th>2</th>\n",
              "      <td>id_00073f8be_2</td>\n",
              "      <td>1.591350</td>\n",
              "      <td>0.665280</td>\n",
              "      <td>0.722005</td>\n",
              "      <td>0.776524</td>\n",
              "      <td>0.696312</td>\n",
              "    </tr>\n",
              "    <tr>\n",
              "      <th>3</th>\n",
              "      <td>id_00073f8be_3</td>\n",
              "      <td>1.293422</td>\n",
              "      <td>1.212670</td>\n",
              "      <td>1.276227</td>\n",
              "      <td>1.685980</td>\n",
              "      <td>1.842575</td>\n",
              "    </tr>\n",
              "    <tr>\n",
              "      <th>4</th>\n",
              "      <td>id_00073f8be_4</td>\n",
              "      <td>0.829836</td>\n",
              "      <td>0.562305</td>\n",
              "      <td>0.561662</td>\n",
              "      <td>0.858103</td>\n",
              "      <td>0.891062</td>\n",
              "    </tr>\n",
              "  </tbody>\n",
              "</table>\n",
              "</div>"
            ],
            "text/plain": [
              "        id_seqpos  reactivity  deg_Mg_pH10  deg_pH10  deg_Mg_50C   deg_50C\n",
              "0  id_00073f8be_0    0.758059     0.655669  1.926301    0.549354  0.769495\n",
              "1  id_00073f8be_1    2.116197     3.115122  3.946246    3.072945  2.634389\n",
              "2  id_00073f8be_2    1.591350     0.665280  0.722005    0.776524  0.696312\n",
              "3  id_00073f8be_3    1.293422     1.212670  1.276227    1.685980  1.842575\n",
              "4  id_00073f8be_4    0.829836     0.562305  0.561662    0.858103  0.891062"
            ]
          },
          "metadata": {
            "tags": []
          },
          "execution_count": 45
        }
      ]
    },
    {
      "cell_type": "code",
      "metadata": {
        "id": "uXqWJpUjmUKo",
        "outputId": "68400749-6b43-4b26-99f4-69e7f2b6ac59",
        "colab": {
          "base_uri": "https://localhost:8080/",
          "height": 34
        }
      },
      "source": [
        "submission.to_csv('submission.csv', index=False)\n",
        "print('Submission saved')"
      ],
      "execution_count": null,
      "outputs": [
        {
          "output_type": "stream",
          "text": [
            "Submission saved\n"
          ],
          "name": "stdout"
        }
      ]
    },
    {
      "cell_type": "markdown",
      "metadata": {
        "id": "_vXhU8PssocD"
      },
      "source": [
        "## Blend some submissions"
      ]
    },
    {
      "cell_type": "code",
      "metadata": {
        "id": "jJRiexpq3qeP"
      },
      "source": [
        "# notebooks/submission used in the blend\n",
        "\n",
        "# https://www.kaggle.com/mrkmakr/covid-ae-pretrain-gnn-attn-cnn/ (0.24860)\n",
        "# https://www.kaggle.com/its7171/gru-lstm-with-feature-engineering-and-augmentation/ (0.25160)\n",
        "# https://www.kaggle.com/nancy392/mix-gru-lstm-oop-refactoring/ (not used)\n",
        "# https://www.kaggle.com/symyksr/openvaccine-deepergcn/ (0.25641)\n",
        "# https://www.kaggle.com/vudangthinh/openvaccine-gcn-graphsage-gru-kfold/ (0.26592)\n",
        "# https://www.kaggle.com/yosukeyama/lightgbm-augment-and-bpps-lb-0-27652/ (0.27652)\n",
        "# https://www.kaggle.com/takadaat/openvaccine-pytorch-ae-pretrain/ (0.24557)"
      ],
      "execution_count": null,
      "outputs": []
    },
    {
      "cell_type": "code",
      "metadata": {
        "id": "vd3pNnKwVZzk"
      },
      "source": [
        "csv_paths = [\n",
        "    './drive/My Drive/Kaggle-Stanford-Covid-Vaccine/submissions/submission_20200930_model34.csv',\n",
        "    './drive/My Drive/Kaggle-Stanford-Covid-Vaccine/submissions_others/submission_AE_GNN_Attn_CNN.csv',\n",
        "    './drive/My Drive/Kaggle-Stanford-Covid-Vaccine/submissions_others/submission_GRU_LSTM_augmentation.csv',\n",
        "    './drive/My Drive/Kaggle-Stanford-Covid-Vaccine/submissions_others/submission_deeper_GCN.csv',\n",
        "    './drive/My Drive/Kaggle-Stanford-Covid-Vaccine/submissions_others/submission_AE_CNN_Transformer.csv',\n",
        "]\n",
        "\n",
        "weights = [0.1, 0.2, 0.3, 0, 0.4]\n",
        "\n",
        "# Individual LB scores\n",
        "# 0.25584\n",
        "# 0.24860\n",
        "# 0.25160\n",
        "# 0.25641\n",
        "# 0.24557"
      ],
      "execution_count": null,
      "outputs": []
    },
    {
      "cell_type": "code",
      "metadata": {
        "id": "tEmjb1phOz_O"
      },
      "source": [
        "cols = ['reactivity', 'deg_Mg_pH10', 'deg_pH10', 'deg_Mg_50C', 'deg_50C']"
      ],
      "execution_count": null,
      "outputs": []
    },
    {
      "cell_type": "code",
      "metadata": {
        "id": "i_m9JvCrOUuk"
      },
      "source": [
        "submissions = []\n",
        "for path, weight in zip(csv_paths, weights):\n",
        "    df = pd.read_csv(path)\n",
        "\n",
        "    # scale by the weights\n",
        "    df[cols] = df[cols] * weight\n",
        "\n",
        "    submissions.append(df)"
      ],
      "execution_count": null,
      "outputs": []
    },
    {
      "cell_type": "code",
      "metadata": {
        "id": "Ej0nzYQ2yRo6"
      },
      "source": [
        "# # read all the submission files and blend them\n",
        "\n",
        "# submissions = [pd.read_csv(x)[list(sample_submission.columns)] for x in csv_paths]\n",
        "# submission = pd.concat(submissions).groupby('id_seqpos').mean().reset_index()"
      ],
      "execution_count": null,
      "outputs": []
    },
    {
      "cell_type": "code",
      "metadata": {
        "id": "JPTa7mBVyT0T"
      },
      "source": [
        "submission = pd.concat(submissions).groupby('id_seqpos').sum().reset_index()"
      ],
      "execution_count": null,
      "outputs": []
    },
    {
      "cell_type": "code",
      "metadata": {
        "id": "75o32b3-yYbh"
      },
      "source": [
        "submission = sample_submission[['id_seqpos']].merge(submission, on='id_seqpos')[list(sample_submission.columns)]"
      ],
      "execution_count": null,
      "outputs": []
    },
    {
      "cell_type": "code",
      "metadata": {
        "id": "k9C7A_B6Pwre",
        "outputId": "16ba7cfa-ce16-4b78-c831-e6a53d14078b",
        "colab": {
          "base_uri": "https://localhost:8080/",
          "height": 204
        }
      },
      "source": [
        "submission.head()"
      ],
      "execution_count": null,
      "outputs": [
        {
          "output_type": "execute_result",
          "data": {
            "text/html": [
              "<div>\n",
              "<style scoped>\n",
              "    .dataframe tbody tr th:only-of-type {\n",
              "        vertical-align: middle;\n",
              "    }\n",
              "\n",
              "    .dataframe tbody tr th {\n",
              "        vertical-align: top;\n",
              "    }\n",
              "\n",
              "    .dataframe thead th {\n",
              "        text-align: right;\n",
              "    }\n",
              "</style>\n",
              "<table border=\"1\" class=\"dataframe\">\n",
              "  <thead>\n",
              "    <tr style=\"text-align: right;\">\n",
              "      <th></th>\n",
              "      <th>id_seqpos</th>\n",
              "      <th>reactivity</th>\n",
              "      <th>deg_Mg_pH10</th>\n",
              "      <th>deg_pH10</th>\n",
              "      <th>deg_Mg_50C</th>\n",
              "      <th>deg_50C</th>\n",
              "    </tr>\n",
              "  </thead>\n",
              "  <tbody>\n",
              "    <tr>\n",
              "      <th>0</th>\n",
              "      <td>id_00073f8be_0</td>\n",
              "      <td>0.742109</td>\n",
              "      <td>0.662927</td>\n",
              "      <td>1.915933</td>\n",
              "      <td>0.541534</td>\n",
              "      <td>0.773541</td>\n",
              "    </tr>\n",
              "    <tr>\n",
              "      <th>1</th>\n",
              "      <td>id_00073f8be_1</td>\n",
              "      <td>2.227125</td>\n",
              "      <td>3.080935</td>\n",
              "      <td>4.182836</td>\n",
              "      <td>3.123385</td>\n",
              "      <td>2.795891</td>\n",
              "    </tr>\n",
              "    <tr>\n",
              "      <th>2</th>\n",
              "      <td>id_00073f8be_2</td>\n",
              "      <td>1.558835</td>\n",
              "      <td>0.630810</td>\n",
              "      <td>0.719974</td>\n",
              "      <td>0.743690</td>\n",
              "      <td>0.741512</td>\n",
              "    </tr>\n",
              "    <tr>\n",
              "      <th>3</th>\n",
              "      <td>id_00073f8be_3</td>\n",
              "      <td>1.298015</td>\n",
              "      <td>1.120434</td>\n",
              "      <td>1.224055</td>\n",
              "      <td>1.624500</td>\n",
              "      <td>1.777619</td>\n",
              "    </tr>\n",
              "    <tr>\n",
              "      <th>4</th>\n",
              "      <td>id_00073f8be_4</td>\n",
              "      <td>0.825237</td>\n",
              "      <td>0.565766</td>\n",
              "      <td>0.513885</td>\n",
              "      <td>0.853468</td>\n",
              "      <td>0.873077</td>\n",
              "    </tr>\n",
              "  </tbody>\n",
              "</table>\n",
              "</div>"
            ],
            "text/plain": [
              "        id_seqpos  reactivity  deg_Mg_pH10  deg_pH10  deg_Mg_50C   deg_50C\n",
              "0  id_00073f8be_0    0.742109     0.662927  1.915933    0.541534  0.773541\n",
              "1  id_00073f8be_1    2.227125     3.080935  4.182836    3.123385  2.795891\n",
              "2  id_00073f8be_2    1.558835     0.630810  0.719974    0.743690  0.741512\n",
              "3  id_00073f8be_3    1.298015     1.120434  1.224055    1.624500  1.777619\n",
              "4  id_00073f8be_4    0.825237     0.565766  0.513885    0.853468  0.873077"
            ]
          },
          "metadata": {
            "tags": []
          },
          "execution_count": 41
        }
      ]
    },
    {
      "cell_type": "code",
      "metadata": {
        "id": "qj0a6SPltR04",
        "outputId": "fdfc59dc-822a-4d8a-aead-cedb3e5ecb98",
        "colab": {
          "base_uri": "https://localhost:8080/",
          "height": 34
        }
      },
      "source": [
        "submission.to_csv('submission.csv', index=False)\n",
        "print('Submission saved')"
      ],
      "execution_count": null,
      "outputs": [
        {
          "output_type": "stream",
          "text": [
            "Submission saved\n"
          ],
          "name": "stdout"
        }
      ]
    },
    {
      "cell_type": "markdown",
      "metadata": {
        "id": "GdWML5aiVdHJ"
      },
      "source": [
        "## Some obsolete items"
      ]
    },
    {
      "cell_type": "code",
      "metadata": {
        "id": "4icw2DBDshWr"
      },
      "source": [
        "# Dataset without sample weights\n",
        "\n",
        "# class RNADataset(Dataset):\n",
        "#     def __init__(self, X, Y):\n",
        "#         self.X = X\n",
        "#         self.y = Y\n",
        "        \n",
        "#     def __len__(self):\n",
        "#         return len(self.y)\n",
        "    \n",
        "#     def __getitem__(self, idx):\n",
        "#         return self.X[idx], self.y[idx]"
      ],
      "execution_count": null,
      "outputs": []
    },
    {
      "cell_type": "code",
      "metadata": {
        "id": "gf8GgwQzVZyA"
      },
      "source": [
        "# MCRMSELoss implementation from Kagglers\n",
        "\n",
        "# class RMSELoss(nn.Module):\n",
        "#     def __init__(self, eps=1e-6):\n",
        "#         super().__init__()\n",
        "#         self.mse = nn.MSELoss()\n",
        "#         self.eps = eps\n",
        "\n",
        "#     def forward(self, yhat, y):\n",
        "#         loss = torch.sqrt(self.mse(yhat, y) + self.eps)\n",
        "#         return loss\n",
        "\n",
        "# class MCRMSELoss(nn.Module):\n",
        "#     def __init__(self, num_scored=3):\n",
        "#         super().__init__()\n",
        "#         self.rmse = RMSELoss()\n",
        "#         self.num_scored = num_scored\n",
        "\n",
        "#     def forward(self, yhat, y, weights):\n",
        "#         score = 0\n",
        "#         for i in range(self.num_scored):\n",
        "#             score += self.rmse(yhat[:, :, i], y[:, :, i]) / self.num_scored\n",
        "\n",
        "#         return score"
      ],
      "execution_count": null,
      "outputs": []
    },
    {
      "cell_type": "code",
      "metadata": {
        "id": "cuneebh4-4Is"
      },
      "source": [
        "# # MCRMSE without sample weights\n",
        "\n",
        "# def MCRMSE(preds, labels, num_scored=5):\n",
        "#     score = 0\n",
        "#     for i in range(num_scored):\n",
        "#         score += torch.sqrt(((preds[:,:,i:i+1] - labels[:,:,i:i+1]) ** 2).mean()) / num_scored\n",
        "\n",
        "#     return score"
      ],
      "execution_count": null,
      "outputs": []
    },
    {
      "cell_type": "code",
      "metadata": {
        "id": "mg-CVuaiZBD3"
      },
      "source": [
        "# w/o SN_filter\n",
        "# train_inputs = preprocess_inputs(train)\n",
        "# train_labels = np.array(train[target_cols].values.tolist()).transpose((0, 2, 1))\n",
        "# train_weights = np.array(train['signal_to_noise'].values)\n",
        "# train_weights = np.expand_dims(np.column_stack([train_weights]*train_labels.shape[1]), axis=2)"
      ],
      "execution_count": null,
      "outputs": []
    },
    {
      "cell_type": "code",
      "metadata": {
        "id": "nVtw6MWQDwKM"
      },
      "source": [
        "# # w/ Conv1D + LayerNorm\n",
        "\n",
        "# class OpenVaccineModel(nn.Module):\n",
        "#     def __init__(self, rnn_type, embedding_size, hidden_size, num_layers, num_channels, kernel_size, spatial_dropout, rnn_dropout):\n",
        "#         super().__init__()\n",
        "#         self.hidden_size = hidden_size\n",
        "#         self.embedding_size = embedding_size\n",
        "\n",
        "#         self.embeddings = nn.Embedding(TOKEN_SIZE, embedding_size)\n",
        "\n",
        "#         self.dropout2d = nn.Dropout2d(spatial_dropout)\n",
        "#         self.conv1d = nn.Conv1d(\n",
        "#             INPUT_SIZE*embedding_size+DENSE_SIZE,\n",
        "#             num_channels,\n",
        "#             kernel_size,\n",
        "#             stride=1,\n",
        "#             padding=(kernel_size-1)//2\n",
        "#         )\n",
        "\n",
        "#         self.norm = nn.LayerNorm([num_channels])\n",
        "\n",
        "#         if rnn_type == 'LSTM':\n",
        "#             self.rnn = nn.LSTM(\n",
        "#                 num_channels,\n",
        "#                 hidden_size,\n",
        "#                 num_layers,\n",
        "#                 batch_first=True,\n",
        "#                 dropout=rnn_dropout,\n",
        "#                 bidirectional=True\n",
        "#             )\n",
        "#         elif rnn_type == 'GRU':\n",
        "#             self.rnn = nn.GRU(\n",
        "#                 num_channels,\n",
        "#                 hidden_size,\n",
        "#                 num_layers,\n",
        "#                 batch_first=True,\n",
        "#                 dropout=rnn_dropout,\n",
        "#                 bidirectional=True\n",
        "#             )\n",
        "#         else:\n",
        "#             print(\"The RNN type input is not supported. Choose between LSTM and GRU\")\n",
        "\n",
        "#         self.linear = nn.Linear(2*hidden_size, OUTPUT_SIZE)\n",
        "\n",
        "#     def forward(self, x, pred_len=68):\n",
        "#         # x = (batch_size, seq_len, input_size+dense_size)\n",
        "#         x_sparse = x[:,:,:INPUT_SIZE].long()\n",
        "#         x_dense = x[:,:,INPUT_SIZE:]\n",
        "\n",
        "#         # embeds = (batch_size, seq_len, input_size*embedding_size)\n",
        "#         embeds = self.embeddings(x_sparse)\n",
        "#         embeds = torch.reshape(embeds, (embeds.shape[0], embeds.shape[1], -1))\n",
        "\n",
        "#         # spatial dropout 1d\n",
        "#         # dropout_output = (batch_size, seq_len, input_size*embedding_size)\n",
        "#         dropout_output = self.dropout2d(embeds.permute(0, 2, 1)).permute(0, 2, 1)\n",
        "\n",
        "#         # lstm_input = (batch_size, seq_len, input_size*embedding_size+dense_size)\n",
        "#         # conv1d_input = (batch_size, seq_len, input_size*embedding_size+dense_size)\n",
        "#         conv1d_input = torch.cat((dropout_output, x_dense), -1).float()\n",
        "\n",
        "#         # conv1d\n",
        "#         # conv1d_output = (batch_size, output_length, num_channels)\n",
        "#         conv1d_output = self.conv1d(conv1d_input.permute(0, 2, 1))\n",
        "\n",
        "#         # layer normalization\n",
        "#         normed = self.norm(conv1d_output.permute(0, 2, 1))\n",
        "\n",
        "#         # lstm_output = (batch_size, seq_len, hidden_size)\n",
        "#         rnn_out, hidden = self.rnn(normed)\n",
        "\n",
        "#         # truncated = (batch_size, pred_len, input_size*embedding_size+dense_size)\n",
        "#         # prediction = (batch_size, seq_len, output_size)\n",
        "#         truncated = rnn_out[:, :pred_len, :]\n",
        "#         predictions = self.linear(truncated)\n",
        "\n",
        "#         return predictions"
      ],
      "execution_count": null,
      "outputs": []
    },
    {
      "cell_type": "code",
      "metadata": {
        "id": "d5gnO7axLqQZ"
      },
      "source": [
        "# train a final model using the best hyperparameters (no ensembling)\n",
        "\n",
        "# def train_model(params, train_inputs, train_labels):\n",
        "#     \"\"\" train the model using all the data, without validation set \"\"\"\n",
        "\n",
        "#     # get a string containing all the parameters as the folder name to store the log/model/file\n",
        "#     all_params = list(params.values())\n",
        "#     all_params_str = \"_\".join([str(x) for x in all_params])\n",
        "#     if not os.path.exists(\"./{}\".format(all_params_str)):\n",
        "#         os.makedirs(\"./{}\".format(all_params_str))\n",
        "\n",
        "#     train_ds = RNADataset(train_inputs, train_labels)\n",
        "#     train_dl = DataLoader(train_ds, batch_size=64, shuffle=True)\n",
        "\n",
        "#     # initialize the model\n",
        "#     model = LSTM(\n",
        "#         embedding_size=params['embedding_size'],\n",
        "#         hidden_size=params['hidden_size'],\n",
        "#         num_layers=params['num_layers'],\n",
        "#         spatial_dropout=params['spatial_dropout'],\n",
        "#         lstm_dropout=params['lstm_dropout']\n",
        "#     ).to(device)\n",
        "\n",
        "#     # initialize the otpimizer\n",
        "#     optimizer = torch.optim.Adam(model.parameters(), lr=params['learning_rate'])\n",
        "\n",
        "#     # initialize the log file\n",
        "#     log_file = open(\"./{}/log_final.csv\".format(all_params_str), 'w')\n",
        "#     log_file.write('epoch,loss_train\\n')\n",
        "\n",
        "#     # start the training\n",
        "#     for i in range(params['epochs']):\n",
        "\n",
        "#         model.train()\n",
        "\n",
        "#         sum_loss, num_samples = 0.0, 0\n",
        "#         for x, y in train_dl:\n",
        "#             x, y = x.to(device), y.to(device)\n",
        "#             y_pred = model(x)\n",
        "#             optimizer.zero_grad()\n",
        "#             loss = MCRMSE(y_pred, y)\n",
        "#             loss.backward()\n",
        "#             optimizer.step()\n",
        "#             sum_loss += loss.item()*y.shape[0]\n",
        "#             num_samples += y.shape[0]\n",
        "#         train_loss = sum_loss/num_samples\n",
        "\n",
        "#         # write stats to log\n",
        "#         print(\"Epoch {}, Train loss {:.5f}\".format(i, train_loss))\n",
        "#         log_file.write('{},{:.4f}\\n'.format(i, train_loss))\n",
        "#     log_file.close()\n",
        "\n",
        "#     return model"
      ],
      "execution_count": null,
      "outputs": []
    },
    {
      "cell_type": "code",
      "metadata": {
        "id": "_TtxFUHzJdfY"
      },
      "source": [
        "# train a final model using the best hyperparameters (no ensembling)\n",
        "\n",
        "# params = {\n",
        "#     'embedding_size': 64,\n",
        "#     'hidden_size': 256,\n",
        "#     'num_layers': 4,\n",
        "#     'spatial_dropout': 0.2,\n",
        "#     'lstm_dropout': 0.2,\n",
        "#     'learning_rate': 0.001,\n",
        "#     'epochs': 70\n",
        "# }\n",
        "\n",
        "# model = train_model(params, train_inputs, train_labels)"
      ],
      "execution_count": null,
      "outputs": []
    },
    {
      "cell_type": "code",
      "metadata": {
        "id": "_r1XRcunMld0"
      },
      "source": [
        "# visualize the final model trained\n",
        "\n",
        "# visualize_learning_curve(params, -1)"
      ],
      "execution_count": null,
      "outputs": []
    },
    {
      "cell_type": "markdown",
      "metadata": {
        "id": "cx42lJOrqpUQ"
      },
      "source": [
        "## EDA"
      ]
    },
    {
      "cell_type": "code",
      "metadata": {
        "id": "rGC-vBJYqAVg",
        "outputId": "205edf8d-0abe-42f4-b61a-b8d08148c202",
        "colab": {
          "base_uri": "https://localhost:8080/",
          "height": 462
        }
      },
      "source": [
        "train.head()"
      ],
      "execution_count": null,
      "outputs": [
        {
          "output_type": "execute_result",
          "data": {
            "text/html": [
              "<div>\n",
              "<style scoped>\n",
              "    .dataframe tbody tr th:only-of-type {\n",
              "        vertical-align: middle;\n",
              "    }\n",
              "\n",
              "    .dataframe tbody tr th {\n",
              "        vertical-align: top;\n",
              "    }\n",
              "\n",
              "    .dataframe thead th {\n",
              "        text-align: right;\n",
              "    }\n",
              "</style>\n",
              "<table border=\"1\" class=\"dataframe\">\n",
              "  <thead>\n",
              "    <tr style=\"text-align: right;\">\n",
              "      <th></th>\n",
              "      <th>index</th>\n",
              "      <th>id</th>\n",
              "      <th>sequence</th>\n",
              "      <th>structure</th>\n",
              "      <th>predicted_loop_type</th>\n",
              "      <th>signal_to_noise</th>\n",
              "      <th>SN_filter</th>\n",
              "      <th>seq_length</th>\n",
              "      <th>seq_scored</th>\n",
              "      <th>reactivity_error</th>\n",
              "      <th>deg_error_Mg_pH10</th>\n",
              "      <th>deg_error_pH10</th>\n",
              "      <th>deg_error_Mg_50C</th>\n",
              "      <th>deg_error_50C</th>\n",
              "      <th>reactivity</th>\n",
              "      <th>deg_Mg_pH10</th>\n",
              "      <th>deg_pH10</th>\n",
              "      <th>deg_Mg_50C</th>\n",
              "      <th>deg_50C</th>\n",
              "    </tr>\n",
              "  </thead>\n",
              "  <tbody>\n",
              "    <tr>\n",
              "      <th>0</th>\n",
              "      <td>0</td>\n",
              "      <td>id_001f94081</td>\n",
              "      <td>GGAAAAGCUCUAAUAACAGGAGACUAGGACUACGUAUUUCUAGGUA...</td>\n",
              "      <td>.....((((((.......)))).)).((.....((..((((((......</td>\n",
              "      <td>EEEEESSSSSSHHHHHHHSSSSBSSXSSIIIIISSIISSSSSSHHH...</td>\n",
              "      <td>6.894</td>\n",
              "      <td>1</td>\n",
              "      <td>107</td>\n",
              "      <td>68</td>\n",
              "      <td>[0.1359, 0.20700000000000002, 0.1633, 0.1452, ...</td>\n",
              "      <td>[0.26130000000000003, 0.38420000000000004, 0.1...</td>\n",
              "      <td>[0.2631, 0.28600000000000003, 0.0964, 0.1574, ...</td>\n",
              "      <td>[0.1501, 0.275, 0.0947, 0.18660000000000002, 0...</td>\n",
              "      <td>[0.2167, 0.34750000000000003, 0.188, 0.2124, 0...</td>\n",
              "      <td>[0.3297, 1.5693000000000001, 1.1227, 0.8686, 0...</td>\n",
              "      <td>[0.7556, 2.983, 0.2526, 1.3789, 0.637600000000...</td>\n",
              "      <td>[2.3375, 3.5060000000000002, 0.3008, 1.0108, 0...</td>\n",
              "      <td>[0.35810000000000003, 2.9683, 0.2589, 1.4552, ...</td>\n",
              "      <td>[0.6382, 3.4773, 0.9988, 1.3228, 0.78770000000...</td>\n",
              "    </tr>\n",
              "    <tr>\n",
              "      <th>1</th>\n",
              "      <td>1</td>\n",
              "      <td>id_0049f53ba</td>\n",
              "      <td>GGAAAAAGCGCGCGCGGUUAGCGCGCGCUUUUGCGCGCGCUGUACC...</td>\n",
              "      <td>.....(((((((((((((((((((((((....)))))))))).)))...</td>\n",
              "      <td>EEEEESSSSSSSSSSSSSSSSSSSSSSSHHHHSSSSSSSSSSBSSS...</td>\n",
              "      <td>0.193</td>\n",
              "      <td>0</td>\n",
              "      <td>107</td>\n",
              "      <td>68</td>\n",
              "      <td>[2.8272, 2.8272, 2.8272, 4.7343, 2.5676, 2.567...</td>\n",
              "      <td>[73705.3985, 73705.3985, 73705.3985, 73705.398...</td>\n",
              "      <td>[10.1986, 9.2418, 5.0933, 5.0933, 5.0933, 5.09...</td>\n",
              "      <td>[16.6174, 13.868, 8.1968, 8.1968, 8.1968, 8.19...</td>\n",
              "      <td>[15.4857, 7.9596, 13.3957, 5.8777, 5.8777, 5.8...</td>\n",
              "      <td>[0.0, 0.0, 0.0, 2.2965, 0.0, 0.0, 0.0, 0.0, 0....</td>\n",
              "      <td>[0.0, 0.0, 0.0, 0.0, 0.0, 0.0, 0.0, 0.0, 0.0, ...</td>\n",
              "      <td>[4.947, 4.4523, 0.0, 0.0, 0.0, 0.0, 0.0, 0.0, ...</td>\n",
              "      <td>[4.8511, 4.0426, 0.0, 0.0, 0.0, 0.0, 0.0, 0.0,...</td>\n",
              "      <td>[7.6692, 0.0, 10.9561, 0.0, 0.0, 0.0, 0.0, 0.0...</td>\n",
              "    </tr>\n",
              "    <tr>\n",
              "      <th>2</th>\n",
              "      <td>2</td>\n",
              "      <td>id_006f36f57</td>\n",
              "      <td>GGAAAGUGCUCAGAUAAGCUAAGCUCGAAUAGCAAUCGAAUAGAAU...</td>\n",
              "      <td>.....((((.((.....((((.(((.....)))..((((......)...</td>\n",
              "      <td>EEEEESSSSISSIIIIISSSSMSSSHHHHHSSSMMSSSSHHHHHHS...</td>\n",
              "      <td>8.800</td>\n",
              "      <td>1</td>\n",
              "      <td>107</td>\n",
              "      <td>68</td>\n",
              "      <td>[0.0931, 0.13290000000000002, 0.11280000000000...</td>\n",
              "      <td>[0.1365, 0.2237, 0.1812, 0.1333, 0.1148, 0.160...</td>\n",
              "      <td>[0.17020000000000002, 0.178, 0.111, 0.091, 0.0...</td>\n",
              "      <td>[0.1033, 0.1464, 0.1126, 0.09620000000000001, ...</td>\n",
              "      <td>[0.14980000000000002, 0.1761, 0.1517, 0.116700...</td>\n",
              "      <td>[0.44820000000000004, 1.4822, 1.1819, 0.743400...</td>\n",
              "      <td>[0.2504, 1.4021, 0.9804, 0.49670000000000003, ...</td>\n",
              "      <td>[2.243, 2.9361, 1.0553, 0.721, 0.6396000000000...</td>\n",
              "      <td>[0.5163, 1.6823000000000001, 1.0426, 0.7902, 0...</td>\n",
              "      <td>[0.9501000000000001, 1.7974999999999999, 1.499...</td>\n",
              "    </tr>\n",
              "    <tr>\n",
              "      <th>3</th>\n",
              "      <td>3</td>\n",
              "      <td>id_0082d463b</td>\n",
              "      <td>GGAAAAGCGCGCGCGCGCGCGCGAAAAAGCGCGCGCGCGCGCGCGC...</td>\n",
              "      <td>......((((((((((((((((......))))))))))))))))((...</td>\n",
              "      <td>EEEEEESSSSSSSSSSSSSSSSHHHHHHSSSSSSSSSSSSSSSSSS...</td>\n",
              "      <td>0.104</td>\n",
              "      <td>0</td>\n",
              "      <td>107</td>\n",
              "      <td>68</td>\n",
              "      <td>[3.5229, 6.0748, 3.0374, 3.0374, 3.0374, 3.037...</td>\n",
              "      <td>[73705.3985, 73705.3985, 73705.3985, 73705.398...</td>\n",
              "      <td>[11.8007, 12.7566, 5.7733, 5.7733, 5.7733, 5.7...</td>\n",
              "      <td>[121286.7181, 121286.7182, 121286.7181, 121286...</td>\n",
              "      <td>[15.3995, 8.1124, 7.7824, 7.7824, 7.7824, 7.78...</td>\n",
              "      <td>[0.0, 2.2399, 0.0, 0.0, 0.0, 0.0, 0.0, 0.0, 0....</td>\n",
              "      <td>[0.0, -0.5083, 0.0, 0.0, 0.0, 0.0, 0.0, 0.0, 0...</td>\n",
              "      <td>[3.4248, 6.8128, 0.0, 0.0, 0.0, 0.0, 0.0, 0.0,...</td>\n",
              "      <td>[0.0, -0.8365, 0.0, 0.0, 0.0, 0.0, 0.0, 0.0, 0...</td>\n",
              "      <td>[7.6692, -1.3223, 0.0, 0.0, 0.0, 0.0, 0.0, 0.0...</td>\n",
              "    </tr>\n",
              "    <tr>\n",
              "      <th>4</th>\n",
              "      <td>4</td>\n",
              "      <td>id_0087940f4</td>\n",
              "      <td>GGAAAAUAUAUAAUAUAUUAUAUAAAUAUAUUAUAGAAGUAUAAUA...</td>\n",
              "      <td>.....(((((((.((((((((((((.(((((((((....)))))))...</td>\n",
              "      <td>EEEEESSSSSSSBSSSSSSSSSSSSBSSSSSSSSSHHHHSSSSSSS...</td>\n",
              "      <td>0.423</td>\n",
              "      <td>0</td>\n",
              "      <td>107</td>\n",
              "      <td>68</td>\n",
              "      <td>[1.665, 2.1728, 2.0041, 1.2405, 0.620200000000...</td>\n",
              "      <td>[4.2139, 3.9637000000000002, 3.2467, 2.4716, 1...</td>\n",
              "      <td>[3.0942, 3.015, 2.1212, 2.0552, 0.881500000000...</td>\n",
              "      <td>[2.6717, 2.4818, 1.9919, 2.5484999999999998, 1...</td>\n",
              "      <td>[1.3285, 3.6173, 1.3057, 1.3021, 1.1507, 1.150...</td>\n",
              "      <td>[0.8267, 2.6577, 2.8481, 0.40090000000000003, ...</td>\n",
              "      <td>[2.1058, 3.138, 2.5437000000000003, 1.0932, 0....</td>\n",
              "      <td>[4.7366, 4.6243, 1.2068, 1.1538, 0.0, 0.0, 0.7...</td>\n",
              "      <td>[2.2052, 1.7947000000000002, 0.7457, 3.1233, 0...</td>\n",
              "      <td>[0.0, 5.1198, -0.3551, -0.3518, 0.0, 0.0, 0.0,...</td>\n",
              "    </tr>\n",
              "  </tbody>\n",
              "</table>\n",
              "</div>"
            ],
            "text/plain": [
              "   index  ...                                            deg_50C\n",
              "0      0  ...  [0.6382, 3.4773, 0.9988, 1.3228, 0.78770000000...\n",
              "1      1  ...  [7.6692, 0.0, 10.9561, 0.0, 0.0, 0.0, 0.0, 0.0...\n",
              "2      2  ...  [0.9501000000000001, 1.7974999999999999, 1.499...\n",
              "3      3  ...  [7.6692, -1.3223, 0.0, 0.0, 0.0, 0.0, 0.0, 0.0...\n",
              "4      4  ...  [0.0, 5.1198, -0.3551, -0.3518, 0.0, 0.0, 0.0,...\n",
              "\n",
              "[5 rows x 19 columns]"
            ]
          },
          "metadata": {
            "tags": []
          },
          "execution_count": 5
        }
      ]
    },
    {
      "cell_type": "code",
      "metadata": {
        "id": "jQlAHQXaqqYt",
        "outputId": "cea26a93-b3ba-4c47-f89f-0b32f6c3b98c",
        "colab": {
          "base_uri": "https://localhost:8080/",
          "height": 459
        }
      },
      "source": [
        "train.info()"
      ],
      "execution_count": null,
      "outputs": [
        {
          "output_type": "stream",
          "text": [
            "<class 'pandas.core.frame.DataFrame'>\n",
            "RangeIndex: 2400 entries, 0 to 2399\n",
            "Data columns (total 19 columns):\n",
            " #   Column               Non-Null Count  Dtype  \n",
            "---  ------               --------------  -----  \n",
            " 0   index                2400 non-null   int64  \n",
            " 1   id                   2400 non-null   object \n",
            " 2   sequence             2400 non-null   object \n",
            " 3   structure            2400 non-null   object \n",
            " 4   predicted_loop_type  2400 non-null   object \n",
            " 5   signal_to_noise      2400 non-null   float64\n",
            " 6   SN_filter            2400 non-null   int64  \n",
            " 7   seq_length           2400 non-null   int64  \n",
            " 8   seq_scored           2400 non-null   int64  \n",
            " 9   reactivity_error     2400 non-null   object \n",
            " 10  deg_error_Mg_pH10    2400 non-null   object \n",
            " 11  deg_error_pH10       2400 non-null   object \n",
            " 12  deg_error_Mg_50C     2400 non-null   object \n",
            " 13  deg_error_50C        2400 non-null   object \n",
            " 14  reactivity           2400 non-null   object \n",
            " 15  deg_Mg_pH10          2400 non-null   object \n",
            " 16  deg_pH10             2400 non-null   object \n",
            " 17  deg_Mg_50C           2400 non-null   object \n",
            " 18  deg_50C              2400 non-null   object \n",
            "dtypes: float64(1), int64(4), object(14)\n",
            "memory usage: 356.4+ KB\n"
          ],
          "name": "stdout"
        }
      ]
    },
    {
      "cell_type": "code",
      "metadata": {
        "id": "OBZak5NewtKP",
        "outputId": "2ffe0c9b-98e1-44f6-e1c6-506bdc5e1777",
        "colab": {
          "base_uri": "https://localhost:8080/",
          "height": 221
        }
      },
      "source": [
        "# columns in train that are not in test\n",
        "\n",
        "set(list(train.columns)) - set(list(test.columns))"
      ],
      "execution_count": null,
      "outputs": [
        {
          "output_type": "execute_result",
          "data": {
            "text/plain": [
              "{'SN_filter',\n",
              " 'deg_50C',\n",
              " 'deg_Mg_50C',\n",
              " 'deg_Mg_pH10',\n",
              " 'deg_error_50C',\n",
              " 'deg_error_Mg_50C',\n",
              " 'deg_error_Mg_pH10',\n",
              " 'deg_error_pH10',\n",
              " 'deg_pH10',\n",
              " 'reactivity',\n",
              " 'reactivity_error',\n",
              " 'signal_to_noise'}"
            ]
          },
          "metadata": {
            "tags": []
          },
          "execution_count": 7
        }
      ]
    },
    {
      "cell_type": "code",
      "metadata": {
        "id": "MaYVRtAUtOR8",
        "outputId": "4425ce0c-bb5d-43ad-a0c9-c7ee8a5e30f7",
        "colab": {
          "base_uri": "https://localhost:8080/",
          "height": 51
        }
      },
      "source": [
        "train[\"seq_length\"].value_counts()"
      ],
      "execution_count": null,
      "outputs": [
        {
          "output_type": "execute_result",
          "data": {
            "text/plain": [
              "107    2400\n",
              "Name: seq_length, dtype: int64"
            ]
          },
          "metadata": {
            "tags": []
          },
          "execution_count": 8
        }
      ]
    },
    {
      "cell_type": "code",
      "metadata": {
        "id": "SSqp1HPrtY6O",
        "outputId": "6adcd395-c67f-417c-baf0-5a859694dedd",
        "colab": {
          "base_uri": "https://localhost:8080/",
          "height": 68
        }
      },
      "source": [
        "test[\"seq_length\"].value_counts()"
      ],
      "execution_count": null,
      "outputs": [
        {
          "output_type": "execute_result",
          "data": {
            "text/plain": [
              "130    3005\n",
              "107     629\n",
              "Name: seq_length, dtype: int64"
            ]
          },
          "metadata": {
            "tags": []
          },
          "execution_count": 9
        }
      ]
    },
    {
      "cell_type": "code",
      "metadata": {
        "id": "xlWey5Lgqwdm",
        "outputId": "0fb8d873-aa54-4094-a490-9112464a78cf",
        "colab": {
          "base_uri": "https://localhost:8080/",
          "height": 51
        }
      },
      "source": [
        "train[\"seq_scored\"].value_counts()"
      ],
      "execution_count": null,
      "outputs": [
        {
          "output_type": "execute_result",
          "data": {
            "text/plain": [
              "68    2400\n",
              "Name: seq_scored, dtype: int64"
            ]
          },
          "metadata": {
            "tags": []
          },
          "execution_count": 10
        }
      ]
    },
    {
      "cell_type": "code",
      "metadata": {
        "id": "A0cTwKv3tbQ4",
        "outputId": "0dbd06f9-2df0-40d7-aa03-f5477f82b622",
        "colab": {
          "base_uri": "https://localhost:8080/",
          "height": 68
        }
      },
      "source": [
        "test[\"seq_scored\"].value_counts()"
      ],
      "execution_count": null,
      "outputs": [
        {
          "output_type": "execute_result",
          "data": {
            "text/plain": [
              "91    3005\n",
              "68     629\n",
              "Name: seq_scored, dtype: int64"
            ]
          },
          "metadata": {
            "tags": []
          },
          "execution_count": 11
        }
      ]
    },
    {
      "cell_type": "code",
      "metadata": {
        "id": "Q927NNiPtMDD",
        "outputId": "5552cd96-b192-4e69-d85e-2362b45f8fc9",
        "colab": {
          "base_uri": "https://localhost:8080/",
          "height": 68
        }
      },
      "source": [
        "train[\"SN_filter\"].value_counts()"
      ],
      "execution_count": null,
      "outputs": [
        {
          "output_type": "execute_result",
          "data": {
            "text/plain": [
              "1    1589\n",
              "0     811\n",
              "Name: SN_filter, dtype: int64"
            ]
          },
          "metadata": {
            "tags": []
          },
          "execution_count": 12
        }
      ]
    },
    {
      "cell_type": "code",
      "metadata": {
        "id": "2_g0swg7s7iC",
        "outputId": "292ac653-50f1-4bb6-f79b-e269ca8cd584",
        "colab": {
          "base_uri": "https://localhost:8080/",
          "height": 265
        }
      },
      "source": [
        "train['signal_to_noise'].plot.hist();"
      ],
      "execution_count": null,
      "outputs": [
        {
          "output_type": "display_data",
          "data": {
            "image/png": "[encoded data removed]",
            "text/plain": [
              "<Figure size 432x288 with 1 Axes>"
            ]
          },
          "metadata": {
            "tags": [],
            "needs_background": "light"
          }
        }
      ]
    },
    {
      "cell_type": "code",
      "metadata": {
        "id": "G0hfd2vUmXWe"
      },
      "source": [
        ""
      ],
      "execution_count": null,
      "outputs": []
    }
  ]
}